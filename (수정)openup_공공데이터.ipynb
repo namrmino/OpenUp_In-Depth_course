{
 "cells": [
  {
   "cell_type": "markdown",
   "metadata": {},
   "source": [
    "# 공공데이터 활용"
   ]
  },
  {
   "cell_type": "markdown",
   "metadata": {},
   "source": [
    "- https://www.data.go.kr/"
   ]
  },
  {
   "cell_type": "markdown",
   "metadata": {},
   "source": [
    "- 사용할 패키지 호출"
   ]
  },
  {
   "cell_type": "code",
   "execution_count": null,
   "metadata": {},
   "outputs": [],
   "source": []
  },
  {
   "cell_type": "markdown",
   "metadata": {},
   "source": [
    "- API이용시 필요한 정보 입력"
   ]
  },
  {
   "cell_type": "code",
   "execution_count": 7,
   "metadata": {},
   "outputs": [],
   "source": [
    "LAWD_CD = \"11110\"\n",
    "DEAL_YMD = \"201512\"\n",
    "serviceKey  = \"MMc9HcZzSMSfwjnS1gBUFHq2Fb6sPHLarVx%2Boi9seEd3qUGzYUR4PhshZS9Sd06k0DNjdHwRdSW1qOLY5psDDw%3D%3D\"\n",
    "url = \"http://openapi.molit.go.kr:8081/OpenAPI_ToolInstallPackage/service/rest/RTMSOBJSvc/getRTMSDataSvcAptTrade?LAWD_CD={}&DEAL_YMD={}&serviceKey={}\".format(LAWD_CD,DEAL_YMD,serviceKey)"
   ]
  },
  {
   "cell_type": "markdown",
   "metadata": {},
   "source": [
    "- 패키지내 함수를 이용해 API 호출\n"
   ]
  },
  {
   "cell_type": "code",
   "execution_count": 8,
   "metadata": {},
   "outputs": [],
   "source": [
    "import urllib\n",
    "from bs4 import BeautifulSoup\n",
    "import requests"
   ]
  },
  {
   "cell_type": "code",
   "execution_count": 9,
   "metadata": {},
   "outputs": [],
   "source": [
    "import pandas as pd\n",
    "import numpy as np"
   ]
  },
  {
   "cell_type": "markdown",
   "metadata": {},
   "source": [
    "## 목표 설정"
   ]
  },
  {
   "cell_type": "code",
   "execution_count": 10,
   "metadata": {},
   "outputs": [],
   "source": [
    "res = urllib.request.urlopen(url)"
   ]
  },
  {
   "cell_type": "code",
   "execution_count": 11,
   "metadata": {},
   "outputs": [],
   "source": [
    "result = res.read()"
   ]
  },
  {
   "cell_type": "code",
   "execution_count": 12,
   "metadata": {},
   "outputs": [],
   "source": [
    "soup = BeautifulSoup(result,\"xml\")"
   ]
  },
  {
   "cell_type": "code",
   "execution_count": 17,
   "metadata": {},
   "outputs": [],
   "source": [
    "items = soup.findAll(\"item\")"
   ]
  },
  {
   "cell_type": "code",
   "execution_count": 30,
   "metadata": {},
   "outputs": [],
   "source": []
  },
  {
   "cell_type": "code",
   "execution_count": 19,
   "metadata": {},
   "outputs": [],
   "source": [
    "keylist = [\"거래금액\",\"건축년도\",\"년\",\"법정동\",\"아파트\",\"월\",\"일\",\"전용면적\",\"지번\",\"지역코드\",\"층\"]"
   ]
  },
  {
   "cell_type": "code",
   "execution_count": 29,
   "metadata": {},
   "outputs": [
    {
     "data": {
      "text/plain": [
       "11"
      ]
     },
     "execution_count": 29,
     "metadata": {},
     "output_type": "execute_result"
    }
   ],
   "source": [
    "len(keylist)"
   ]
  },
  {
   "cell_type": "code",
   "execution_count": 23,
   "metadata": {},
   "outputs": [],
   "source": [
    "itemlist = []"
   ]
  },
  {
   "cell_type": "code",
   "execution_count": 24,
   "metadata": {},
   "outputs": [],
   "source": [
    "for v in items:\n",
    "    item = {}\n",
    "    \n",
    "    for key in keylist:\n",
    "        try:\n",
    "            item[key] = v.find(key).text\n",
    "        except :\n",
    "            item[key] = np.nan\n",
    "    itemlist.append(item)\n"
   ]
  },
  {
   "cell_type": "code",
   "execution_count": 27,
   "metadata": {},
   "outputs": [],
   "source": [
    "df = pd.DataFrame(itemlist)"
   ]
  },
  {
   "cell_type": "code",
   "execution_count": 28,
   "metadata": {},
   "outputs": [
    {
     "data": {
      "text/html": [
       "<div>\n",
       "<style scoped>\n",
       "    .dataframe tbody tr th:only-of-type {\n",
       "        vertical-align: middle;\n",
       "    }\n",
       "\n",
       "    .dataframe tbody tr th {\n",
       "        vertical-align: top;\n",
       "    }\n",
       "\n",
       "    .dataframe thead th {\n",
       "        text-align: right;\n",
       "    }\n",
       "</style>\n",
       "<table border=\"1\" class=\"dataframe\">\n",
       "  <thead>\n",
       "    <tr style=\"text-align: right;\">\n",
       "      <th></th>\n",
       "      <th>거래금액</th>\n",
       "      <th>건축년도</th>\n",
       "      <th>년</th>\n",
       "      <th>법정동</th>\n",
       "      <th>아파트</th>\n",
       "      <th>월</th>\n",
       "      <th>일</th>\n",
       "      <th>전용면적</th>\n",
       "      <th>지번</th>\n",
       "      <th>지역코드</th>\n",
       "      <th>층</th>\n",
       "    </tr>\n",
       "  </thead>\n",
       "  <tbody>\n",
       "    <tr>\n",
       "      <th>0</th>\n",
       "      <td>82,500</td>\n",
       "      <td>2008</td>\n",
       "      <td>2015</td>\n",
       "      <td>사직동</td>\n",
       "      <td>광화문풍림스페이스본(101동~105동)</td>\n",
       "      <td>12</td>\n",
       "      <td>10</td>\n",
       "      <td>94.51</td>\n",
       "      <td>9</td>\n",
       "      <td>11110</td>\n",
       "      <td>11</td>\n",
       "    </tr>\n",
       "    <tr>\n",
       "      <th>1</th>\n",
       "      <td>60,000</td>\n",
       "      <td>1981</td>\n",
       "      <td>2015</td>\n",
       "      <td>당주동</td>\n",
       "      <td>롯데미도파광화문빌딩</td>\n",
       "      <td>12</td>\n",
       "      <td>22</td>\n",
       "      <td>149.95</td>\n",
       "      <td>145</td>\n",
       "      <td>11110</td>\n",
       "      <td>8</td>\n",
       "    </tr>\n",
       "    <tr>\n",
       "      <th>2</th>\n",
       "      <td>130,000</td>\n",
       "      <td>2004</td>\n",
       "      <td>2015</td>\n",
       "      <td>내수동</td>\n",
       "      <td>킹스매너</td>\n",
       "      <td>12</td>\n",
       "      <td>8</td>\n",
       "      <td>194.43</td>\n",
       "      <td>110-15</td>\n",
       "      <td>11110</td>\n",
       "      <td>6</td>\n",
       "    </tr>\n",
       "    <tr>\n",
       "      <th>3</th>\n",
       "      <td>105,000</td>\n",
       "      <td>2004</td>\n",
       "      <td>2015</td>\n",
       "      <td>내수동</td>\n",
       "      <td>경희궁의아침2단지</td>\n",
       "      <td>12</td>\n",
       "      <td>14</td>\n",
       "      <td>124.17</td>\n",
       "      <td>71</td>\n",
       "      <td>11110</td>\n",
       "      <td>8</td>\n",
       "    </tr>\n",
       "    <tr>\n",
       "      <th>4</th>\n",
       "      <td>120,000</td>\n",
       "      <td>2003</td>\n",
       "      <td>2015</td>\n",
       "      <td>내수동</td>\n",
       "      <td>경희궁 파크팰리스</td>\n",
       "      <td>12</td>\n",
       "      <td>24</td>\n",
       "      <td>146.33</td>\n",
       "      <td>95</td>\n",
       "      <td>11110</td>\n",
       "      <td>4</td>\n",
       "    </tr>\n",
       "    <tr>\n",
       "      <th>5</th>\n",
       "      <td>17,000</td>\n",
       "      <td>2014</td>\n",
       "      <td>2015</td>\n",
       "      <td>연건동</td>\n",
       "      <td>이화에수풀</td>\n",
       "      <td>12</td>\n",
       "      <td>17</td>\n",
       "      <td>16.98</td>\n",
       "      <td>195-10</td>\n",
       "      <td>11110</td>\n",
       "      <td>8</td>\n",
       "    </tr>\n",
       "    <tr>\n",
       "      <th>6</th>\n",
       "      <td>17,000</td>\n",
       "      <td>2014</td>\n",
       "      <td>2015</td>\n",
       "      <td>연건동</td>\n",
       "      <td>이화에수풀</td>\n",
       "      <td>12</td>\n",
       "      <td>18</td>\n",
       "      <td>16.98</td>\n",
       "      <td>195-10</td>\n",
       "      <td>11110</td>\n",
       "      <td>4</td>\n",
       "    </tr>\n",
       "    <tr>\n",
       "      <th>7</th>\n",
       "      <td>57,000</td>\n",
       "      <td>2006</td>\n",
       "      <td>2015</td>\n",
       "      <td>명륜1가</td>\n",
       "      <td>렉스빌</td>\n",
       "      <td>12</td>\n",
       "      <td>29</td>\n",
       "      <td>106.98</td>\n",
       "      <td>19</td>\n",
       "      <td>11110</td>\n",
       "      <td>3</td>\n",
       "    </tr>\n",
       "    <tr>\n",
       "      <th>8</th>\n",
       "      <td>44,000</td>\n",
       "      <td>1995</td>\n",
       "      <td>2015</td>\n",
       "      <td>명륜2가</td>\n",
       "      <td>아남1</td>\n",
       "      <td>12</td>\n",
       "      <td>1</td>\n",
       "      <td>84.8</td>\n",
       "      <td>4</td>\n",
       "      <td>11110</td>\n",
       "      <td>18</td>\n",
       "    </tr>\n",
       "    <tr>\n",
       "      <th>9</th>\n",
       "      <td>52,000</td>\n",
       "      <td>1995</td>\n",
       "      <td>2015</td>\n",
       "      <td>명륜2가</td>\n",
       "      <td>아남1</td>\n",
       "      <td>12</td>\n",
       "      <td>10</td>\n",
       "      <td>84.9</td>\n",
       "      <td>4</td>\n",
       "      <td>11110</td>\n",
       "      <td>12</td>\n",
       "    </tr>\n",
       "    <tr>\n",
       "      <th>10</th>\n",
       "      <td>49,800</td>\n",
       "      <td>1995</td>\n",
       "      <td>2015</td>\n",
       "      <td>명륜2가</td>\n",
       "      <td>아남1</td>\n",
       "      <td>12</td>\n",
       "      <td>19</td>\n",
       "      <td>84.8</td>\n",
       "      <td>4</td>\n",
       "      <td>11110</td>\n",
       "      <td>1</td>\n",
       "    </tr>\n",
       "    <tr>\n",
       "      <th>11</th>\n",
       "      <td>41,000</td>\n",
       "      <td>1999</td>\n",
       "      <td>2015</td>\n",
       "      <td>명륜2가</td>\n",
       "      <td>아남3</td>\n",
       "      <td>12</td>\n",
       "      <td>19</td>\n",
       "      <td>61.13</td>\n",
       "      <td>237</td>\n",
       "      <td>11110</td>\n",
       "      <td>7</td>\n",
       "    </tr>\n",
       "    <tr>\n",
       "      <th>12</th>\n",
       "      <td>41,000</td>\n",
       "      <td>1999</td>\n",
       "      <td>2015</td>\n",
       "      <td>창신동</td>\n",
       "      <td>두산</td>\n",
       "      <td>12</td>\n",
       "      <td>2</td>\n",
       "      <td>59.95</td>\n",
       "      <td>232</td>\n",
       "      <td>11110</td>\n",
       "      <td>9</td>\n",
       "    </tr>\n",
       "    <tr>\n",
       "      <th>13</th>\n",
       "      <td>19,500</td>\n",
       "      <td>1966</td>\n",
       "      <td>2015</td>\n",
       "      <td>창신동</td>\n",
       "      <td>동대문</td>\n",
       "      <td>12</td>\n",
       "      <td>3</td>\n",
       "      <td>28.8</td>\n",
       "      <td>328-17</td>\n",
       "      <td>11110</td>\n",
       "      <td>6</td>\n",
       "    </tr>\n",
       "    <tr>\n",
       "      <th>14</th>\n",
       "      <td>39,900</td>\n",
       "      <td>2003</td>\n",
       "      <td>2015</td>\n",
       "      <td>창신동</td>\n",
       "      <td>창신이수</td>\n",
       "      <td>12</td>\n",
       "      <td>3</td>\n",
       "      <td>68.06</td>\n",
       "      <td>23-816</td>\n",
       "      <td>11110</td>\n",
       "      <td>8</td>\n",
       "    </tr>\n",
       "    <tr>\n",
       "      <th>15</th>\n",
       "      <td>20,800</td>\n",
       "      <td>1966</td>\n",
       "      <td>2015</td>\n",
       "      <td>창신동</td>\n",
       "      <td>동대문</td>\n",
       "      <td>12</td>\n",
       "      <td>7</td>\n",
       "      <td>28.8</td>\n",
       "      <td>328-17</td>\n",
       "      <td>11110</td>\n",
       "      <td>3</td>\n",
       "    </tr>\n",
       "    <tr>\n",
       "      <th>16</th>\n",
       "      <td>27,200</td>\n",
       "      <td>1993</td>\n",
       "      <td>2015</td>\n",
       "      <td>창신동</td>\n",
       "      <td>창신쌍용2</td>\n",
       "      <td>12</td>\n",
       "      <td>7</td>\n",
       "      <td>64.66</td>\n",
       "      <td>703</td>\n",
       "      <td>11110</td>\n",
       "      <td>3</td>\n",
       "    </tr>\n",
       "    <tr>\n",
       "      <th>17</th>\n",
       "      <td>39,000</td>\n",
       "      <td>1999</td>\n",
       "      <td>2015</td>\n",
       "      <td>창신동</td>\n",
       "      <td>두산</td>\n",
       "      <td>12</td>\n",
       "      <td>10</td>\n",
       "      <td>59.95</td>\n",
       "      <td>232</td>\n",
       "      <td>11110</td>\n",
       "      <td>14</td>\n",
       "    </tr>\n",
       "    <tr>\n",
       "      <th>18</th>\n",
       "      <td>39,950</td>\n",
       "      <td>1993</td>\n",
       "      <td>2015</td>\n",
       "      <td>창신동</td>\n",
       "      <td>창신쌍용2</td>\n",
       "      <td>12</td>\n",
       "      <td>11</td>\n",
       "      <td>115.53</td>\n",
       "      <td>703</td>\n",
       "      <td>11110</td>\n",
       "      <td>2</td>\n",
       "    </tr>\n",
       "    <tr>\n",
       "      <th>19</th>\n",
       "      <td>34,500</td>\n",
       "      <td>1992</td>\n",
       "      <td>2015</td>\n",
       "      <td>창신동</td>\n",
       "      <td>창신쌍용1</td>\n",
       "      <td>12</td>\n",
       "      <td>12</td>\n",
       "      <td>79.87</td>\n",
       "      <td>702</td>\n",
       "      <td>11110</td>\n",
       "      <td>5</td>\n",
       "    </tr>\n",
       "    <tr>\n",
       "      <th>20</th>\n",
       "      <td>37,000</td>\n",
       "      <td>1992</td>\n",
       "      <td>2015</td>\n",
       "      <td>창신동</td>\n",
       "      <td>창신쌍용1</td>\n",
       "      <td>12</td>\n",
       "      <td>14</td>\n",
       "      <td>79.87</td>\n",
       "      <td>702</td>\n",
       "      <td>11110</td>\n",
       "      <td>3</td>\n",
       "    </tr>\n",
       "    <tr>\n",
       "      <th>21</th>\n",
       "      <td>42,800</td>\n",
       "      <td>1992</td>\n",
       "      <td>2015</td>\n",
       "      <td>창신동</td>\n",
       "      <td>창신쌍용1</td>\n",
       "      <td>12</td>\n",
       "      <td>22</td>\n",
       "      <td>106.62</td>\n",
       "      <td>702</td>\n",
       "      <td>11110</td>\n",
       "      <td>12</td>\n",
       "    </tr>\n",
       "    <tr>\n",
       "      <th>22</th>\n",
       "      <td>37,300</td>\n",
       "      <td>1992</td>\n",
       "      <td>2015</td>\n",
       "      <td>창신동</td>\n",
       "      <td>창신쌍용1</td>\n",
       "      <td>12</td>\n",
       "      <td>23</td>\n",
       "      <td>79.87</td>\n",
       "      <td>702</td>\n",
       "      <td>11110</td>\n",
       "      <td>9</td>\n",
       "    </tr>\n",
       "    <tr>\n",
       "      <th>23</th>\n",
       "      <td>50,000</td>\n",
       "      <td>1999</td>\n",
       "      <td>2015</td>\n",
       "      <td>창신동</td>\n",
       "      <td>두산</td>\n",
       "      <td>12</td>\n",
       "      <td>24</td>\n",
       "      <td>84.9</td>\n",
       "      <td>232</td>\n",
       "      <td>11110</td>\n",
       "      <td>4</td>\n",
       "    </tr>\n",
       "    <tr>\n",
       "      <th>24</th>\n",
       "      <td>12,300</td>\n",
       "      <td>2013</td>\n",
       "      <td>2015</td>\n",
       "      <td>숭인동</td>\n",
       "      <td>종로아인스빌</td>\n",
       "      <td>12</td>\n",
       "      <td>2</td>\n",
       "      <td>12.15</td>\n",
       "      <td>1392-1</td>\n",
       "      <td>11110</td>\n",
       "      <td>10</td>\n",
       "    </tr>\n",
       "    <tr>\n",
       "      <th>25</th>\n",
       "      <td>52,000</td>\n",
       "      <td>2009</td>\n",
       "      <td>2015</td>\n",
       "      <td>숭인동</td>\n",
       "      <td>종로청계힐스테이트</td>\n",
       "      <td>12</td>\n",
       "      <td>3</td>\n",
       "      <td>84.9478</td>\n",
       "      <td>766</td>\n",
       "      <td>11110</td>\n",
       "      <td>19</td>\n",
       "    </tr>\n",
       "    <tr>\n",
       "      <th>26</th>\n",
       "      <td>42,500</td>\n",
       "      <td>2009</td>\n",
       "      <td>2015</td>\n",
       "      <td>숭인동</td>\n",
       "      <td>종로청계힐스테이트</td>\n",
       "      <td>12</td>\n",
       "      <td>5</td>\n",
       "      <td>59.9426</td>\n",
       "      <td>766</td>\n",
       "      <td>11110</td>\n",
       "      <td>2</td>\n",
       "    </tr>\n",
       "    <tr>\n",
       "      <th>27</th>\n",
       "      <td>53,300</td>\n",
       "      <td>2008</td>\n",
       "      <td>2015</td>\n",
       "      <td>숭인동</td>\n",
       "      <td>종로센트레빌</td>\n",
       "      <td>12</td>\n",
       "      <td>5</td>\n",
       "      <td>84.92</td>\n",
       "      <td>2-1</td>\n",
       "      <td>11110</td>\n",
       "      <td>10</td>\n",
       "    </tr>\n",
       "    <tr>\n",
       "      <th>28</th>\n",
       "      <td>13,000</td>\n",
       "      <td>2014</td>\n",
       "      <td>2015</td>\n",
       "      <td>숭인동</td>\n",
       "      <td>삼전솔하임4차</td>\n",
       "      <td>12</td>\n",
       "      <td>8</td>\n",
       "      <td>15.09</td>\n",
       "      <td>318-2</td>\n",
       "      <td>11110</td>\n",
       "      <td>15</td>\n",
       "    </tr>\n",
       "    <tr>\n",
       "      <th>29</th>\n",
       "      <td>11,500</td>\n",
       "      <td>2014</td>\n",
       "      <td>2015</td>\n",
       "      <td>숭인동</td>\n",
       "      <td>숭인한양LEEPS</td>\n",
       "      <td>12</td>\n",
       "      <td>8</td>\n",
       "      <td>12.78</td>\n",
       "      <td>1421-2</td>\n",
       "      <td>11110</td>\n",
       "      <td>10</td>\n",
       "    </tr>\n",
       "    <tr>\n",
       "      <th>30</th>\n",
       "      <td>27,000</td>\n",
       "      <td>1997</td>\n",
       "      <td>2015</td>\n",
       "      <td>숭인동</td>\n",
       "      <td>동문 (비동,씨동) (494-0)</td>\n",
       "      <td>12</td>\n",
       "      <td>9</td>\n",
       "      <td>59.94</td>\n",
       "      <td>494</td>\n",
       "      <td>11110</td>\n",
       "      <td>3</td>\n",
       "    </tr>\n",
       "    <tr>\n",
       "      <th>31</th>\n",
       "      <td>44,900</td>\n",
       "      <td>2009</td>\n",
       "      <td>2015</td>\n",
       "      <td>숭인동</td>\n",
       "      <td>종로청계힐스테이트</td>\n",
       "      <td>12</td>\n",
       "      <td>14</td>\n",
       "      <td>59.9426</td>\n",
       "      <td>766</td>\n",
       "      <td>11110</td>\n",
       "      <td>12</td>\n",
       "    </tr>\n",
       "    <tr>\n",
       "      <th>32</th>\n",
       "      <td>11,900</td>\n",
       "      <td>2014</td>\n",
       "      <td>2015</td>\n",
       "      <td>숭인동</td>\n",
       "      <td>숭인한양LEEPS</td>\n",
       "      <td>12</td>\n",
       "      <td>14</td>\n",
       "      <td>12.78</td>\n",
       "      <td>1421-2</td>\n",
       "      <td>11110</td>\n",
       "      <td>11</td>\n",
       "    </tr>\n",
       "    <tr>\n",
       "      <th>33</th>\n",
       "      <td>10,000</td>\n",
       "      <td>2013</td>\n",
       "      <td>2015</td>\n",
       "      <td>숭인동</td>\n",
       "      <td>주건축물제1동</td>\n",
       "      <td>12</td>\n",
       "      <td>15</td>\n",
       "      <td>14.48</td>\n",
       "      <td>1392</td>\n",
       "      <td>11110</td>\n",
       "      <td>14</td>\n",
       "    </tr>\n",
       "    <tr>\n",
       "      <th>34</th>\n",
       "      <td>10,500</td>\n",
       "      <td>2013</td>\n",
       "      <td>2015</td>\n",
       "      <td>숭인동</td>\n",
       "      <td>주건축물제1동</td>\n",
       "      <td>12</td>\n",
       "      <td>15</td>\n",
       "      <td>15.76</td>\n",
       "      <td>1392</td>\n",
       "      <td>11110</td>\n",
       "      <td>13</td>\n",
       "    </tr>\n",
       "    <tr>\n",
       "      <th>35</th>\n",
       "      <td>42,500</td>\n",
       "      <td>2008</td>\n",
       "      <td>2015</td>\n",
       "      <td>숭인동</td>\n",
       "      <td>종로센트레빌</td>\n",
       "      <td>12</td>\n",
       "      <td>19</td>\n",
       "      <td>59.92</td>\n",
       "      <td>2-1</td>\n",
       "      <td>11110</td>\n",
       "      <td>12</td>\n",
       "    </tr>\n",
       "    <tr>\n",
       "      <th>36</th>\n",
       "      <td>39,700</td>\n",
       "      <td>2008</td>\n",
       "      <td>2015</td>\n",
       "      <td>숭인동</td>\n",
       "      <td>종로센트레빌</td>\n",
       "      <td>12</td>\n",
       "      <td>22</td>\n",
       "      <td>59.92</td>\n",
       "      <td>2-1</td>\n",
       "      <td>11110</td>\n",
       "      <td>1</td>\n",
       "    </tr>\n",
       "    <tr>\n",
       "      <th>37</th>\n",
       "      <td>52,300</td>\n",
       "      <td>2008</td>\n",
       "      <td>2015</td>\n",
       "      <td>숭인동</td>\n",
       "      <td>종로센트레빌</td>\n",
       "      <td>12</td>\n",
       "      <td>26</td>\n",
       "      <td>84.92</td>\n",
       "      <td>2-1</td>\n",
       "      <td>11110</td>\n",
       "      <td>12</td>\n",
       "    </tr>\n",
       "    <tr>\n",
       "      <th>38</th>\n",
       "      <td>52,500</td>\n",
       "      <td>2009</td>\n",
       "      <td>2015</td>\n",
       "      <td>숭인동</td>\n",
       "      <td>종로청계힐스테이트</td>\n",
       "      <td>12</td>\n",
       "      <td>31</td>\n",
       "      <td>84.9478</td>\n",
       "      <td>766</td>\n",
       "      <td>11110</td>\n",
       "      <td>11</td>\n",
       "    </tr>\n",
       "    <tr>\n",
       "      <th>39</th>\n",
       "      <td>10,800</td>\n",
       "      <td>2013</td>\n",
       "      <td>2015</td>\n",
       "      <td>숭인동</td>\n",
       "      <td>종로유케이201</td>\n",
       "      <td>12</td>\n",
       "      <td>31</td>\n",
       "      <td>12.01</td>\n",
       "      <td>201-11</td>\n",
       "      <td>11110</td>\n",
       "      <td>7</td>\n",
       "    </tr>\n",
       "    <tr>\n",
       "      <th>40</th>\n",
       "      <td>44,600</td>\n",
       "      <td>1995</td>\n",
       "      <td>2015</td>\n",
       "      <td>교북동</td>\n",
       "      <td>동아</td>\n",
       "      <td>12</td>\n",
       "      <td>7</td>\n",
       "      <td>84.28</td>\n",
       "      <td>101</td>\n",
       "      <td>11110</td>\n",
       "      <td>10</td>\n",
       "    </tr>\n",
       "    <tr>\n",
       "      <th>41</th>\n",
       "      <td>115,000</td>\n",
       "      <td>2004</td>\n",
       "      <td>2015</td>\n",
       "      <td>평창동</td>\n",
       "      <td>벽산블루밍평창힐스</td>\n",
       "      <td>12</td>\n",
       "      <td>2</td>\n",
       "      <td>210.53</td>\n",
       "      <td>45</td>\n",
       "      <td>11110</td>\n",
       "      <td>2</td>\n",
       "    </tr>\n",
       "    <tr>\n",
       "      <th>42</th>\n",
       "      <td>164,500</td>\n",
       "      <td>2009</td>\n",
       "      <td>2015</td>\n",
       "      <td>평창동</td>\n",
       "      <td>롯데캐슬 로잔</td>\n",
       "      <td>12</td>\n",
       "      <td>3</td>\n",
       "      <td>219.775</td>\n",
       "      <td>108</td>\n",
       "      <td>11110</td>\n",
       "      <td>3</td>\n",
       "    </tr>\n",
       "    <tr>\n",
       "      <th>43</th>\n",
       "      <td>31,500</td>\n",
       "      <td>1998</td>\n",
       "      <td>2015</td>\n",
       "      <td>평창동</td>\n",
       "      <td>삼성</td>\n",
       "      <td>12</td>\n",
       "      <td>6</td>\n",
       "      <td>59.97</td>\n",
       "      <td>596</td>\n",
       "      <td>11110</td>\n",
       "      <td>9</td>\n",
       "    </tr>\n",
       "    <tr>\n",
       "      <th>44</th>\n",
       "      <td>39,490</td>\n",
       "      <td>2000</td>\n",
       "      <td>2015</td>\n",
       "      <td>무악동</td>\n",
       "      <td>현대</td>\n",
       "      <td>12</td>\n",
       "      <td>12</td>\n",
       "      <td>60</td>\n",
       "      <td>82</td>\n",
       "      <td>11110</td>\n",
       "      <td>15</td>\n",
       "    </tr>\n",
       "    <tr>\n",
       "      <th>45</th>\n",
       "      <td>63,490</td>\n",
       "      <td>2000</td>\n",
       "      <td>2015</td>\n",
       "      <td>무악동</td>\n",
       "      <td>현대</td>\n",
       "      <td>12</td>\n",
       "      <td>15</td>\n",
       "      <td>114.9</td>\n",
       "      <td>82</td>\n",
       "      <td>11110</td>\n",
       "      <td>6</td>\n",
       "    </tr>\n",
       "    <tr>\n",
       "      <th>46</th>\n",
       "      <td>62,000</td>\n",
       "      <td>2008</td>\n",
       "      <td>2015</td>\n",
       "      <td>무악동</td>\n",
       "      <td>인왕산아이파크</td>\n",
       "      <td>12</td>\n",
       "      <td>16</td>\n",
       "      <td>84.858</td>\n",
       "      <td>60</td>\n",
       "      <td>11110</td>\n",
       "      <td>5</td>\n",
       "    </tr>\n",
       "    <tr>\n",
       "      <th>47</th>\n",
       "      <td>63,400</td>\n",
       "      <td>2015</td>\n",
       "      <td>2015</td>\n",
       "      <td>무악동</td>\n",
       "      <td>인왕산2차아이파크</td>\n",
       "      <td>12</td>\n",
       "      <td>22</td>\n",
       "      <td>84.0284</td>\n",
       "      <td>88</td>\n",
       "      <td>11110</td>\n",
       "      <td>10</td>\n",
       "    </tr>\n",
       "    <tr>\n",
       "      <th>48</th>\n",
       "      <td>61,000</td>\n",
       "      <td>2008</td>\n",
       "      <td>2015</td>\n",
       "      <td>무악동</td>\n",
       "      <td>인왕산아이파크</td>\n",
       "      <td>12</td>\n",
       "      <td>25</td>\n",
       "      <td>84.858</td>\n",
       "      <td>60</td>\n",
       "      <td>11110</td>\n",
       "      <td>13</td>\n",
       "    </tr>\n",
       "  </tbody>\n",
       "</table>\n",
       "</div>"
      ],
      "text/plain": [
       "          거래금액  건축년도     년    법정동                    아파트   월   일     전용면적  \\\n",
       "0       82,500  2008  2015    사직동  광화문풍림스페이스본(101동~105동)  12  10    94.51   \n",
       "1       60,000  1981  2015    당주동             롯데미도파광화문빌딩  12  22   149.95   \n",
       "2      130,000  2004  2015    내수동                   킹스매너  12   8   194.43   \n",
       "3      105,000  2004  2015    내수동              경희궁의아침2단지  12  14   124.17   \n",
       "4      120,000  2003  2015    내수동              경희궁 파크팰리스  12  24   146.33   \n",
       "5       17,000  2014  2015    연건동                  이화에수풀  12  17    16.98   \n",
       "6       17,000  2014  2015    연건동                  이화에수풀  12  18    16.98   \n",
       "7       57,000  2006  2015   명륜1가                    렉스빌  12  29   106.98   \n",
       "8       44,000  1995  2015   명륜2가                    아남1  12   1     84.8   \n",
       "9       52,000  1995  2015   명륜2가                    아남1  12  10     84.9   \n",
       "10      49,800  1995  2015   명륜2가                    아남1  12  19     84.8   \n",
       "11      41,000  1999  2015   명륜2가                    아남3  12  19    61.13   \n",
       "12      41,000  1999  2015    창신동                     두산  12   2    59.95   \n",
       "13      19,500  1966  2015    창신동                    동대문  12   3     28.8   \n",
       "14      39,900  2003  2015    창신동                   창신이수  12   3    68.06   \n",
       "15      20,800  1966  2015    창신동                    동대문  12   7     28.8   \n",
       "16      27,200  1993  2015    창신동                  창신쌍용2  12   7    64.66   \n",
       "17      39,000  1999  2015    창신동                     두산  12  10    59.95   \n",
       "18      39,950  1993  2015    창신동                  창신쌍용2  12  11   115.53   \n",
       "19      34,500  1992  2015    창신동                  창신쌍용1  12  12    79.87   \n",
       "20      37,000  1992  2015    창신동                  창신쌍용1  12  14    79.87   \n",
       "21      42,800  1992  2015    창신동                  창신쌍용1  12  22   106.62   \n",
       "22      37,300  1992  2015    창신동                  창신쌍용1  12  23    79.87   \n",
       "23      50,000  1999  2015    창신동                     두산  12  24     84.9   \n",
       "24      12,300  2013  2015    숭인동                 종로아인스빌  12   2    12.15   \n",
       "25      52,000  2009  2015    숭인동              종로청계힐스테이트  12   3  84.9478   \n",
       "26      42,500  2009  2015    숭인동              종로청계힐스테이트  12   5  59.9426   \n",
       "27      53,300  2008  2015    숭인동                 종로센트레빌  12   5    84.92   \n",
       "28      13,000  2014  2015    숭인동                삼전솔하임4차  12   8    15.09   \n",
       "29      11,500  2014  2015    숭인동              숭인한양LEEPS  12   8    12.78   \n",
       "30      27,000  1997  2015    숭인동     동문 (비동,씨동) (494-0)  12   9    59.94   \n",
       "31      44,900  2009  2015    숭인동              종로청계힐스테이트  12  14  59.9426   \n",
       "32      11,900  2014  2015    숭인동              숭인한양LEEPS  12  14    12.78   \n",
       "33      10,000  2013  2015    숭인동                주건축물제1동  12  15    14.48   \n",
       "34      10,500  2013  2015    숭인동                주건축물제1동  12  15    15.76   \n",
       "35      42,500  2008  2015    숭인동                 종로센트레빌  12  19    59.92   \n",
       "36      39,700  2008  2015    숭인동                 종로센트레빌  12  22    59.92   \n",
       "37      52,300  2008  2015    숭인동                 종로센트레빌  12  26    84.92   \n",
       "38      52,500  2009  2015    숭인동              종로청계힐스테이트  12  31  84.9478   \n",
       "39      10,800  2013  2015    숭인동               종로유케이201  12  31    12.01   \n",
       "40      44,600  1995  2015    교북동                     동아  12   7    84.28   \n",
       "41     115,000  2004  2015    평창동              벽산블루밍평창힐스  12   2   210.53   \n",
       "42     164,500  2009  2015    평창동                롯데캐슬 로잔  12   3  219.775   \n",
       "43      31,500  1998  2015    평창동                     삼성  12   6    59.97   \n",
       "44      39,490  2000  2015    무악동                     현대  12  12       60   \n",
       "45      63,490  2000  2015    무악동                     현대  12  15    114.9   \n",
       "46      62,000  2008  2015    무악동                인왕산아이파크  12  16   84.858   \n",
       "47      63,400  2015  2015    무악동              인왕산2차아이파크  12  22  84.0284   \n",
       "48      61,000  2008  2015    무악동                인왕산아이파크  12  25   84.858   \n",
       "\n",
       "        지번   지역코드   층  \n",
       "0        9  11110  11  \n",
       "1      145  11110   8  \n",
       "2   110-15  11110   6  \n",
       "3       71  11110   8  \n",
       "4       95  11110   4  \n",
       "5   195-10  11110   8  \n",
       "6   195-10  11110   4  \n",
       "7       19  11110   3  \n",
       "8        4  11110  18  \n",
       "9        4  11110  12  \n",
       "10       4  11110   1  \n",
       "11     237  11110   7  \n",
       "12     232  11110   9  \n",
       "13  328-17  11110   6  \n",
       "14  23-816  11110   8  \n",
       "15  328-17  11110   3  \n",
       "16     703  11110   3  \n",
       "17     232  11110  14  \n",
       "18     703  11110   2  \n",
       "19     702  11110   5  \n",
       "20     702  11110   3  \n",
       "21     702  11110  12  \n",
       "22     702  11110   9  \n",
       "23     232  11110   4  \n",
       "24  1392-1  11110  10  \n",
       "25     766  11110  19  \n",
       "26     766  11110   2  \n",
       "27     2-1  11110  10  \n",
       "28   318-2  11110  15  \n",
       "29  1421-2  11110  10  \n",
       "30     494  11110   3  \n",
       "31     766  11110  12  \n",
       "32  1421-2  11110  11  \n",
       "33    1392  11110  14  \n",
       "34    1392  11110  13  \n",
       "35     2-1  11110  12  \n",
       "36     2-1  11110   1  \n",
       "37     2-1  11110  12  \n",
       "38     766  11110  11  \n",
       "39  201-11  11110   7  \n",
       "40     101  11110  10  \n",
       "41      45  11110   2  \n",
       "42     108  11110   3  \n",
       "43     596  11110   9  \n",
       "44      82  11110  15  \n",
       "45      82  11110   6  \n",
       "46      60  11110   5  \n",
       "47      88  11110  10  \n",
       "48      60  11110  13  "
      ]
     },
     "execution_count": 28,
     "metadata": {},
     "output_type": "execute_result"
    }
   ],
   "source": [
    "df"
   ]
  },
  {
   "cell_type": "markdown",
   "metadata": {},
   "source": [
    "## 데이터 탐색"
   ]
  },
  {
   "cell_type": "markdown",
   "metadata": {},
   "source": [
    "- 각 컬럼의 데이터 타입을 확인"
   ]
  },
  {
   "cell_type": "code",
   "execution_count": 33,
   "metadata": {},
   "outputs": [],
   "source": [
    "df  = pd.read_csv(\"./data/openup_apt_seoul_df.xls\",nrows=10000)"
   ]
  },
  {
   "cell_type": "markdown",
   "metadata": {},
   "source": [
    "- 각 컬럼별 결측치를 확인"
   ]
  },
  {
   "cell_type": "code",
   "execution_count": 34,
   "metadata": {},
   "outputs": [
    {
     "data": {
      "text/plain": [
       "Unnamed: 0        0\n",
       "LAWD_CD           0\n",
       "DEAL_YM           0\n",
       "거래금액              0\n",
       "건축년도              0\n",
       "년                 0\n",
       "월                 0\n",
       "일                 0\n",
       "법정동               0\n",
       "아파트               0\n",
       "전용면적              0\n",
       "지번              216\n",
       "지역코드              0\n",
       "층                 0\n",
       "단지총세대수            0\n",
       "총동수               0\n",
       "총주차대수         51403\n",
       "용적율           11840\n",
       "건폐율           15621\n",
       "local1            0\n",
       "local2            0\n",
       "local3            0\n",
       "dtype: int64"
      ]
     },
     "execution_count": 34,
     "metadata": {},
     "output_type": "execute_result"
    }
   ],
   "source": [
    "df.isnull().sum()"
   ]
  },
  {
   "cell_type": "markdown",
   "metadata": {},
   "source": [
    "- 동일한 정보를 보유하고 있는 컬럼이 있는지 확인"
   ]
  },
  {
   "cell_type": "code",
   "execution_count": 39,
   "metadata": {},
   "outputs": [
    {
     "data": {
      "text/html": [
       "<div>\n",
       "<style scoped>\n",
       "    .dataframe tbody tr th:only-of-type {\n",
       "        vertical-align: middle;\n",
       "    }\n",
       "\n",
       "    .dataframe tbody tr th {\n",
       "        vertical-align: top;\n",
       "    }\n",
       "\n",
       "    .dataframe thead th {\n",
       "        text-align: right;\n",
       "    }\n",
       "</style>\n",
       "<table border=\"1\" class=\"dataframe\">\n",
       "  <thead>\n",
       "    <tr style=\"text-align: right;\">\n",
       "      <th></th>\n",
       "      <th>LAWD_CD</th>\n",
       "      <th>DEAL_YM</th>\n",
       "      <th>거래금액</th>\n",
       "      <th>건축년도</th>\n",
       "      <th>년</th>\n",
       "      <th>월</th>\n",
       "      <th>일</th>\n",
       "      <th>법정동</th>\n",
       "      <th>아파트</th>\n",
       "      <th>전용면적</th>\n",
       "      <th>...</th>\n",
       "      <th>지역코드</th>\n",
       "      <th>층</th>\n",
       "      <th>단지총세대수</th>\n",
       "      <th>총동수</th>\n",
       "      <th>총주차대수</th>\n",
       "      <th>용적율</th>\n",
       "      <th>건폐율</th>\n",
       "      <th>local1</th>\n",
       "      <th>local2</th>\n",
       "      <th>local3</th>\n",
       "    </tr>\n",
       "  </thead>\n",
       "  <tbody>\n",
       "    <tr>\n",
       "      <th>0</th>\n",
       "      <td>11110</td>\n",
       "      <td>200601</td>\n",
       "      <td>29500</td>\n",
       "      <td>1983.0</td>\n",
       "      <td>2006</td>\n",
       "      <td>1</td>\n",
       "      <td>17</td>\n",
       "      <td>당주동</td>\n",
       "      <td>세종</td>\n",
       "      <td>93.4</td>\n",
       "      <td>...</td>\n",
       "      <td>11110</td>\n",
       "      <td>6</td>\n",
       "      <td>72.0</td>\n",
       "      <td>1.0</td>\n",
       "      <td>121.0</td>\n",
       "      <td>0.0</td>\n",
       "      <td>0.0</td>\n",
       "      <td>서울특별시</td>\n",
       "      <td>종로구</td>\n",
       "      <td>당주동</td>\n",
       "    </tr>\n",
       "  </tbody>\n",
       "</table>\n",
       "<p>1 rows × 21 columns</p>\n",
       "</div>"
      ],
      "text/plain": [
       "   LAWD_CD  DEAL_YM   거래금액    건축년도     년  월   일  법정동 아파트  전용면적  ...   지역코드  층  \\\n",
       "0    11110   200601  29500  1983.0  2006  1  17  당주동  세종  93.4  ...  11110  6   \n",
       "\n",
       "   단지총세대수  총동수  총주차대수  용적율  건폐율  local1 local2 local3  \n",
       "0    72.0  1.0  121.0  0.0  0.0   서울특별시    종로구    당주동  \n",
       "\n",
       "[1 rows x 21 columns]"
      ]
     },
     "execution_count": 39,
     "metadata": {},
     "output_type": "execute_result"
    }
   ],
   "source": [
    "df.head(1)"
   ]
  },
  {
   "cell_type": "code",
   "execution_count": 36,
   "metadata": {},
   "outputs": [],
   "source": [
    "del df[\"Unnamed: 0\"]"
   ]
  },
  {
   "cell_type": "code",
   "execution_count": 40,
   "metadata": {},
   "outputs": [
    {
     "data": {
      "text/html": [
       "<style>.container { width:100% !important; }</style>"
      ],
      "text/plain": [
       "<IPython.core.display.HTML object>"
      ]
     },
     "metadata": {},
     "output_type": "display_data"
    }
   ],
   "source": [
    "from IPython.core.display import display, HTML\n",
    "display(HTML(\"<style>.container { width:100% !important; }</style>\"))\n",
    "pd.set_option('display.max_rows', 100)\n",
    "pd.set_option('display.max_columns', None)"
   ]
  },
  {
   "cell_type": "code",
   "execution_count": 41,
   "metadata": {},
   "outputs": [
    {
     "data": {
      "text/html": [
       "<div>\n",
       "<style scoped>\n",
       "    .dataframe tbody tr th:only-of-type {\n",
       "        vertical-align: middle;\n",
       "    }\n",
       "\n",
       "    .dataframe tbody tr th {\n",
       "        vertical-align: top;\n",
       "    }\n",
       "\n",
       "    .dataframe thead th {\n",
       "        text-align: right;\n",
       "    }\n",
       "</style>\n",
       "<table border=\"1\" class=\"dataframe\">\n",
       "  <thead>\n",
       "    <tr style=\"text-align: right;\">\n",
       "      <th></th>\n",
       "      <th>LAWD_CD</th>\n",
       "      <th>DEAL_YM</th>\n",
       "      <th>거래금액</th>\n",
       "      <th>건축년도</th>\n",
       "      <th>년</th>\n",
       "      <th>월</th>\n",
       "      <th>일</th>\n",
       "      <th>법정동</th>\n",
       "      <th>아파트</th>\n",
       "      <th>전용면적</th>\n",
       "      <th>지번</th>\n",
       "      <th>지역코드</th>\n",
       "      <th>층</th>\n",
       "      <th>단지총세대수</th>\n",
       "      <th>총동수</th>\n",
       "      <th>총주차대수</th>\n",
       "      <th>용적율</th>\n",
       "      <th>건폐율</th>\n",
       "      <th>local1</th>\n",
       "      <th>local2</th>\n",
       "      <th>local3</th>\n",
       "    </tr>\n",
       "  </thead>\n",
       "  <tbody>\n",
       "    <tr>\n",
       "      <th>0</th>\n",
       "      <td>11110</td>\n",
       "      <td>200601</td>\n",
       "      <td>29500</td>\n",
       "      <td>1983.0</td>\n",
       "      <td>2006</td>\n",
       "      <td>1</td>\n",
       "      <td>17</td>\n",
       "      <td>당주동</td>\n",
       "      <td>세종</td>\n",
       "      <td>93.4</td>\n",
       "      <td>100</td>\n",
       "      <td>11110</td>\n",
       "      <td>6</td>\n",
       "      <td>72.0</td>\n",
       "      <td>1.0</td>\n",
       "      <td>121.0</td>\n",
       "      <td>0.0</td>\n",
       "      <td>0.0</td>\n",
       "      <td>서울특별시</td>\n",
       "      <td>종로구</td>\n",
       "      <td>당주동</td>\n",
       "    </tr>\n",
       "  </tbody>\n",
       "</table>\n",
       "</div>"
      ],
      "text/plain": [
       "   LAWD_CD  DEAL_YM   거래금액    건축년도     년  월   일  법정동 아파트  전용면적   지번   지역코드  층  \\\n",
       "0    11110   200601  29500  1983.0  2006  1  17  당주동  세종  93.4  100  11110  6   \n",
       "\n",
       "   단지총세대수  총동수  총주차대수  용적율  건폐율 local1 local2 local3  \n",
       "0    72.0  1.0  121.0  0.0  0.0  서울특별시    종로구    당주동  "
      ]
     },
     "execution_count": 41,
     "metadata": {},
     "output_type": "execute_result"
    }
   ],
   "source": [
    "df.head(1)"
   ]
  },
  {
   "cell_type": "code",
   "execution_count": 45,
   "metadata": {},
   "outputs": [],
   "source": [
    "df = df[df[\"local2\"].isin([\"노원구\",\"관악구\",\"동작구\",\"용산구\"])]"
   ]
  },
  {
   "cell_type": "code",
   "execution_count": 46,
   "metadata": {},
   "outputs": [],
   "source": [
    "df[\"거래일\"] = pd.to_datetime(df[[\"년\",\"월\",\"일\"]].apply(lambda x : \"{}-{}-{}\".format(x[0],x[1],x[2]),axis=1))"
   ]
  },
  {
   "cell_type": "code",
   "execution_count": 48,
   "metadata": {},
   "outputs": [],
   "source": [
    "df.drop(columns=[\"년\",\"월\",\"일\"],inplace=True)"
   ]
  },
  {
   "cell_type": "markdown",
   "metadata": {},
   "source": [
    "- 동일한 정보를 보유하고 있는 컬럼 제거"
   ]
  },
  {
   "cell_type": "code",
   "execution_count": 49,
   "metadata": {},
   "outputs": [
    {
     "data": {
      "text/plain": [
       "LAWD_CD             int64\n",
       "DEAL_YM             int64\n",
       "거래금액                int64\n",
       "건축년도              float64\n",
       "법정동                object\n",
       "아파트                object\n",
       "전용면적              float64\n",
       "지번                 object\n",
       "지역코드                int64\n",
       "층                   int64\n",
       "단지총세대수            float64\n",
       "총동수               float64\n",
       "총주차대수             float64\n",
       "용적율               float64\n",
       "건폐율               float64\n",
       "local1             object\n",
       "local2             object\n",
       "local3             object\n",
       "거래일        datetime64[ns]\n",
       "dtype: object"
      ]
     },
     "execution_count": 49,
     "metadata": {},
     "output_type": "execute_result"
    }
   ],
   "source": [
    "df.dtypes"
   ]
  },
  {
   "cell_type": "markdown",
   "metadata": {},
   "source": [
    "## 결측치 처리 방법"
   ]
  },
  {
   "cell_type": "markdown",
   "metadata": {},
   "source": [
    "- 해당 컬럼의 중앙값 또는 평균값으로 처리"
   ]
  },
  {
   "cell_type": "code",
   "execution_count": 50,
   "metadata": {},
   "outputs": [],
   "source": [
    "import matplotlib.pyplot as plt"
   ]
  },
  {
   "cell_type": "code",
   "execution_count": 51,
   "metadata": {},
   "outputs": [
    {
     "name": "stderr",
     "output_type": "stream",
     "text": [
      "/home/beomseok/anaconda3/lib/python3.7/site-packages/statsmodels/tools/_testing.py:19: FutureWarning: pandas.util.testing is deprecated. Use the functions in the public API at pandas.testing instead.\n",
      "  import pandas.util.testing as tm\n"
     ]
    }
   ],
   "source": [
    "import missingno as msno"
   ]
  },
  {
   "cell_type": "code",
   "execution_count": 53,
   "metadata": {},
   "outputs": [],
   "source": [
    "%matplotlib inline"
   ]
  },
  {
   "cell_type": "code",
   "execution_count": 54,
   "metadata": {},
   "outputs": [
    {
     "name": "stderr",
     "output_type": "stream",
     "text": [
      "ERROR:root:Internal Python error in the inspect module.\n",
      "Below is the traceback from this internal error.\n",
      "\n"
     ]
    },
    {
     "ename": "KeyboardInterrupt",
     "evalue": "",
     "output_type": "error",
     "traceback": [
      "\u001b[0;31m---------------------------------------------------------------------------\u001b[0m",
      "\u001b[0;31mKeyboardInterrupt\u001b[0m                         Traceback (most recent call last)",
      "\u001b[0;32m~/anaconda3/lib/python3.7/site-packages/IPython/core/interactiveshell.py\u001b[0m in \u001b[0;36mrun_code\u001b[0;34m(self, code_obj, result, async_)\u001b[0m\n\u001b[1;32m   3324\u001b[0m                 \u001b[0;32melse\u001b[0m\u001b[0;34m:\u001b[0m\u001b[0;34m\u001b[0m\u001b[0;34m\u001b[0m\u001b[0m\n\u001b[0;32m-> 3325\u001b[0;31m                     \u001b[0mexec\u001b[0m\u001b[0;34m(\u001b[0m\u001b[0mcode_obj\u001b[0m\u001b[0;34m,\u001b[0m \u001b[0mself\u001b[0m\u001b[0;34m.\u001b[0m\u001b[0muser_global_ns\u001b[0m\u001b[0;34m,\u001b[0m \u001b[0mself\u001b[0m\u001b[0;34m.\u001b[0m\u001b[0muser_ns\u001b[0m\u001b[0;34m)\u001b[0m\u001b[0;34m\u001b[0m\u001b[0;34m\u001b[0m\u001b[0m\n\u001b[0m\u001b[1;32m   3326\u001b[0m             \u001b[0;32mfinally\u001b[0m\u001b[0;34m:\u001b[0m\u001b[0;34m\u001b[0m\u001b[0;34m\u001b[0m\u001b[0m\n",
      "\u001b[0;32m<ipython-input-54-3884b1dd1443>\u001b[0m in \u001b[0;36m<module>\u001b[0;34m\u001b[0m\n\u001b[0;32m----> 1\u001b[0;31m \u001b[0mmsno\u001b[0m\u001b[0;34m.\u001b[0m\u001b[0mmatrix\u001b[0m\u001b[0;34m(\u001b[0m\u001b[0mdf\u001b[0m\u001b[0;34m)\u001b[0m\u001b[0;34m\u001b[0m\u001b[0;34m\u001b[0m\u001b[0m\n\u001b[0m",
      "\u001b[0;32m~/anaconda3/lib/python3.7/site-packages/missingno/missingno.py\u001b[0m in \u001b[0;36mmatrix\u001b[0;34m(df, filter, n, p, sort, figsize, width_ratios, color, fontsize, labels, sparkline, inline, freq, ax)\u001b[0m\n\u001b[1;32m     44\u001b[0m \u001b[0;34m\u001b[0m\u001b[0m\n\u001b[0;32m---> 45\u001b[0;31m     \u001b[0mg\u001b[0m\u001b[0;34m[\u001b[0m\u001b[0mz\u001b[0m \u001b[0;34m<\u001b[0m \u001b[0;36m0.5\u001b[0m\u001b[0;34m]\u001b[0m \u001b[0;34m=\u001b[0m \u001b[0;34m[\u001b[0m\u001b[0;36m1\u001b[0m\u001b[0;34m,\u001b[0m \u001b[0;36m1\u001b[0m\u001b[0;34m,\u001b[0m \u001b[0;36m1\u001b[0m\u001b[0;34m]\u001b[0m\u001b[0;34m\u001b[0m\u001b[0;34m\u001b[0m\u001b[0m\n\u001b[0m\u001b[1;32m     46\u001b[0m     \u001b[0mg\u001b[0m\u001b[0;34m[\u001b[0m\u001b[0mz\u001b[0m \u001b[0;34m>\u001b[0m \u001b[0;36m0.5\u001b[0m\u001b[0;34m]\u001b[0m \u001b[0;34m=\u001b[0m \u001b[0mcolor\u001b[0m\u001b[0;34m\u001b[0m\u001b[0;34m\u001b[0m\u001b[0m\n",
      "\u001b[0;31mKeyboardInterrupt\u001b[0m: ",
      "\nDuring handling of the above exception, another exception occurred:\n",
      "\u001b[0;31mAttributeError\u001b[0m                            Traceback (most recent call last)",
      "\u001b[0;32m~/anaconda3/lib/python3.7/site-packages/IPython/core/interactiveshell.py\u001b[0m in \u001b[0;36mshowtraceback\u001b[0;34m(self, exc_tuple, filename, tb_offset, exception_only, running_compiled_code)\u001b[0m\n\u001b[1;32m   2038\u001b[0m                         \u001b[0;31m# in the engines. This should return a list of strings.\u001b[0m\u001b[0;34m\u001b[0m\u001b[0;34m\u001b[0m\u001b[0;34m\u001b[0m\u001b[0m\n\u001b[0;32m-> 2039\u001b[0;31m                         \u001b[0mstb\u001b[0m \u001b[0;34m=\u001b[0m \u001b[0mvalue\u001b[0m\u001b[0;34m.\u001b[0m\u001b[0m_render_traceback_\u001b[0m\u001b[0;34m(\u001b[0m\u001b[0;34m)\u001b[0m\u001b[0;34m\u001b[0m\u001b[0;34m\u001b[0m\u001b[0m\n\u001b[0m\u001b[1;32m   2040\u001b[0m                     \u001b[0;32mexcept\u001b[0m \u001b[0mException\u001b[0m\u001b[0;34m:\u001b[0m\u001b[0;34m\u001b[0m\u001b[0;34m\u001b[0m\u001b[0m\n",
      "\u001b[0;31mAttributeError\u001b[0m: 'KeyboardInterrupt' object has no attribute '_render_traceback_'",
      "\nDuring handling of the above exception, another exception occurred:\n",
      "\u001b[0;31mKeyboardInterrupt\u001b[0m                         Traceback (most recent call last)",
      "\u001b[0;32m~/anaconda3/lib/python3.7/site-packages/IPython/core/ultratb.py\u001b[0m in \u001b[0;36mget_records\u001b[0;34m(self, etb, number_of_lines_of_context, tb_offset)\u001b[0m\n\u001b[1;32m   1100\u001b[0m             \u001b[0;31m# (5 blanks lines) where none should be returned.\u001b[0m\u001b[0;34m\u001b[0m\u001b[0;34m\u001b[0m\u001b[0;34m\u001b[0m\u001b[0m\n\u001b[0;32m-> 1101\u001b[0;31m             \u001b[0;32mreturn\u001b[0m \u001b[0m_fixed_getinnerframes\u001b[0m\u001b[0;34m(\u001b[0m\u001b[0metb\u001b[0m\u001b[0;34m,\u001b[0m \u001b[0mnumber_of_lines_of_context\u001b[0m\u001b[0;34m,\u001b[0m \u001b[0mtb_offset\u001b[0m\u001b[0;34m)\u001b[0m\u001b[0;34m\u001b[0m\u001b[0;34m\u001b[0m\u001b[0m\n\u001b[0m\u001b[1;32m   1102\u001b[0m         \u001b[0;32mexcept\u001b[0m \u001b[0mUnicodeDecodeError\u001b[0m\u001b[0;34m:\u001b[0m\u001b[0;34m\u001b[0m\u001b[0;34m\u001b[0m\u001b[0m\n",
      "\u001b[0;32m~/anaconda3/lib/python3.7/site-packages/IPython/core/ultratb.py\u001b[0m in \u001b[0;36mwrapped\u001b[0;34m(*args, **kwargs)\u001b[0m\n\u001b[1;32m    318\u001b[0m         \u001b[0;32mtry\u001b[0m\u001b[0;34m:\u001b[0m\u001b[0;34m\u001b[0m\u001b[0;34m\u001b[0m\u001b[0m\n\u001b[0;32m--> 319\u001b[0;31m             \u001b[0;32mreturn\u001b[0m \u001b[0mf\u001b[0m\u001b[0;34m(\u001b[0m\u001b[0;34m*\u001b[0m\u001b[0margs\u001b[0m\u001b[0;34m,\u001b[0m \u001b[0;34m**\u001b[0m\u001b[0mkwargs\u001b[0m\u001b[0;34m)\u001b[0m\u001b[0;34m\u001b[0m\u001b[0;34m\u001b[0m\u001b[0m\n\u001b[0m\u001b[1;32m    320\u001b[0m         \u001b[0;32mfinally\u001b[0m\u001b[0;34m:\u001b[0m\u001b[0;34m\u001b[0m\u001b[0;34m\u001b[0m\u001b[0m\n",
      "\u001b[0;32m~/anaconda3/lib/python3.7/site-packages/IPython/core/ultratb.py\u001b[0m in \u001b[0;36m_fixed_getinnerframes\u001b[0;34m(etb, context, tb_offset)\u001b[0m\n\u001b[1;32m    352\u001b[0m \u001b[0;34m\u001b[0m\u001b[0m\n\u001b[0;32m--> 353\u001b[0;31m     \u001b[0mrecords\u001b[0m \u001b[0;34m=\u001b[0m \u001b[0mfix_frame_records_filenames\u001b[0m\u001b[0;34m(\u001b[0m\u001b[0minspect\u001b[0m\u001b[0;34m.\u001b[0m\u001b[0mgetinnerframes\u001b[0m\u001b[0;34m(\u001b[0m\u001b[0metb\u001b[0m\u001b[0;34m,\u001b[0m \u001b[0mcontext\u001b[0m\u001b[0;34m)\u001b[0m\u001b[0;34m)\u001b[0m\u001b[0;34m\u001b[0m\u001b[0;34m\u001b[0m\u001b[0m\n\u001b[0m\u001b[1;32m    354\u001b[0m     \u001b[0;31m# If the error is at the console, don't build any context, since it would\u001b[0m\u001b[0;34m\u001b[0m\u001b[0;34m\u001b[0m\u001b[0;34m\u001b[0m\u001b[0m\n",
      "\u001b[0;32m~/anaconda3/lib/python3.7/inspect.py\u001b[0m in \u001b[0;36mgetinnerframes\u001b[0;34m(tb, context)\u001b[0m\n\u001b[1;32m   1501\u001b[0m     \u001b[0;32mwhile\u001b[0m \u001b[0mtb\u001b[0m\u001b[0;34m:\u001b[0m\u001b[0;34m\u001b[0m\u001b[0;34m\u001b[0m\u001b[0m\n\u001b[0;32m-> 1502\u001b[0;31m         \u001b[0mframeinfo\u001b[0m \u001b[0;34m=\u001b[0m \u001b[0;34m(\u001b[0m\u001b[0mtb\u001b[0m\u001b[0;34m.\u001b[0m\u001b[0mtb_frame\u001b[0m\u001b[0;34m,\u001b[0m\u001b[0;34m)\u001b[0m \u001b[0;34m+\u001b[0m \u001b[0mgetframeinfo\u001b[0m\u001b[0;34m(\u001b[0m\u001b[0mtb\u001b[0m\u001b[0;34m,\u001b[0m \u001b[0mcontext\u001b[0m\u001b[0;34m)\u001b[0m\u001b[0;34m\u001b[0m\u001b[0;34m\u001b[0m\u001b[0m\n\u001b[0m\u001b[1;32m   1503\u001b[0m         \u001b[0mframelist\u001b[0m\u001b[0;34m.\u001b[0m\u001b[0mappend\u001b[0m\u001b[0;34m(\u001b[0m\u001b[0mFrameInfo\u001b[0m\u001b[0;34m(\u001b[0m\u001b[0;34m*\u001b[0m\u001b[0mframeinfo\u001b[0m\u001b[0;34m)\u001b[0m\u001b[0;34m)\u001b[0m\u001b[0;34m\u001b[0m\u001b[0;34m\u001b[0m\u001b[0m\n",
      "\u001b[0;32m~/anaconda3/lib/python3.7/inspect.py\u001b[0m in \u001b[0;36mgetframeinfo\u001b[0;34m(frame, context)\u001b[0m\n\u001b[1;32m   1459\u001b[0m \u001b[0;34m\u001b[0m\u001b[0m\n\u001b[0;32m-> 1460\u001b[0;31m     \u001b[0mfilename\u001b[0m \u001b[0;34m=\u001b[0m \u001b[0mgetsourcefile\u001b[0m\u001b[0;34m(\u001b[0m\u001b[0mframe\u001b[0m\u001b[0;34m)\u001b[0m \u001b[0;32mor\u001b[0m \u001b[0mgetfile\u001b[0m\u001b[0;34m(\u001b[0m\u001b[0mframe\u001b[0m\u001b[0;34m)\u001b[0m\u001b[0;34m\u001b[0m\u001b[0;34m\u001b[0m\u001b[0m\n\u001b[0m\u001b[1;32m   1461\u001b[0m     \u001b[0;32mif\u001b[0m \u001b[0mcontext\u001b[0m \u001b[0;34m>\u001b[0m \u001b[0;36m0\u001b[0m\u001b[0;34m:\u001b[0m\u001b[0;34m\u001b[0m\u001b[0;34m\u001b[0m\u001b[0m\n",
      "\u001b[0;32m~/anaconda3/lib/python3.7/inspect.py\u001b[0m in \u001b[0;36mgetsourcefile\u001b[0;34m(object)\u001b[0m\n\u001b[1;32m    683\u001b[0m     \"\"\"\n\u001b[0;32m--> 684\u001b[0;31m     \u001b[0mfilename\u001b[0m \u001b[0;34m=\u001b[0m \u001b[0mgetfile\u001b[0m\u001b[0;34m(\u001b[0m\u001b[0mobject\u001b[0m\u001b[0;34m)\u001b[0m\u001b[0;34m\u001b[0m\u001b[0;34m\u001b[0m\u001b[0m\n\u001b[0m\u001b[1;32m    685\u001b[0m     \u001b[0mall_bytecode_suffixes\u001b[0m \u001b[0;34m=\u001b[0m \u001b[0mimportlib\u001b[0m\u001b[0;34m.\u001b[0m\u001b[0mmachinery\u001b[0m\u001b[0;34m.\u001b[0m\u001b[0mDEBUG_BYTECODE_SUFFIXES\u001b[0m\u001b[0;34m[\u001b[0m\u001b[0;34m:\u001b[0m\u001b[0;34m]\u001b[0m\u001b[0;34m\u001b[0m\u001b[0;34m\u001b[0m\u001b[0m\n",
      "\u001b[0;32m~/anaconda3/lib/python3.7/inspect.py\u001b[0m in \u001b[0;36mgetfile\u001b[0;34m(object)\u001b[0m\n\u001b[1;32m    643\u001b[0m     \u001b[0;34m\"\"\"Work out which source or compiled file an object was defined in.\"\"\"\u001b[0m\u001b[0;34m\u001b[0m\u001b[0;34m\u001b[0m\u001b[0m\n\u001b[0;32m--> 644\u001b[0;31m     \u001b[0;32mif\u001b[0m \u001b[0mismodule\u001b[0m\u001b[0;34m(\u001b[0m\u001b[0mobject\u001b[0m\u001b[0;34m)\u001b[0m\u001b[0;34m:\u001b[0m\u001b[0;34m\u001b[0m\u001b[0;34m\u001b[0m\u001b[0m\n\u001b[0m\u001b[1;32m    645\u001b[0m         \u001b[0;32mif\u001b[0m \u001b[0mgetattr\u001b[0m\u001b[0;34m(\u001b[0m\u001b[0mobject\u001b[0m\u001b[0;34m,\u001b[0m \u001b[0;34m'__file__'\u001b[0m\u001b[0;34m,\u001b[0m \u001b[0;32mNone\u001b[0m\u001b[0;34m)\u001b[0m\u001b[0;34m:\u001b[0m\u001b[0;34m\u001b[0m\u001b[0;34m\u001b[0m\u001b[0m\n",
      "\u001b[0;32m~/anaconda3/lib/python3.7/inspect.py\u001b[0m in \u001b[0;36mismodule\u001b[0;34m(object)\u001b[0m\n\u001b[1;32m     69\u001b[0m         __file__        filename (missing for built-in modules)\"\"\"\n\u001b[0;32m---> 70\u001b[0;31m     \u001b[0;32mreturn\u001b[0m \u001b[0misinstance\u001b[0m\u001b[0;34m(\u001b[0m\u001b[0mobject\u001b[0m\u001b[0;34m,\u001b[0m \u001b[0mtypes\u001b[0m\u001b[0;34m.\u001b[0m\u001b[0mModuleType\u001b[0m\u001b[0;34m)\u001b[0m\u001b[0;34m\u001b[0m\u001b[0;34m\u001b[0m\u001b[0m\n\u001b[0m\u001b[1;32m     71\u001b[0m \u001b[0;34m\u001b[0m\u001b[0m\n",
      "\u001b[0;31mKeyboardInterrupt\u001b[0m: ",
      "\nDuring handling of the above exception, another exception occurred:\n",
      "\u001b[0;31mKeyboardInterrupt\u001b[0m                         Traceback (most recent call last)",
      "\u001b[0;32m~/anaconda3/lib/python3.7/site-packages/IPython/core/interactiveshell.py\u001b[0m in \u001b[0;36mshowtraceback\u001b[0;34m(self, exc_tuple, filename, tb_offset, exception_only, running_compiled_code)\u001b[0m\n\u001b[1;32m   2041\u001b[0m                         stb = self.InteractiveTB.structured_traceback(etype,\n\u001b[0;32m-> 2042\u001b[0;31m                                             value, tb, tb_offset=tb_offset)\n\u001b[0m\u001b[1;32m   2043\u001b[0m \u001b[0;34m\u001b[0m\u001b[0m\n",
      "\u001b[0;32m~/anaconda3/lib/python3.7/site-packages/IPython/core/ultratb.py\u001b[0m in \u001b[0;36mstructured_traceback\u001b[0;34m(self, etype, value, tb, tb_offset, number_of_lines_of_context)\u001b[0m\n\u001b[1;32m   1384\u001b[0m         return FormattedTB.structured_traceback(\n\u001b[0;32m-> 1385\u001b[0;31m             self, etype, value, tb, tb_offset, number_of_lines_of_context)\n\u001b[0m\u001b[1;32m   1386\u001b[0m \u001b[0;34m\u001b[0m\u001b[0m\n",
      "\u001b[0;32m~/anaconda3/lib/python3.7/site-packages/IPython/core/ultratb.py\u001b[0m in \u001b[0;36mstructured_traceback\u001b[0;34m(self, etype, value, tb, tb_offset, number_of_lines_of_context)\u001b[0m\n\u001b[1;32m   1287\u001b[0m             return VerboseTB.structured_traceback(\n\u001b[0;32m-> 1288\u001b[0;31m                 \u001b[0mself\u001b[0m\u001b[0;34m,\u001b[0m \u001b[0metype\u001b[0m\u001b[0;34m,\u001b[0m \u001b[0mvalue\u001b[0m\u001b[0;34m,\u001b[0m \u001b[0mtb\u001b[0m\u001b[0;34m,\u001b[0m \u001b[0mtb_offset\u001b[0m\u001b[0;34m,\u001b[0m \u001b[0mnumber_of_lines_of_context\u001b[0m\u001b[0;34m\u001b[0m\u001b[0;34m\u001b[0m\u001b[0m\n\u001b[0m\u001b[1;32m   1289\u001b[0m             )\n",
      "\u001b[0;32m~/anaconda3/lib/python3.7/site-packages/IPython/core/ultratb.py\u001b[0m in \u001b[0;36mstructured_traceback\u001b[0;34m(self, etype, evalue, etb, tb_offset, number_of_lines_of_context)\u001b[0m\n\u001b[1;32m   1138\u001b[0m         formatted_exception = self.format_exception_as_a_whole(etype, evalue, etb, number_of_lines_of_context,\n\u001b[0;32m-> 1139\u001b[0;31m                                                                tb_offset)\n\u001b[0m\u001b[1;32m   1140\u001b[0m \u001b[0;34m\u001b[0m\u001b[0m\n",
      "\u001b[0;32m~/anaconda3/lib/python3.7/site-packages/IPython/core/ultratb.py\u001b[0m in \u001b[0;36mformat_exception_as_a_whole\u001b[0;34m(self, etype, evalue, etb, number_of_lines_of_context, tb_offset)\u001b[0m\n\u001b[1;32m   1076\u001b[0m         \u001b[0mhead\u001b[0m \u001b[0;34m=\u001b[0m \u001b[0mself\u001b[0m\u001b[0;34m.\u001b[0m\u001b[0mprepare_header\u001b[0m\u001b[0;34m(\u001b[0m\u001b[0metype\u001b[0m\u001b[0;34m,\u001b[0m \u001b[0mself\u001b[0m\u001b[0;34m.\u001b[0m\u001b[0mlong_header\u001b[0m\u001b[0;34m)\u001b[0m\u001b[0;34m\u001b[0m\u001b[0;34m\u001b[0m\u001b[0m\n\u001b[0;32m-> 1077\u001b[0;31m         \u001b[0mrecords\u001b[0m \u001b[0;34m=\u001b[0m \u001b[0mself\u001b[0m\u001b[0;34m.\u001b[0m\u001b[0mget_records\u001b[0m\u001b[0;34m(\u001b[0m\u001b[0metb\u001b[0m\u001b[0;34m,\u001b[0m \u001b[0mnumber_of_lines_of_context\u001b[0m\u001b[0;34m,\u001b[0m \u001b[0mtb_offset\u001b[0m\u001b[0;34m)\u001b[0m\u001b[0;34m\u001b[0m\u001b[0;34m\u001b[0m\u001b[0m\n\u001b[0m\u001b[1;32m   1078\u001b[0m \u001b[0;34m\u001b[0m\u001b[0m\n",
      "\u001b[0;32m~/anaconda3/lib/python3.7/site-packages/IPython/core/ultratb.py\u001b[0m in \u001b[0;36mget_records\u001b[0;34m(self, etb, number_of_lines_of_context, tb_offset)\u001b[0m\n\u001b[1;32m   1114\u001b[0m             \u001b[0;31m# reproduce the problem.\u001b[0m\u001b[0;34m\u001b[0m\u001b[0;34m\u001b[0m\u001b[0;34m\u001b[0m\u001b[0m\n\u001b[0;32m-> 1115\u001b[0;31m             \u001b[0minspect_error\u001b[0m\u001b[0;34m(\u001b[0m\u001b[0;34m)\u001b[0m\u001b[0;34m\u001b[0m\u001b[0;34m\u001b[0m\u001b[0m\n\u001b[0m\u001b[1;32m   1116\u001b[0m             \u001b[0mtraceback\u001b[0m\u001b[0;34m.\u001b[0m\u001b[0mprint_exc\u001b[0m\u001b[0;34m(\u001b[0m\u001b[0mfile\u001b[0m\u001b[0;34m=\u001b[0m\u001b[0mself\u001b[0m\u001b[0;34m.\u001b[0m\u001b[0mostream\u001b[0m\u001b[0;34m)\u001b[0m\u001b[0;34m\u001b[0m\u001b[0;34m\u001b[0m\u001b[0m\n",
      "\u001b[0;32m~/anaconda3/lib/python3.7/site-packages/IPython/core/ultratb.py\u001b[0m in \u001b[0;36minspect_error\u001b[0;34m()\u001b[0m\n\u001b[1;32m    154\u001b[0m \u001b[0;34m\u001b[0m\u001b[0m\n\u001b[0;32m--> 155\u001b[0;31m     error('Internal Python error in the inspect module.\\n'\n\u001b[0m\u001b[1;32m    156\u001b[0m           'Below is the traceback from this internal error.\\n')\n",
      "\u001b[0;32m~/anaconda3/lib/python3.7/logging/__init__.py\u001b[0m in \u001b[0;36merror\u001b[0;34m(msg, *args, **kwargs)\u001b[0m\n\u001b[1;32m   1960\u001b[0m         \u001b[0mbasicConfig\u001b[0m\u001b[0;34m(\u001b[0m\u001b[0;34m)\u001b[0m\u001b[0;34m\u001b[0m\u001b[0;34m\u001b[0m\u001b[0m\n\u001b[0;32m-> 1961\u001b[0;31m     \u001b[0mroot\u001b[0m\u001b[0;34m.\u001b[0m\u001b[0merror\u001b[0m\u001b[0;34m(\u001b[0m\u001b[0mmsg\u001b[0m\u001b[0;34m,\u001b[0m \u001b[0;34m*\u001b[0m\u001b[0margs\u001b[0m\u001b[0;34m,\u001b[0m \u001b[0;34m**\u001b[0m\u001b[0mkwargs\u001b[0m\u001b[0;34m)\u001b[0m\u001b[0;34m\u001b[0m\u001b[0;34m\u001b[0m\u001b[0m\n\u001b[0m\u001b[1;32m   1962\u001b[0m \u001b[0;34m\u001b[0m\u001b[0m\n",
      "\u001b[0;32m~/anaconda3/lib/python3.7/logging/__init__.py\u001b[0m in \u001b[0;36merror\u001b[0;34m(self, msg, *args, **kwargs)\u001b[0m\n\u001b[1;32m   1411\u001b[0m         \u001b[0;32mif\u001b[0m \u001b[0mself\u001b[0m\u001b[0;34m.\u001b[0m\u001b[0misEnabledFor\u001b[0m\u001b[0;34m(\u001b[0m\u001b[0mERROR\u001b[0m\u001b[0;34m)\u001b[0m\u001b[0;34m:\u001b[0m\u001b[0;34m\u001b[0m\u001b[0;34m\u001b[0m\u001b[0m\n\u001b[0;32m-> 1412\u001b[0;31m             \u001b[0mself\u001b[0m\u001b[0;34m.\u001b[0m\u001b[0m_log\u001b[0m\u001b[0;34m(\u001b[0m\u001b[0mERROR\u001b[0m\u001b[0;34m,\u001b[0m \u001b[0mmsg\u001b[0m\u001b[0;34m,\u001b[0m \u001b[0margs\u001b[0m\u001b[0;34m,\u001b[0m \u001b[0;34m**\u001b[0m\u001b[0mkwargs\u001b[0m\u001b[0;34m)\u001b[0m\u001b[0;34m\u001b[0m\u001b[0;34m\u001b[0m\u001b[0m\n\u001b[0m\u001b[1;32m   1413\u001b[0m \u001b[0;34m\u001b[0m\u001b[0m\n",
      "\u001b[0;32m~/anaconda3/lib/python3.7/logging/__init__.py\u001b[0m in \u001b[0;36m_log\u001b[0;34m(self, level, msg, args, exc_info, extra, stack_info)\u001b[0m\n\u001b[1;32m   1518\u001b[0m                                  exc_info, func, extra, sinfo)\n\u001b[0;32m-> 1519\u001b[0;31m         \u001b[0mself\u001b[0m\u001b[0;34m.\u001b[0m\u001b[0mhandle\u001b[0m\u001b[0;34m(\u001b[0m\u001b[0mrecord\u001b[0m\u001b[0;34m)\u001b[0m\u001b[0;34m\u001b[0m\u001b[0;34m\u001b[0m\u001b[0m\n\u001b[0m\u001b[1;32m   1520\u001b[0m \u001b[0;34m\u001b[0m\u001b[0m\n",
      "\u001b[0;32m~/anaconda3/lib/python3.7/logging/__init__.py\u001b[0m in \u001b[0;36mhandle\u001b[0;34m(self, record)\u001b[0m\n\u001b[1;32m   1528\u001b[0m         \u001b[0;32mif\u001b[0m \u001b[0;34m(\u001b[0m\u001b[0;32mnot\u001b[0m \u001b[0mself\u001b[0m\u001b[0;34m.\u001b[0m\u001b[0mdisabled\u001b[0m\u001b[0;34m)\u001b[0m \u001b[0;32mand\u001b[0m \u001b[0mself\u001b[0m\u001b[0;34m.\u001b[0m\u001b[0mfilter\u001b[0m\u001b[0;34m(\u001b[0m\u001b[0mrecord\u001b[0m\u001b[0;34m)\u001b[0m\u001b[0;34m:\u001b[0m\u001b[0;34m\u001b[0m\u001b[0;34m\u001b[0m\u001b[0m\n\u001b[0;32m-> 1529\u001b[0;31m             \u001b[0mself\u001b[0m\u001b[0;34m.\u001b[0m\u001b[0mcallHandlers\u001b[0m\u001b[0;34m(\u001b[0m\u001b[0mrecord\u001b[0m\u001b[0;34m)\u001b[0m\u001b[0;34m\u001b[0m\u001b[0;34m\u001b[0m\u001b[0m\n\u001b[0m\u001b[1;32m   1530\u001b[0m \u001b[0;34m\u001b[0m\u001b[0m\n",
      "\u001b[0;32m~/anaconda3/lib/python3.7/logging/__init__.py\u001b[0m in \u001b[0;36mcallHandlers\u001b[0;34m(self, record)\u001b[0m\n\u001b[1;32m   1590\u001b[0m                 \u001b[0;32mif\u001b[0m \u001b[0mrecord\u001b[0m\u001b[0;34m.\u001b[0m\u001b[0mlevelno\u001b[0m \u001b[0;34m>=\u001b[0m \u001b[0mhdlr\u001b[0m\u001b[0;34m.\u001b[0m\u001b[0mlevel\u001b[0m\u001b[0;34m:\u001b[0m\u001b[0;34m\u001b[0m\u001b[0;34m\u001b[0m\u001b[0m\n\u001b[0;32m-> 1591\u001b[0;31m                     \u001b[0mhdlr\u001b[0m\u001b[0;34m.\u001b[0m\u001b[0mhandle\u001b[0m\u001b[0;34m(\u001b[0m\u001b[0mrecord\u001b[0m\u001b[0;34m)\u001b[0m\u001b[0;34m\u001b[0m\u001b[0;34m\u001b[0m\u001b[0m\n\u001b[0m\u001b[1;32m   1592\u001b[0m             \u001b[0;32mif\u001b[0m \u001b[0;32mnot\u001b[0m \u001b[0mc\u001b[0m\u001b[0;34m.\u001b[0m\u001b[0mpropagate\u001b[0m\u001b[0;34m:\u001b[0m\u001b[0;34m\u001b[0m\u001b[0;34m\u001b[0m\u001b[0m\n",
      "\u001b[0;32m~/anaconda3/lib/python3.7/logging/__init__.py\u001b[0m in \u001b[0;36mhandle\u001b[0;34m(self, record)\u001b[0m\n\u001b[1;32m    904\u001b[0m             \u001b[0;32mtry\u001b[0m\u001b[0;34m:\u001b[0m\u001b[0;34m\u001b[0m\u001b[0;34m\u001b[0m\u001b[0m\n\u001b[0;32m--> 905\u001b[0;31m                 \u001b[0mself\u001b[0m\u001b[0;34m.\u001b[0m\u001b[0memit\u001b[0m\u001b[0;34m(\u001b[0m\u001b[0mrecord\u001b[0m\u001b[0;34m)\u001b[0m\u001b[0;34m\u001b[0m\u001b[0;34m\u001b[0m\u001b[0m\n\u001b[0m\u001b[1;32m    906\u001b[0m             \u001b[0;32mfinally\u001b[0m\u001b[0;34m:\u001b[0m\u001b[0;34m\u001b[0m\u001b[0;34m\u001b[0m\u001b[0m\n",
      "\u001b[0;32m~/anaconda3/lib/python3.7/logging/__init__.py\u001b[0m in \u001b[0;36memit\u001b[0;34m(self, record)\u001b[0m\n\u001b[1;32m   1037\u001b[0m             \u001b[0mstream\u001b[0m\u001b[0;34m.\u001b[0m\u001b[0mwrite\u001b[0m\u001b[0;34m(\u001b[0m\u001b[0mmsg\u001b[0m \u001b[0;34m+\u001b[0m \u001b[0mself\u001b[0m\u001b[0;34m.\u001b[0m\u001b[0mterminator\u001b[0m\u001b[0;34m)\u001b[0m\u001b[0;34m\u001b[0m\u001b[0;34m\u001b[0m\u001b[0m\n\u001b[0;32m-> 1038\u001b[0;31m             \u001b[0mself\u001b[0m\u001b[0;34m.\u001b[0m\u001b[0mflush\u001b[0m\u001b[0;34m(\u001b[0m\u001b[0;34m)\u001b[0m\u001b[0;34m\u001b[0m\u001b[0;34m\u001b[0m\u001b[0m\n\u001b[0m\u001b[1;32m   1039\u001b[0m         \u001b[0;32mexcept\u001b[0m \u001b[0mException\u001b[0m\u001b[0;34m:\u001b[0m\u001b[0;34m\u001b[0m\u001b[0;34m\u001b[0m\u001b[0m\n",
      "\u001b[0;32m~/anaconda3/lib/python3.7/logging/__init__.py\u001b[0m in \u001b[0;36mflush\u001b[0;34m(self)\u001b[0m\n\u001b[1;32m   1017\u001b[0m             \u001b[0;32mif\u001b[0m \u001b[0mself\u001b[0m\u001b[0;34m.\u001b[0m\u001b[0mstream\u001b[0m \u001b[0;32mand\u001b[0m \u001b[0mhasattr\u001b[0m\u001b[0;34m(\u001b[0m\u001b[0mself\u001b[0m\u001b[0;34m.\u001b[0m\u001b[0mstream\u001b[0m\u001b[0;34m,\u001b[0m \u001b[0;34m\"flush\"\u001b[0m\u001b[0;34m)\u001b[0m\u001b[0;34m:\u001b[0m\u001b[0;34m\u001b[0m\u001b[0;34m\u001b[0m\u001b[0m\n\u001b[0;32m-> 1018\u001b[0;31m                 \u001b[0mself\u001b[0m\u001b[0;34m.\u001b[0m\u001b[0mstream\u001b[0m\u001b[0;34m.\u001b[0m\u001b[0mflush\u001b[0m\u001b[0;34m(\u001b[0m\u001b[0;34m)\u001b[0m\u001b[0;34m\u001b[0m\u001b[0;34m\u001b[0m\u001b[0m\n\u001b[0m\u001b[1;32m   1019\u001b[0m         \u001b[0;32mfinally\u001b[0m\u001b[0;34m:\u001b[0m\u001b[0;34m\u001b[0m\u001b[0;34m\u001b[0m\u001b[0m\n",
      "\u001b[0;32m~/anaconda3/lib/python3.7/site-packages/ipykernel/iostream.py\u001b[0m in \u001b[0;36mflush\u001b[0;34m(self)\u001b[0m\n\u001b[1;32m    346\u001b[0m                 \u001b[0mevt\u001b[0m \u001b[0;34m=\u001b[0m \u001b[0mthreading\u001b[0m\u001b[0;34m.\u001b[0m\u001b[0mEvent\u001b[0m\u001b[0;34m(\u001b[0m\u001b[0;34m)\u001b[0m\u001b[0;34m\u001b[0m\u001b[0;34m\u001b[0m\u001b[0m\n\u001b[0;32m--> 347\u001b[0;31m                 \u001b[0mself\u001b[0m\u001b[0;34m.\u001b[0m\u001b[0mpub_thread\u001b[0m\u001b[0;34m.\u001b[0m\u001b[0mschedule\u001b[0m\u001b[0;34m(\u001b[0m\u001b[0mevt\u001b[0m\u001b[0;34m.\u001b[0m\u001b[0mset\u001b[0m\u001b[0;34m)\u001b[0m\u001b[0;34m\u001b[0m\u001b[0;34m\u001b[0m\u001b[0m\n\u001b[0m\u001b[1;32m    348\u001b[0m                 \u001b[0;31m# and give a timeout to avoid\u001b[0m\u001b[0;34m\u001b[0m\u001b[0;34m\u001b[0m\u001b[0;34m\u001b[0m\u001b[0m\n",
      "\u001b[0;32m~/anaconda3/lib/python3.7/site-packages/ipykernel/iostream.py\u001b[0m in \u001b[0;36mschedule\u001b[0;34m(self, f)\u001b[0m\n\u001b[1;32m    202\u001b[0m             \u001b[0;31m# wake event thread (message content is ignored)\u001b[0m\u001b[0;34m\u001b[0m\u001b[0;34m\u001b[0m\u001b[0;34m\u001b[0m\u001b[0m\n\u001b[0;32m--> 203\u001b[0;31m             \u001b[0mself\u001b[0m\u001b[0;34m.\u001b[0m\u001b[0m_event_pipe\u001b[0m\u001b[0;34m.\u001b[0m\u001b[0msend\u001b[0m\u001b[0;34m(\u001b[0m\u001b[0;34mb''\u001b[0m\u001b[0;34m)\u001b[0m\u001b[0;34m\u001b[0m\u001b[0;34m\u001b[0m\u001b[0m\n\u001b[0m\u001b[1;32m    204\u001b[0m         \u001b[0;32melse\u001b[0m\u001b[0;34m:\u001b[0m\u001b[0;34m\u001b[0m\u001b[0;34m\u001b[0m\u001b[0m\n",
      "\u001b[0;32m~/anaconda3/lib/python3.7/site-packages/zmq/sugar/socket.py\u001b[0m in \u001b[0;36msend\u001b[0;34m(self, data, flags, copy, track, routing_id, group)\u001b[0m\n\u001b[1;32m    394\u001b[0m             \u001b[0mdata\u001b[0m\u001b[0;34m.\u001b[0m\u001b[0mgroup\u001b[0m \u001b[0;34m=\u001b[0m \u001b[0mgroup\u001b[0m\u001b[0;34m\u001b[0m\u001b[0;34m\u001b[0m\u001b[0m\n\u001b[0;32m--> 395\u001b[0;31m         \u001b[0;32mreturn\u001b[0m \u001b[0msuper\u001b[0m\u001b[0;34m(\u001b[0m\u001b[0mSocket\u001b[0m\u001b[0;34m,\u001b[0m \u001b[0mself\u001b[0m\u001b[0;34m)\u001b[0m\u001b[0;34m.\u001b[0m\u001b[0msend\u001b[0m\u001b[0;34m(\u001b[0m\u001b[0mdata\u001b[0m\u001b[0;34m,\u001b[0m \u001b[0mflags\u001b[0m\u001b[0;34m=\u001b[0m\u001b[0mflags\u001b[0m\u001b[0;34m,\u001b[0m \u001b[0mcopy\u001b[0m\u001b[0;34m=\u001b[0m\u001b[0mcopy\u001b[0m\u001b[0;34m,\u001b[0m \u001b[0mtrack\u001b[0m\u001b[0;34m=\u001b[0m\u001b[0mtrack\u001b[0m\u001b[0;34m)\u001b[0m\u001b[0;34m\u001b[0m\u001b[0;34m\u001b[0m\u001b[0m\n\u001b[0m\u001b[1;32m    396\u001b[0m \u001b[0;34m\u001b[0m\u001b[0m\n",
      "\u001b[0;32mzmq/backend/cython/socket.pyx\u001b[0m in \u001b[0;36mzmq.backend.cython.socket.Socket.send\u001b[0;34m()\u001b[0m\n",
      "\u001b[0;32mzmq/backend/cython/socket.pyx\u001b[0m in \u001b[0;36mzmq.backend.cython.socket.Socket.send\u001b[0;34m()\u001b[0m\n",
      "\u001b[0;32mzmq/backend/cython/socket.pyx\u001b[0m in \u001b[0;36mzmq.backend.cython.socket._send_copy\u001b[0;34m()\u001b[0m\n",
      "\u001b[0;32m~/anaconda3/lib/python3.7/site-packages/zmq/backend/cython/checkrc.pxd\u001b[0m in \u001b[0;36mzmq.backend.cython.checkrc._check_rc\u001b[0;34m()\u001b[0m\n",
      "\u001b[0;31mKeyboardInterrupt\u001b[0m: ",
      "\nDuring handling of the above exception, another exception occurred:\n",
      "\u001b[0;31mKeyboardInterrupt\u001b[0m                         Traceback (most recent call last)",
      "\u001b[0;32m~/anaconda3/lib/python3.7/site-packages/IPython/core/interactiveshell.py\u001b[0m in \u001b[0;36mrun_code\u001b[0;34m(self, code_obj, result, async_)\u001b[0m\n\u001b[1;32m   3340\u001b[0m             \u001b[0;32mif\u001b[0m \u001b[0mresult\u001b[0m \u001b[0;32mis\u001b[0m \u001b[0;32mnot\u001b[0m \u001b[0;32mNone\u001b[0m\u001b[0;34m:\u001b[0m\u001b[0;34m\u001b[0m\u001b[0;34m\u001b[0m\u001b[0m\n\u001b[1;32m   3341\u001b[0m                 \u001b[0mresult\u001b[0m\u001b[0;34m.\u001b[0m\u001b[0merror_in_exec\u001b[0m \u001b[0;34m=\u001b[0m \u001b[0msys\u001b[0m\u001b[0;34m.\u001b[0m\u001b[0mexc_info\u001b[0m\u001b[0;34m(\u001b[0m\u001b[0;34m)\u001b[0m\u001b[0;34m[\u001b[0m\u001b[0;36m1\u001b[0m\u001b[0;34m]\u001b[0m\u001b[0;34m\u001b[0m\u001b[0;34m\u001b[0m\u001b[0m\n\u001b[0;32m-> 3342\u001b[0;31m             \u001b[0mself\u001b[0m\u001b[0;34m.\u001b[0m\u001b[0mshowtraceback\u001b[0m\u001b[0;34m(\u001b[0m\u001b[0mrunning_compiled_code\u001b[0m\u001b[0;34m=\u001b[0m\u001b[0;32mTrue\u001b[0m\u001b[0;34m)\u001b[0m\u001b[0;34m\u001b[0m\u001b[0;34m\u001b[0m\u001b[0m\n\u001b[0m\u001b[1;32m   3343\u001b[0m         \u001b[0;32melse\u001b[0m\u001b[0;34m:\u001b[0m\u001b[0;34m\u001b[0m\u001b[0;34m\u001b[0m\u001b[0m\n\u001b[1;32m   3344\u001b[0m             \u001b[0moutflag\u001b[0m \u001b[0;34m=\u001b[0m \u001b[0;32mFalse\u001b[0m\u001b[0;34m\u001b[0m\u001b[0;34m\u001b[0m\u001b[0m\n",
      "\u001b[0;32m~/anaconda3/lib/python3.7/site-packages/IPython/core/interactiveshell.py\u001b[0m in \u001b[0;36mshowtraceback\u001b[0;34m(self, exc_tuple, filename, tb_offset, exception_only, running_compiled_code)\u001b[0m\n\u001b[1;32m   2052\u001b[0m \u001b[0;34m\u001b[0m\u001b[0m\n\u001b[1;32m   2053\u001b[0m         \u001b[0;32mexcept\u001b[0m \u001b[0mKeyboardInterrupt\u001b[0m\u001b[0;34m:\u001b[0m\u001b[0;34m\u001b[0m\u001b[0;34m\u001b[0m\u001b[0m\n\u001b[0;32m-> 2054\u001b[0;31m             \u001b[0mprint\u001b[0m\u001b[0;34m(\u001b[0m\u001b[0;34m'\\n'\u001b[0m \u001b[0;34m+\u001b[0m \u001b[0mself\u001b[0m\u001b[0;34m.\u001b[0m\u001b[0mget_exception_only\u001b[0m\u001b[0;34m(\u001b[0m\u001b[0;34m)\u001b[0m\u001b[0;34m,\u001b[0m \u001b[0mfile\u001b[0m\u001b[0;34m=\u001b[0m\u001b[0msys\u001b[0m\u001b[0;34m.\u001b[0m\u001b[0mstderr\u001b[0m\u001b[0;34m)\u001b[0m\u001b[0;34m\u001b[0m\u001b[0;34m\u001b[0m\u001b[0m\n\u001b[0m\u001b[1;32m   2055\u001b[0m \u001b[0;34m\u001b[0m\u001b[0m\n\u001b[1;32m   2056\u001b[0m     \u001b[0;32mdef\u001b[0m \u001b[0m_showtraceback\u001b[0m\u001b[0;34m(\u001b[0m\u001b[0mself\u001b[0m\u001b[0;34m,\u001b[0m \u001b[0metype\u001b[0m\u001b[0;34m,\u001b[0m \u001b[0mevalue\u001b[0m\u001b[0;34m,\u001b[0m \u001b[0mstb\u001b[0m\u001b[0;34m)\u001b[0m\u001b[0;34m:\u001b[0m\u001b[0;34m\u001b[0m\u001b[0;34m\u001b[0m\u001b[0m\n",
      "\u001b[0;32m~/anaconda3/lib/python3.7/site-packages/IPython/core/interactiveshell.py\u001b[0m in \u001b[0;36mget_exception_only\u001b[0;34m(self, exc_tuple)\u001b[0m\n\u001b[1;32m   1997\u001b[0m         \"\"\"\n\u001b[1;32m   1998\u001b[0m         \u001b[0metype\u001b[0m\u001b[0;34m,\u001b[0m \u001b[0mvalue\u001b[0m\u001b[0;34m,\u001b[0m \u001b[0mtb\u001b[0m \u001b[0;34m=\u001b[0m \u001b[0mself\u001b[0m\u001b[0;34m.\u001b[0m\u001b[0m_get_exc_info\u001b[0m\u001b[0;34m(\u001b[0m\u001b[0mexc_tuple\u001b[0m\u001b[0;34m)\u001b[0m\u001b[0;34m\u001b[0m\u001b[0;34m\u001b[0m\u001b[0m\n\u001b[0;32m-> 1999\u001b[0;31m         \u001b[0mmsg\u001b[0m \u001b[0;34m=\u001b[0m \u001b[0mtraceback\u001b[0m\u001b[0;34m.\u001b[0m\u001b[0mformat_exception_only\u001b[0m\u001b[0;34m(\u001b[0m\u001b[0metype\u001b[0m\u001b[0;34m,\u001b[0m \u001b[0mvalue\u001b[0m\u001b[0;34m)\u001b[0m\u001b[0;34m\u001b[0m\u001b[0;34m\u001b[0m\u001b[0m\n\u001b[0m\u001b[1;32m   2000\u001b[0m         \u001b[0;32mreturn\u001b[0m \u001b[0;34m''\u001b[0m\u001b[0;34m.\u001b[0m\u001b[0mjoin\u001b[0m\u001b[0;34m(\u001b[0m\u001b[0mmsg\u001b[0m\u001b[0;34m)\u001b[0m\u001b[0;34m\u001b[0m\u001b[0;34m\u001b[0m\u001b[0m\n\u001b[1;32m   2001\u001b[0m \u001b[0;34m\u001b[0m\u001b[0m\n",
      "\u001b[0;32m~/anaconda3/lib/python3.7/traceback.py\u001b[0m in \u001b[0;36mformat_exception_only\u001b[0;34m(etype, value)\u001b[0m\n\u001b[1;32m    138\u001b[0m \u001b[0;34m\u001b[0m\u001b[0m\n\u001b[1;32m    139\u001b[0m     \"\"\"\n\u001b[0;32m--> 140\u001b[0;31m     \u001b[0;32mreturn\u001b[0m \u001b[0mlist\u001b[0m\u001b[0;34m(\u001b[0m\u001b[0mTracebackException\u001b[0m\u001b[0;34m(\u001b[0m\u001b[0metype\u001b[0m\u001b[0;34m,\u001b[0m \u001b[0mvalue\u001b[0m\u001b[0;34m,\u001b[0m \u001b[0;32mNone\u001b[0m\u001b[0;34m)\u001b[0m\u001b[0;34m.\u001b[0m\u001b[0mformat_exception_only\u001b[0m\u001b[0;34m(\u001b[0m\u001b[0;34m)\u001b[0m\u001b[0;34m)\u001b[0m\u001b[0;34m\u001b[0m\u001b[0;34m\u001b[0m\u001b[0m\n\u001b[0m\u001b[1;32m    141\u001b[0m \u001b[0;34m\u001b[0m\u001b[0m\n\u001b[1;32m    142\u001b[0m \u001b[0;34m\u001b[0m\u001b[0m\n",
      "\u001b[0;32m~/anaconda3/lib/python3.7/traceback.py\u001b[0m in \u001b[0;36m__init__\u001b[0;34m(self, exc_type, exc_value, exc_traceback, limit, lookup_lines, capture_locals, _seen)\u001b[0m\n\u001b[1;32m    519\u001b[0m             \u001b[0mself\u001b[0m\u001b[0;34m.\u001b[0m\u001b[0mmsg\u001b[0m \u001b[0;34m=\u001b[0m \u001b[0mexc_value\u001b[0m\u001b[0;34m.\u001b[0m\u001b[0mmsg\u001b[0m\u001b[0;34m\u001b[0m\u001b[0;34m\u001b[0m\u001b[0m\n\u001b[1;32m    520\u001b[0m         \u001b[0;32mif\u001b[0m \u001b[0mlookup_lines\u001b[0m\u001b[0;34m:\u001b[0m\u001b[0;34m\u001b[0m\u001b[0;34m\u001b[0m\u001b[0m\n\u001b[0;32m--> 521\u001b[0;31m             \u001b[0mself\u001b[0m\u001b[0;34m.\u001b[0m\u001b[0m_load_lines\u001b[0m\u001b[0;34m(\u001b[0m\u001b[0;34m)\u001b[0m\u001b[0;34m\u001b[0m\u001b[0;34m\u001b[0m\u001b[0m\n\u001b[0m\u001b[1;32m    522\u001b[0m \u001b[0;34m\u001b[0m\u001b[0m\n\u001b[1;32m    523\u001b[0m     \u001b[0;34m@\u001b[0m\u001b[0mclassmethod\u001b[0m\u001b[0;34m\u001b[0m\u001b[0;34m\u001b[0m\u001b[0m\n",
      "\u001b[0;32m~/anaconda3/lib/python3.7/traceback.py\u001b[0m in \u001b[0;36m_load_lines\u001b[0;34m(self)\u001b[0m\n\u001b[1;32m    531\u001b[0m             \u001b[0mframe\u001b[0m\u001b[0;34m.\u001b[0m\u001b[0mline\u001b[0m\u001b[0;34m\u001b[0m\u001b[0;34m\u001b[0m\u001b[0m\n\u001b[1;32m    532\u001b[0m         \u001b[0;32mif\u001b[0m \u001b[0mself\u001b[0m\u001b[0;34m.\u001b[0m\u001b[0m__context__\u001b[0m\u001b[0;34m:\u001b[0m\u001b[0;34m\u001b[0m\u001b[0;34m\u001b[0m\u001b[0m\n\u001b[0;32m--> 533\u001b[0;31m             \u001b[0mself\u001b[0m\u001b[0;34m.\u001b[0m\u001b[0m__context__\u001b[0m\u001b[0;34m.\u001b[0m\u001b[0m_load_lines\u001b[0m\u001b[0;34m(\u001b[0m\u001b[0;34m)\u001b[0m\u001b[0;34m\u001b[0m\u001b[0;34m\u001b[0m\u001b[0m\n\u001b[0m\u001b[1;32m    534\u001b[0m         \u001b[0;32mif\u001b[0m \u001b[0mself\u001b[0m\u001b[0;34m.\u001b[0m\u001b[0m__cause__\u001b[0m\u001b[0;34m:\u001b[0m\u001b[0;34m\u001b[0m\u001b[0;34m\u001b[0m\u001b[0m\n\u001b[1;32m    535\u001b[0m             \u001b[0mself\u001b[0m\u001b[0;34m.\u001b[0m\u001b[0m__cause__\u001b[0m\u001b[0;34m.\u001b[0m\u001b[0m_load_lines\u001b[0m\u001b[0;34m(\u001b[0m\u001b[0;34m)\u001b[0m\u001b[0;34m\u001b[0m\u001b[0;34m\u001b[0m\u001b[0m\n",
      "\u001b[0;32m~/anaconda3/lib/python3.7/traceback.py\u001b[0m in \u001b[0;36m_load_lines\u001b[0;34m(self)\u001b[0m\n\u001b[1;32m    529\u001b[0m         \u001b[0;34m\"\"\"Private API. force all lines in the stack to be loaded.\"\"\"\u001b[0m\u001b[0;34m\u001b[0m\u001b[0;34m\u001b[0m\u001b[0m\n\u001b[1;32m    530\u001b[0m         \u001b[0;32mfor\u001b[0m \u001b[0mframe\u001b[0m \u001b[0;32min\u001b[0m \u001b[0mself\u001b[0m\u001b[0;34m.\u001b[0m\u001b[0mstack\u001b[0m\u001b[0;34m:\u001b[0m\u001b[0;34m\u001b[0m\u001b[0;34m\u001b[0m\u001b[0m\n\u001b[0;32m--> 531\u001b[0;31m             \u001b[0mframe\u001b[0m\u001b[0;34m.\u001b[0m\u001b[0mline\u001b[0m\u001b[0;34m\u001b[0m\u001b[0;34m\u001b[0m\u001b[0m\n\u001b[0m\u001b[1;32m    532\u001b[0m         \u001b[0;32mif\u001b[0m \u001b[0mself\u001b[0m\u001b[0;34m.\u001b[0m\u001b[0m__context__\u001b[0m\u001b[0;34m:\u001b[0m\u001b[0;34m\u001b[0m\u001b[0;34m\u001b[0m\u001b[0m\n\u001b[1;32m    533\u001b[0m             \u001b[0mself\u001b[0m\u001b[0;34m.\u001b[0m\u001b[0m__context__\u001b[0m\u001b[0;34m.\u001b[0m\u001b[0m_load_lines\u001b[0m\u001b[0;34m(\u001b[0m\u001b[0;34m)\u001b[0m\u001b[0;34m\u001b[0m\u001b[0;34m\u001b[0m\u001b[0m\n",
      "\u001b[0;32m~/anaconda3/lib/python3.7/traceback.py\u001b[0m in \u001b[0;36mline\u001b[0;34m(self)\u001b[0m\n\u001b[1;32m    283\u001b[0m     \u001b[0;32mdef\u001b[0m \u001b[0mline\u001b[0m\u001b[0;34m(\u001b[0m\u001b[0mself\u001b[0m\u001b[0;34m)\u001b[0m\u001b[0;34m:\u001b[0m\u001b[0;34m\u001b[0m\u001b[0;34m\u001b[0m\u001b[0m\n\u001b[1;32m    284\u001b[0m         \u001b[0;32mif\u001b[0m \u001b[0mself\u001b[0m\u001b[0;34m.\u001b[0m\u001b[0m_line\u001b[0m \u001b[0;32mis\u001b[0m \u001b[0;32mNone\u001b[0m\u001b[0;34m:\u001b[0m\u001b[0;34m\u001b[0m\u001b[0;34m\u001b[0m\u001b[0m\n\u001b[0;32m--> 285\u001b[0;31m             \u001b[0mself\u001b[0m\u001b[0;34m.\u001b[0m\u001b[0m_line\u001b[0m \u001b[0;34m=\u001b[0m \u001b[0mlinecache\u001b[0m\u001b[0;34m.\u001b[0m\u001b[0mgetline\u001b[0m\u001b[0;34m(\u001b[0m\u001b[0mself\u001b[0m\u001b[0;34m.\u001b[0m\u001b[0mfilename\u001b[0m\u001b[0;34m,\u001b[0m \u001b[0mself\u001b[0m\u001b[0;34m.\u001b[0m\u001b[0mlineno\u001b[0m\u001b[0;34m)\u001b[0m\u001b[0;34m.\u001b[0m\u001b[0mstrip\u001b[0m\u001b[0;34m(\u001b[0m\u001b[0;34m)\u001b[0m\u001b[0;34m\u001b[0m\u001b[0;34m\u001b[0m\u001b[0m\n\u001b[0m\u001b[1;32m    286\u001b[0m         \u001b[0;32mreturn\u001b[0m \u001b[0mself\u001b[0m\u001b[0;34m.\u001b[0m\u001b[0m_line\u001b[0m\u001b[0;34m\u001b[0m\u001b[0;34m\u001b[0m\u001b[0m\n\u001b[1;32m    287\u001b[0m \u001b[0;34m\u001b[0m\u001b[0m\n",
      "\u001b[0;32m~/anaconda3/lib/python3.7/linecache.py\u001b[0m in \u001b[0;36mgetline\u001b[0;34m(filename, lineno, module_globals)\u001b[0m\n\u001b[1;32m     14\u001b[0m \u001b[0;34m\u001b[0m\u001b[0m\n\u001b[1;32m     15\u001b[0m \u001b[0;32mdef\u001b[0m \u001b[0mgetline\u001b[0m\u001b[0;34m(\u001b[0m\u001b[0mfilename\u001b[0m\u001b[0;34m,\u001b[0m \u001b[0mlineno\u001b[0m\u001b[0;34m,\u001b[0m \u001b[0mmodule_globals\u001b[0m\u001b[0;34m=\u001b[0m\u001b[0;32mNone\u001b[0m\u001b[0;34m)\u001b[0m\u001b[0;34m:\u001b[0m\u001b[0;34m\u001b[0m\u001b[0;34m\u001b[0m\u001b[0m\n\u001b[0;32m---> 16\u001b[0;31m     \u001b[0mlines\u001b[0m \u001b[0;34m=\u001b[0m \u001b[0mgetlines\u001b[0m\u001b[0;34m(\u001b[0m\u001b[0mfilename\u001b[0m\u001b[0;34m,\u001b[0m \u001b[0mmodule_globals\u001b[0m\u001b[0;34m)\u001b[0m\u001b[0;34m\u001b[0m\u001b[0;34m\u001b[0m\u001b[0m\n\u001b[0m\u001b[1;32m     17\u001b[0m     \u001b[0;32mif\u001b[0m \u001b[0;36m1\u001b[0m \u001b[0;34m<=\u001b[0m \u001b[0mlineno\u001b[0m \u001b[0;34m<=\u001b[0m \u001b[0mlen\u001b[0m\u001b[0;34m(\u001b[0m\u001b[0mlines\u001b[0m\u001b[0;34m)\u001b[0m\u001b[0;34m:\u001b[0m\u001b[0;34m\u001b[0m\u001b[0;34m\u001b[0m\u001b[0m\n\u001b[1;32m     18\u001b[0m         \u001b[0;32mreturn\u001b[0m \u001b[0mlines\u001b[0m\u001b[0;34m[\u001b[0m\u001b[0mlineno\u001b[0m\u001b[0;34m-\u001b[0m\u001b[0;36m1\u001b[0m\u001b[0;34m]\u001b[0m\u001b[0;34m\u001b[0m\u001b[0;34m\u001b[0m\u001b[0m\n",
      "\u001b[0;32m~/anaconda3/lib/python3.7/linecache.py\u001b[0m in \u001b[0;36mgetlines\u001b[0;34m(filename, module_globals)\u001b[0m\n\u001b[1;32m     45\u001b[0m \u001b[0;34m\u001b[0m\u001b[0m\n\u001b[1;32m     46\u001b[0m     \u001b[0;32mtry\u001b[0m\u001b[0;34m:\u001b[0m\u001b[0;34m\u001b[0m\u001b[0;34m\u001b[0m\u001b[0m\n\u001b[0;32m---> 47\u001b[0;31m         \u001b[0;32mreturn\u001b[0m \u001b[0mupdatecache\u001b[0m\u001b[0;34m(\u001b[0m\u001b[0mfilename\u001b[0m\u001b[0;34m,\u001b[0m \u001b[0mmodule_globals\u001b[0m\u001b[0;34m)\u001b[0m\u001b[0;34m\u001b[0m\u001b[0;34m\u001b[0m\u001b[0m\n\u001b[0m\u001b[1;32m     48\u001b[0m     \u001b[0;32mexcept\u001b[0m \u001b[0mMemoryError\u001b[0m\u001b[0;34m:\u001b[0m\u001b[0;34m\u001b[0m\u001b[0;34m\u001b[0m\u001b[0m\n\u001b[1;32m     49\u001b[0m         \u001b[0mclearcache\u001b[0m\u001b[0;34m(\u001b[0m\u001b[0;34m)\u001b[0m\u001b[0;34m\u001b[0m\u001b[0;34m\u001b[0m\u001b[0m\n",
      "\u001b[0;32m~/anaconda3/lib/python3.7/linecache.py\u001b[0m in \u001b[0;36mupdatecache\u001b[0;34m(filename, module_globals)\u001b[0m\n\u001b[1;32m    135\u001b[0m     \u001b[0;32mtry\u001b[0m\u001b[0;34m:\u001b[0m\u001b[0;34m\u001b[0m\u001b[0;34m\u001b[0m\u001b[0m\n\u001b[1;32m    136\u001b[0m         \u001b[0;32mwith\u001b[0m \u001b[0mtokenize\u001b[0m\u001b[0;34m.\u001b[0m\u001b[0mopen\u001b[0m\u001b[0;34m(\u001b[0m\u001b[0mfullname\u001b[0m\u001b[0;34m)\u001b[0m \u001b[0;32mas\u001b[0m \u001b[0mfp\u001b[0m\u001b[0;34m:\u001b[0m\u001b[0;34m\u001b[0m\u001b[0;34m\u001b[0m\u001b[0m\n\u001b[0;32m--> 137\u001b[0;31m             \u001b[0mlines\u001b[0m \u001b[0;34m=\u001b[0m \u001b[0mfp\u001b[0m\u001b[0;34m.\u001b[0m\u001b[0mreadlines\u001b[0m\u001b[0;34m(\u001b[0m\u001b[0;34m)\u001b[0m\u001b[0;34m\u001b[0m\u001b[0;34m\u001b[0m\u001b[0m\n\u001b[0m\u001b[1;32m    138\u001b[0m     \u001b[0;32mexcept\u001b[0m \u001b[0mOSError\u001b[0m\u001b[0;34m:\u001b[0m\u001b[0;34m\u001b[0m\u001b[0;34m\u001b[0m\u001b[0m\n\u001b[1;32m    139\u001b[0m         \u001b[0;32mreturn\u001b[0m \u001b[0;34m[\u001b[0m\u001b[0;34m]\u001b[0m\u001b[0;34m\u001b[0m\u001b[0;34m\u001b[0m\u001b[0m\n",
      "\u001b[0;32m~/anaconda3/lib/python3.7/codecs.py\u001b[0m in \u001b[0;36mdecode\u001b[0;34m(self, input, final)\u001b[0m\n\u001b[1;32m    317\u001b[0m         \u001b[0;32mraise\u001b[0m \u001b[0mNotImplementedError\u001b[0m\u001b[0;34m\u001b[0m\u001b[0;34m\u001b[0m\u001b[0m\n\u001b[1;32m    318\u001b[0m \u001b[0;34m\u001b[0m\u001b[0m\n\u001b[0;32m--> 319\u001b[0;31m     \u001b[0;32mdef\u001b[0m \u001b[0mdecode\u001b[0m\u001b[0;34m(\u001b[0m\u001b[0mself\u001b[0m\u001b[0;34m,\u001b[0m \u001b[0minput\u001b[0m\u001b[0;34m,\u001b[0m \u001b[0mfinal\u001b[0m\u001b[0;34m=\u001b[0m\u001b[0;32mFalse\u001b[0m\u001b[0;34m)\u001b[0m\u001b[0;34m:\u001b[0m\u001b[0;34m\u001b[0m\u001b[0;34m\u001b[0m\u001b[0m\n\u001b[0m\u001b[1;32m    320\u001b[0m         \u001b[0;31m# decode input (taking the buffer into account)\u001b[0m\u001b[0;34m\u001b[0m\u001b[0;34m\u001b[0m\u001b[0;34m\u001b[0m\u001b[0m\n\u001b[1;32m    321\u001b[0m         \u001b[0mdata\u001b[0m \u001b[0;34m=\u001b[0m \u001b[0mself\u001b[0m\u001b[0;34m.\u001b[0m\u001b[0mbuffer\u001b[0m \u001b[0;34m+\u001b[0m \u001b[0minput\u001b[0m\u001b[0;34m\u001b[0m\u001b[0;34m\u001b[0m\u001b[0m\n",
      "\u001b[0;31mKeyboardInterrupt\u001b[0m: "
     ]
    }
   ],
   "source": [
    "msno.matrix(df)"
   ]
  },
  {
   "cell_type": "code",
   "execution_count": null,
   "metadata": {},
   "outputs": [],
   "source": [
    "msno.heatmap(df)"
   ]
  },
  {
   "cell_type": "code",
   "execution_count": null,
   "metadata": {},
   "outputs": [],
   "source": [
    "msno.bar(df)"
   ]
  },
  {
   "cell_type": "markdown",
   "metadata": {},
   "source": [
    "- 다른 컬럼의 값이 결측치가 작은경우 해당값을 이용해 결측치를 추정"
   ]
  },
  {
   "cell_type": "code",
   "execution_count": 57,
   "metadata": {},
   "outputs": [
    {
     "data": {
      "text/html": [
       "<div>\n",
       "<style scoped>\n",
       "    .dataframe tbody tr th:only-of-type {\n",
       "        vertical-align: middle;\n",
       "    }\n",
       "\n",
       "    .dataframe tbody tr th {\n",
       "        vertical-align: top;\n",
       "    }\n",
       "\n",
       "    .dataframe thead th {\n",
       "        text-align: right;\n",
       "    }\n",
       "</style>\n",
       "<table border=\"1\" class=\"dataframe\">\n",
       "  <thead>\n",
       "    <tr style=\"text-align: right;\">\n",
       "      <th></th>\n",
       "      <th>count</th>\n",
       "    </tr>\n",
       "    <tr>\n",
       "      <th>LAWD_CD</th>\n",
       "      <th></th>\n",
       "    </tr>\n",
       "  </thead>\n",
       "  <tbody>\n",
       "    <tr>\n",
       "      <th>11170</th>\n",
       "      <td>1</td>\n",
       "    </tr>\n",
       "    <tr>\n",
       "      <th>11350</th>\n",
       "      <td>1</td>\n",
       "    </tr>\n",
       "    <tr>\n",
       "      <th>11590</th>\n",
       "      <td>1</td>\n",
       "    </tr>\n",
       "    <tr>\n",
       "      <th>11620</th>\n",
       "      <td>2</td>\n",
       "    </tr>\n",
       "  </tbody>\n",
       "</table>\n",
       "</div>"
      ],
      "text/plain": [
       "         count\n",
       "LAWD_CD       \n",
       "11170        1\n",
       "11350        1\n",
       "11590        1\n",
       "11620        2"
      ]
     },
     "execution_count": 57,
     "metadata": {},
     "output_type": "execute_result"
    }
   ],
   "source": [
    "df.drop_duplicates(subset=[\"LAWD_CD\",\"local2\"]).groupby([\"LAWD_CD\"])[\"local2\"].agg([\"count\"])"
   ]
  },
  {
   "cell_type": "code",
   "execution_count": 58,
   "metadata": {},
   "outputs": [
    {
     "data": {
      "text/plain": [
       "관악구    34414\n",
       "동작구       24\n",
       "Name: local2, dtype: int64"
      ]
     },
     "execution_count": 58,
     "metadata": {},
     "output_type": "execute_result"
    }
   ],
   "source": [
    "df[df[\"LAWD_CD\"]==11620][\"local2\"].value_counts()"
   ]
  },
  {
   "cell_type": "code",
   "execution_count": 59,
   "metadata": {},
   "outputs": [
    {
     "data": {
      "text/html": [
       "<div>\n",
       "<style scoped>\n",
       "    .dataframe tbody tr th:only-of-type {\n",
       "        vertical-align: middle;\n",
       "    }\n",
       "\n",
       "    .dataframe tbody tr th {\n",
       "        vertical-align: top;\n",
       "    }\n",
       "\n",
       "    .dataframe thead th {\n",
       "        text-align: right;\n",
       "    }\n",
       "</style>\n",
       "<table border=\"1\" class=\"dataframe\">\n",
       "  <thead>\n",
       "    <tr style=\"text-align: right;\">\n",
       "      <th></th>\n",
       "      <th>LAWD_CD</th>\n",
       "      <th>DEAL_YM</th>\n",
       "      <th>거래금액</th>\n",
       "      <th>건축년도</th>\n",
       "      <th>법정동</th>\n",
       "      <th>아파트</th>\n",
       "      <th>전용면적</th>\n",
       "      <th>지번</th>\n",
       "      <th>지역코드</th>\n",
       "      <th>층</th>\n",
       "      <th>단지총세대수</th>\n",
       "      <th>총동수</th>\n",
       "      <th>총주차대수</th>\n",
       "      <th>용적율</th>\n",
       "      <th>건폐율</th>\n",
       "      <th>local1</th>\n",
       "      <th>local2</th>\n",
       "      <th>local3</th>\n",
       "      <th>거래일</th>\n",
       "    </tr>\n",
       "  </thead>\n",
       "  <tbody>\n",
       "    <tr>\n",
       "      <th>23404</th>\n",
       "      <td>11620</td>\n",
       "      <td>200603</td>\n",
       "      <td>51000</td>\n",
       "      <td>2000.0</td>\n",
       "      <td>봉천동</td>\n",
       "      <td>캐릭터그린빌</td>\n",
       "      <td>142.47</td>\n",
       "      <td>729-24</td>\n",
       "      <td>11620</td>\n",
       "      <td>25</td>\n",
       "      <td>482.0</td>\n",
       "      <td>1.0</td>\n",
       "      <td>167.0</td>\n",
       "      <td>1001.0</td>\n",
       "      <td>47.0</td>\n",
       "      <td>서울특별시</td>\n",
       "      <td>동작구</td>\n",
       "      <td>신대방동</td>\n",
       "      <td>2006-03-13</td>\n",
       "    </tr>\n",
       "    <tr>\n",
       "      <th>23688</th>\n",
       "      <td>11620</td>\n",
       "      <td>200602</td>\n",
       "      <td>49000</td>\n",
       "      <td>2000.0</td>\n",
       "      <td>봉천동</td>\n",
       "      <td>캐릭터그린빌</td>\n",
       "      <td>142.47</td>\n",
       "      <td>729-24</td>\n",
       "      <td>11620</td>\n",
       "      <td>24</td>\n",
       "      <td>482.0</td>\n",
       "      <td>1.0</td>\n",
       "      <td>167.0</td>\n",
       "      <td>1001.0</td>\n",
       "      <td>47.0</td>\n",
       "      <td>서울특별시</td>\n",
       "      <td>동작구</td>\n",
       "      <td>신대방동</td>\n",
       "      <td>2006-02-08</td>\n",
       "    </tr>\n",
       "    <tr>\n",
       "      <th>117620</th>\n",
       "      <td>11620</td>\n",
       "      <td>200703</td>\n",
       "      <td>54500</td>\n",
       "      <td>2000.0</td>\n",
       "      <td>봉천동</td>\n",
       "      <td>캐릭터그린빌</td>\n",
       "      <td>120.54</td>\n",
       "      <td>729-24</td>\n",
       "      <td>11620</td>\n",
       "      <td>15</td>\n",
       "      <td>482.0</td>\n",
       "      <td>1.0</td>\n",
       "      <td>167.0</td>\n",
       "      <td>1001.0</td>\n",
       "      <td>47.0</td>\n",
       "      <td>서울특별시</td>\n",
       "      <td>동작구</td>\n",
       "      <td>신대방동</td>\n",
       "      <td>2007-03-13</td>\n",
       "    </tr>\n",
       "    <tr>\n",
       "      <th>170863</th>\n",
       "      <td>11620</td>\n",
       "      <td>200804</td>\n",
       "      <td>65000</td>\n",
       "      <td>2000.0</td>\n",
       "      <td>봉천동</td>\n",
       "      <td>캐릭터그린빌</td>\n",
       "      <td>120.54</td>\n",
       "      <td>729-24</td>\n",
       "      <td>11620</td>\n",
       "      <td>22</td>\n",
       "      <td>482.0</td>\n",
       "      <td>1.0</td>\n",
       "      <td>167.0</td>\n",
       "      <td>1001.0</td>\n",
       "      <td>47.0</td>\n",
       "      <td>서울특별시</td>\n",
       "      <td>동작구</td>\n",
       "      <td>신대방동</td>\n",
       "      <td>2008-04-07</td>\n",
       "    </tr>\n",
       "    <tr>\n",
       "      <th>232548</th>\n",
       "      <td>11620</td>\n",
       "      <td>200909</td>\n",
       "      <td>63000</td>\n",
       "      <td>2000.0</td>\n",
       "      <td>봉천동</td>\n",
       "      <td>캐릭터그린빌</td>\n",
       "      <td>120.54</td>\n",
       "      <td>729-24</td>\n",
       "      <td>11620</td>\n",
       "      <td>23</td>\n",
       "      <td>482.0</td>\n",
       "      <td>1.0</td>\n",
       "      <td>167.0</td>\n",
       "      <td>1001.0</td>\n",
       "      <td>47.0</td>\n",
       "      <td>서울특별시</td>\n",
       "      <td>동작구</td>\n",
       "      <td>신대방동</td>\n",
       "      <td>2009-09-07</td>\n",
       "    </tr>\n",
       "    <tr>\n",
       "      <th>331630</th>\n",
       "      <td>11620</td>\n",
       "      <td>201108</td>\n",
       "      <td>74000</td>\n",
       "      <td>2000.0</td>\n",
       "      <td>봉천동</td>\n",
       "      <td>캐릭터그린빌</td>\n",
       "      <td>183.40</td>\n",
       "      <td>729-24</td>\n",
       "      <td>11620</td>\n",
       "      <td>25</td>\n",
       "      <td>482.0</td>\n",
       "      <td>1.0</td>\n",
       "      <td>167.0</td>\n",
       "      <td>1001.0</td>\n",
       "      <td>47.0</td>\n",
       "      <td>서울특별시</td>\n",
       "      <td>동작구</td>\n",
       "      <td>신대방동</td>\n",
       "      <td>2011-08-23</td>\n",
       "    </tr>\n",
       "    <tr>\n",
       "      <th>378523</th>\n",
       "      <td>11620</td>\n",
       "      <td>201212</td>\n",
       "      <td>60000</td>\n",
       "      <td>2000.0</td>\n",
       "      <td>봉천동</td>\n",
       "      <td>캐릭터그린빌</td>\n",
       "      <td>142.47</td>\n",
       "      <td>729-24</td>\n",
       "      <td>11620</td>\n",
       "      <td>17</td>\n",
       "      <td>482.0</td>\n",
       "      <td>1.0</td>\n",
       "      <td>167.0</td>\n",
       "      <td>1001.0</td>\n",
       "      <td>47.0</td>\n",
       "      <td>서울특별시</td>\n",
       "      <td>동작구</td>\n",
       "      <td>신대방동</td>\n",
       "      <td>2012-12-03</td>\n",
       "    </tr>\n",
       "    <tr>\n",
       "      <th>379294</th>\n",
       "      <td>11620</td>\n",
       "      <td>201205</td>\n",
       "      <td>65000</td>\n",
       "      <td>2000.0</td>\n",
       "      <td>봉천동</td>\n",
       "      <td>캐릭터그린빌</td>\n",
       "      <td>142.47</td>\n",
       "      <td>729-24</td>\n",
       "      <td>11620</td>\n",
       "      <td>17</td>\n",
       "      <td>482.0</td>\n",
       "      <td>1.0</td>\n",
       "      <td>167.0</td>\n",
       "      <td>1001.0</td>\n",
       "      <td>47.0</td>\n",
       "      <td>서울특별시</td>\n",
       "      <td>동작구</td>\n",
       "      <td>신대방동</td>\n",
       "      <td>2012-05-30</td>\n",
       "    </tr>\n",
       "    <tr>\n",
       "      <th>488762</th>\n",
       "      <td>11620</td>\n",
       "      <td>201409</td>\n",
       "      <td>57700</td>\n",
       "      <td>2000.0</td>\n",
       "      <td>봉천동</td>\n",
       "      <td>캐릭터그린빌</td>\n",
       "      <td>142.47</td>\n",
       "      <td>729-24</td>\n",
       "      <td>11620</td>\n",
       "      <td>26</td>\n",
       "      <td>482.0</td>\n",
       "      <td>1.0</td>\n",
       "      <td>167.0</td>\n",
       "      <td>1001.0</td>\n",
       "      <td>47.0</td>\n",
       "      <td>서울특별시</td>\n",
       "      <td>동작구</td>\n",
       "      <td>신대방동</td>\n",
       "      <td>2014-09-01</td>\n",
       "    </tr>\n",
       "    <tr>\n",
       "      <th>489437</th>\n",
       "      <td>11620</td>\n",
       "      <td>201406</td>\n",
       "      <td>55000</td>\n",
       "      <td>2000.0</td>\n",
       "      <td>봉천동</td>\n",
       "      <td>캐릭터그린빌</td>\n",
       "      <td>120.54</td>\n",
       "      <td>729-24</td>\n",
       "      <td>11620</td>\n",
       "      <td>15</td>\n",
       "      <td>482.0</td>\n",
       "      <td>1.0</td>\n",
       "      <td>167.0</td>\n",
       "      <td>1001.0</td>\n",
       "      <td>47.0</td>\n",
       "      <td>서울특별시</td>\n",
       "      <td>동작구</td>\n",
       "      <td>신대방동</td>\n",
       "      <td>2014-06-10</td>\n",
       "    </tr>\n",
       "    <tr>\n",
       "      <th>489969</th>\n",
       "      <td>11620</td>\n",
       "      <td>201403</td>\n",
       "      <td>72000</td>\n",
       "      <td>2000.0</td>\n",
       "      <td>봉천동</td>\n",
       "      <td>캐릭터그린빌</td>\n",
       "      <td>183.40</td>\n",
       "      <td>729-24</td>\n",
       "      <td>11620</td>\n",
       "      <td>25</td>\n",
       "      <td>482.0</td>\n",
       "      <td>1.0</td>\n",
       "      <td>167.0</td>\n",
       "      <td>1001.0</td>\n",
       "      <td>47.0</td>\n",
       "      <td>서울특별시</td>\n",
       "      <td>동작구</td>\n",
       "      <td>신대방동</td>\n",
       "      <td>2014-03-28</td>\n",
       "    </tr>\n",
       "    <tr>\n",
       "      <th>490118</th>\n",
       "      <td>11620</td>\n",
       "      <td>201402</td>\n",
       "      <td>54250</td>\n",
       "      <td>2000.0</td>\n",
       "      <td>봉천동</td>\n",
       "      <td>캐릭터그린빌</td>\n",
       "      <td>118.88</td>\n",
       "      <td>729-24</td>\n",
       "      <td>11620</td>\n",
       "      <td>16</td>\n",
       "      <td>482.0</td>\n",
       "      <td>1.0</td>\n",
       "      <td>167.0</td>\n",
       "      <td>1001.0</td>\n",
       "      <td>47.0</td>\n",
       "      <td>서울특별시</td>\n",
       "      <td>동작구</td>\n",
       "      <td>신대방동</td>\n",
       "      <td>2014-02-06</td>\n",
       "    </tr>\n",
       "    <tr>\n",
       "      <th>490445</th>\n",
       "      <td>11620</td>\n",
       "      <td>201401</td>\n",
       "      <td>56500</td>\n",
       "      <td>2000.0</td>\n",
       "      <td>봉천동</td>\n",
       "      <td>캐릭터그린빌</td>\n",
       "      <td>120.54</td>\n",
       "      <td>729-24</td>\n",
       "      <td>11620</td>\n",
       "      <td>16</td>\n",
       "      <td>482.0</td>\n",
       "      <td>1.0</td>\n",
       "      <td>167.0</td>\n",
       "      <td>1001.0</td>\n",
       "      <td>47.0</td>\n",
       "      <td>서울특별시</td>\n",
       "      <td>동작구</td>\n",
       "      <td>신대방동</td>\n",
       "      <td>2014-01-23</td>\n",
       "    </tr>\n",
       "    <tr>\n",
       "      <th>684397</th>\n",
       "      <td>11620</td>\n",
       "      <td>201612</td>\n",
       "      <td>59500</td>\n",
       "      <td>2000.0</td>\n",
       "      <td>봉천동</td>\n",
       "      <td>캐릭터그린빌</td>\n",
       "      <td>120.54</td>\n",
       "      <td>729-24</td>\n",
       "      <td>11620</td>\n",
       "      <td>16</td>\n",
       "      <td>482.0</td>\n",
       "      <td>1.0</td>\n",
       "      <td>167.0</td>\n",
       "      <td>1001.0</td>\n",
       "      <td>47.0</td>\n",
       "      <td>서울특별시</td>\n",
       "      <td>동작구</td>\n",
       "      <td>신대방동</td>\n",
       "      <td>2016-12-29</td>\n",
       "    </tr>\n",
       "    <tr>\n",
       "      <th>684466</th>\n",
       "      <td>11620</td>\n",
       "      <td>201611</td>\n",
       "      <td>59200</td>\n",
       "      <td>2000.0</td>\n",
       "      <td>봉천동</td>\n",
       "      <td>캐릭터그린빌</td>\n",
       "      <td>118.88</td>\n",
       "      <td>729-24</td>\n",
       "      <td>11620</td>\n",
       "      <td>23</td>\n",
       "      <td>482.0</td>\n",
       "      <td>1.0</td>\n",
       "      <td>167.0</td>\n",
       "      <td>1001.0</td>\n",
       "      <td>47.0</td>\n",
       "      <td>서울특별시</td>\n",
       "      <td>동작구</td>\n",
       "      <td>신대방동</td>\n",
       "      <td>2016-11-03</td>\n",
       "    </tr>\n",
       "    <tr>\n",
       "      <th>790895</th>\n",
       "      <td>11620</td>\n",
       "      <td>201710</td>\n",
       "      <td>61500</td>\n",
       "      <td>2000.0</td>\n",
       "      <td>봉천동</td>\n",
       "      <td>캐릭터그린빌</td>\n",
       "      <td>118.88</td>\n",
       "      <td>729-24</td>\n",
       "      <td>11620</td>\n",
       "      <td>23</td>\n",
       "      <td>482.0</td>\n",
       "      <td>1.0</td>\n",
       "      <td>167.0</td>\n",
       "      <td>1001.0</td>\n",
       "      <td>47.0</td>\n",
       "      <td>서울특별시</td>\n",
       "      <td>동작구</td>\n",
       "      <td>신대방동</td>\n",
       "      <td>2017-10-19</td>\n",
       "    </tr>\n",
       "    <tr>\n",
       "      <th>791457</th>\n",
       "      <td>11620</td>\n",
       "      <td>201707</td>\n",
       "      <td>67000</td>\n",
       "      <td>2000.0</td>\n",
       "      <td>봉천동</td>\n",
       "      <td>캐릭터그린빌</td>\n",
       "      <td>142.47</td>\n",
       "      <td>729-24</td>\n",
       "      <td>11620</td>\n",
       "      <td>21</td>\n",
       "      <td>482.0</td>\n",
       "      <td>1.0</td>\n",
       "      <td>167.0</td>\n",
       "      <td>1001.0</td>\n",
       "      <td>47.0</td>\n",
       "      <td>서울특별시</td>\n",
       "      <td>동작구</td>\n",
       "      <td>신대방동</td>\n",
       "      <td>2017-07-11</td>\n",
       "    </tr>\n",
       "    <tr>\n",
       "      <th>880200</th>\n",
       "      <td>11620</td>\n",
       "      <td>201809</td>\n",
       "      <td>69800</td>\n",
       "      <td>2000.0</td>\n",
       "      <td>봉천동</td>\n",
       "      <td>캐릭터그린빌</td>\n",
       "      <td>142.47</td>\n",
       "      <td>729-24</td>\n",
       "      <td>11620</td>\n",
       "      <td>17</td>\n",
       "      <td>482.0</td>\n",
       "      <td>1.0</td>\n",
       "      <td>167.0</td>\n",
       "      <td>1001.0</td>\n",
       "      <td>47.0</td>\n",
       "      <td>서울특별시</td>\n",
       "      <td>동작구</td>\n",
       "      <td>신대방동</td>\n",
       "      <td>2018-09-14</td>\n",
       "    </tr>\n",
       "    <tr>\n",
       "      <th>881892</th>\n",
       "      <td>11620</td>\n",
       "      <td>201802</td>\n",
       "      <td>65000</td>\n",
       "      <td>2000.0</td>\n",
       "      <td>봉천동</td>\n",
       "      <td>캐릭터그린빌</td>\n",
       "      <td>120.54</td>\n",
       "      <td>729-24</td>\n",
       "      <td>11620</td>\n",
       "      <td>23</td>\n",
       "      <td>482.0</td>\n",
       "      <td>1.0</td>\n",
       "      <td>167.0</td>\n",
       "      <td>1001.0</td>\n",
       "      <td>47.0</td>\n",
       "      <td>서울특별시</td>\n",
       "      <td>동작구</td>\n",
       "      <td>신대방동</td>\n",
       "      <td>2018-02-12</td>\n",
       "    </tr>\n",
       "    <tr>\n",
       "      <th>943736</th>\n",
       "      <td>11620</td>\n",
       "      <td>201808</td>\n",
       "      <td>83000</td>\n",
       "      <td>2000.0</td>\n",
       "      <td>봉천동</td>\n",
       "      <td>캐릭터그린빌</td>\n",
       "      <td>183.40</td>\n",
       "      <td>729-24</td>\n",
       "      <td>11620</td>\n",
       "      <td>26</td>\n",
       "      <td>482.0</td>\n",
       "      <td>1.0</td>\n",
       "      <td>167.0</td>\n",
       "      <td>1001.0</td>\n",
       "      <td>47.0</td>\n",
       "      <td>서울특별시</td>\n",
       "      <td>동작구</td>\n",
       "      <td>신대방동</td>\n",
       "      <td>2018-08-24</td>\n",
       "    </tr>\n",
       "    <tr>\n",
       "      <th>960170</th>\n",
       "      <td>11620</td>\n",
       "      <td>201907</td>\n",
       "      <td>68000</td>\n",
       "      <td>2000.0</td>\n",
       "      <td>봉천동</td>\n",
       "      <td>캐릭터그린빌</td>\n",
       "      <td>118.88</td>\n",
       "      <td>729-24</td>\n",
       "      <td>11620</td>\n",
       "      <td>24</td>\n",
       "      <td>482.0</td>\n",
       "      <td>1.0</td>\n",
       "      <td>167.0</td>\n",
       "      <td>1001.0</td>\n",
       "      <td>47.0</td>\n",
       "      <td>서울특별시</td>\n",
       "      <td>동작구</td>\n",
       "      <td>신대방동</td>\n",
       "      <td>2019-07-17</td>\n",
       "    </tr>\n",
       "    <tr>\n",
       "      <th>1010651</th>\n",
       "      <td>11620</td>\n",
       "      <td>201911</td>\n",
       "      <td>89500</td>\n",
       "      <td>2000.0</td>\n",
       "      <td>봉천동</td>\n",
       "      <td>캐릭터그린빌</td>\n",
       "      <td>183.40</td>\n",
       "      <td>729-24</td>\n",
       "      <td>11620</td>\n",
       "      <td>19</td>\n",
       "      <td>482.0</td>\n",
       "      <td>1.0</td>\n",
       "      <td>167.0</td>\n",
       "      <td>1001.0</td>\n",
       "      <td>47.0</td>\n",
       "      <td>서울특별시</td>\n",
       "      <td>동작구</td>\n",
       "      <td>신대방동</td>\n",
       "      <td>2019-11-28</td>\n",
       "    </tr>\n",
       "    <tr>\n",
       "      <th>1011456</th>\n",
       "      <td>11620</td>\n",
       "      <td>201912</td>\n",
       "      <td>85000</td>\n",
       "      <td>2000.0</td>\n",
       "      <td>봉천동</td>\n",
       "      <td>캐릭터그린빌</td>\n",
       "      <td>142.47</td>\n",
       "      <td>729-24</td>\n",
       "      <td>11620</td>\n",
       "      <td>21</td>\n",
       "      <td>482.0</td>\n",
       "      <td>1.0</td>\n",
       "      <td>167.0</td>\n",
       "      <td>1001.0</td>\n",
       "      <td>47.0</td>\n",
       "      <td>서울특별시</td>\n",
       "      <td>동작구</td>\n",
       "      <td>신대방동</td>\n",
       "      <td>2019-12-02</td>\n",
       "    </tr>\n",
       "    <tr>\n",
       "      <th>1038673</th>\n",
       "      <td>11620</td>\n",
       "      <td>202005</td>\n",
       "      <td>77000</td>\n",
       "      <td>2000.0</td>\n",
       "      <td>봉천동</td>\n",
       "      <td>캐릭터그린빌</td>\n",
       "      <td>142.47</td>\n",
       "      <td>729-24</td>\n",
       "      <td>11620</td>\n",
       "      <td>23</td>\n",
       "      <td>482.0</td>\n",
       "      <td>1.0</td>\n",
       "      <td>167.0</td>\n",
       "      <td>1001.0</td>\n",
       "      <td>47.0</td>\n",
       "      <td>서울특별시</td>\n",
       "      <td>동작구</td>\n",
       "      <td>신대방동</td>\n",
       "      <td>2020-05-21</td>\n",
       "    </tr>\n",
       "  </tbody>\n",
       "</table>\n",
       "</div>"
      ],
      "text/plain": [
       "         LAWD_CD  DEAL_YM   거래금액    건축년도  법정동     아파트    전용면적      지번   지역코드  \\\n",
       "23404      11620   200603  51000  2000.0  봉천동  캐릭터그린빌  142.47  729-24  11620   \n",
       "23688      11620   200602  49000  2000.0  봉천동  캐릭터그린빌  142.47  729-24  11620   \n",
       "117620     11620   200703  54500  2000.0  봉천동  캐릭터그린빌  120.54  729-24  11620   \n",
       "170863     11620   200804  65000  2000.0  봉천동  캐릭터그린빌  120.54  729-24  11620   \n",
       "232548     11620   200909  63000  2000.0  봉천동  캐릭터그린빌  120.54  729-24  11620   \n",
       "331630     11620   201108  74000  2000.0  봉천동  캐릭터그린빌  183.40  729-24  11620   \n",
       "378523     11620   201212  60000  2000.0  봉천동  캐릭터그린빌  142.47  729-24  11620   \n",
       "379294     11620   201205  65000  2000.0  봉천동  캐릭터그린빌  142.47  729-24  11620   \n",
       "488762     11620   201409  57700  2000.0  봉천동  캐릭터그린빌  142.47  729-24  11620   \n",
       "489437     11620   201406  55000  2000.0  봉천동  캐릭터그린빌  120.54  729-24  11620   \n",
       "489969     11620   201403  72000  2000.0  봉천동  캐릭터그린빌  183.40  729-24  11620   \n",
       "490118     11620   201402  54250  2000.0  봉천동  캐릭터그린빌  118.88  729-24  11620   \n",
       "490445     11620   201401  56500  2000.0  봉천동  캐릭터그린빌  120.54  729-24  11620   \n",
       "684397     11620   201612  59500  2000.0  봉천동  캐릭터그린빌  120.54  729-24  11620   \n",
       "684466     11620   201611  59200  2000.0  봉천동  캐릭터그린빌  118.88  729-24  11620   \n",
       "790895     11620   201710  61500  2000.0  봉천동  캐릭터그린빌  118.88  729-24  11620   \n",
       "791457     11620   201707  67000  2000.0  봉천동  캐릭터그린빌  142.47  729-24  11620   \n",
       "880200     11620   201809  69800  2000.0  봉천동  캐릭터그린빌  142.47  729-24  11620   \n",
       "881892     11620   201802  65000  2000.0  봉천동  캐릭터그린빌  120.54  729-24  11620   \n",
       "943736     11620   201808  83000  2000.0  봉천동  캐릭터그린빌  183.40  729-24  11620   \n",
       "960170     11620   201907  68000  2000.0  봉천동  캐릭터그린빌  118.88  729-24  11620   \n",
       "1010651    11620   201911  89500  2000.0  봉천동  캐릭터그린빌  183.40  729-24  11620   \n",
       "1011456    11620   201912  85000  2000.0  봉천동  캐릭터그린빌  142.47  729-24  11620   \n",
       "1038673    11620   202005  77000  2000.0  봉천동  캐릭터그린빌  142.47  729-24  11620   \n",
       "\n",
       "          층  단지총세대수  총동수  총주차대수     용적율   건폐율 local1 local2 local3        거래일  \n",
       "23404    25   482.0  1.0  167.0  1001.0  47.0  서울특별시    동작구   신대방동 2006-03-13  \n",
       "23688    24   482.0  1.0  167.0  1001.0  47.0  서울특별시    동작구   신대방동 2006-02-08  \n",
       "117620   15   482.0  1.0  167.0  1001.0  47.0  서울특별시    동작구   신대방동 2007-03-13  \n",
       "170863   22   482.0  1.0  167.0  1001.0  47.0  서울특별시    동작구   신대방동 2008-04-07  \n",
       "232548   23   482.0  1.0  167.0  1001.0  47.0  서울특별시    동작구   신대방동 2009-09-07  \n",
       "331630   25   482.0  1.0  167.0  1001.0  47.0  서울특별시    동작구   신대방동 2011-08-23  \n",
       "378523   17   482.0  1.0  167.0  1001.0  47.0  서울특별시    동작구   신대방동 2012-12-03  \n",
       "379294   17   482.0  1.0  167.0  1001.0  47.0  서울특별시    동작구   신대방동 2012-05-30  \n",
       "488762   26   482.0  1.0  167.0  1001.0  47.0  서울특별시    동작구   신대방동 2014-09-01  \n",
       "489437   15   482.0  1.0  167.0  1001.0  47.0  서울특별시    동작구   신대방동 2014-06-10  \n",
       "489969   25   482.0  1.0  167.0  1001.0  47.0  서울특별시    동작구   신대방동 2014-03-28  \n",
       "490118   16   482.0  1.0  167.0  1001.0  47.0  서울특별시    동작구   신대방동 2014-02-06  \n",
       "490445   16   482.0  1.0  167.0  1001.0  47.0  서울특별시    동작구   신대방동 2014-01-23  \n",
       "684397   16   482.0  1.0  167.0  1001.0  47.0  서울특별시    동작구   신대방동 2016-12-29  \n",
       "684466   23   482.0  1.0  167.0  1001.0  47.0  서울특별시    동작구   신대방동 2016-11-03  \n",
       "790895   23   482.0  1.0  167.0  1001.0  47.0  서울특별시    동작구   신대방동 2017-10-19  \n",
       "791457   21   482.0  1.0  167.0  1001.0  47.0  서울특별시    동작구   신대방동 2017-07-11  \n",
       "880200   17   482.0  1.0  167.0  1001.0  47.0  서울특별시    동작구   신대방동 2018-09-14  \n",
       "881892   23   482.0  1.0  167.0  1001.0  47.0  서울특별시    동작구   신대방동 2018-02-12  \n",
       "943736   26   482.0  1.0  167.0  1001.0  47.0  서울특별시    동작구   신대방동 2018-08-24  \n",
       "960170   24   482.0  1.0  167.0  1001.0  47.0  서울특별시    동작구   신대방동 2019-07-17  \n",
       "1010651  19   482.0  1.0  167.0  1001.0  47.0  서울특별시    동작구   신대방동 2019-11-28  \n",
       "1011456  21   482.0  1.0  167.0  1001.0  47.0  서울특별시    동작구   신대방동 2019-12-02  \n",
       "1038673  23   482.0  1.0  167.0  1001.0  47.0  서울특별시    동작구   신대방동 2020-05-21  "
      ]
     },
     "execution_count": 59,
     "metadata": {},
     "output_type": "execute_result"
    }
   ],
   "source": [
    "df[(df[\"LAWD_CD\"]==11620)&(df[\"local2\"]==\"동작구\")]"
   ]
  },
  {
   "cell_type": "code",
   "execution_count": 61,
   "metadata": {},
   "outputs": [
    {
     "data": {
      "text/plain": [
       "<matplotlib.axes._subplots.AxesSubplot at 0x7f5dc0e8dcc0>"
      ]
     },
     "execution_count": 61,
     "metadata": {},
     "output_type": "execute_result"
    },
    {
     "data": {
      "image/png": "[encoded data removed]",
      "text/plain": [
       "<Figure size 432x288 with 1 Axes>"
      ]
     },
     "metadata": {
      "needs_background": "light"
     },
     "output_type": "display_data"
    }
   ],
   "source": [
    "df.boxplot(column=\"거래금액\")"
   ]
  },
  {
   "cell_type": "code",
   "execution_count": 62,
   "metadata": {},
   "outputs": [
    {
     "data": {
      "text/plain": [
       "count    215746.000000\n",
       "mean      41726.163197\n",
       "std       34309.078783\n",
       "min        1031.000000\n",
       "25%       23000.000000\n",
       "50%       34500.000000\n",
       "75%       50500.000000\n",
       "max      840000.000000\n",
       "Name: 거래금액, dtype: float64"
      ]
     },
     "execution_count": 62,
     "metadata": {},
     "output_type": "execute_result"
    }
   ],
   "source": [
    "df[\"거래금액\"].describe()"
   ]
  },
  {
   "cell_type": "code",
   "execution_count": 63,
   "metadata": {},
   "outputs": [
    {
     "data": {
      "text/plain": [
       "956122"
      ]
     },
     "execution_count": 63,
     "metadata": {},
     "output_type": "execute_result"
    }
   ],
   "source": [
    "df[\"거래금액\"].idxmax()"
   ]
  },
  {
   "cell_type": "code",
   "execution_count": 64,
   "metadata": {},
   "outputs": [
    {
     "data": {
      "text/plain": [
       "LAWD_CD                  11170\n",
       "DEAL_YM                 201901\n",
       "거래금액                    840000\n",
       "건축년도                      2011\n",
       "법정동                        한남동\n",
       "아파트                       한남더힐\n",
       "전용면적                   244.749\n",
       "지번                         810\n",
       "지역코드                     11170\n",
       "층                            3\n",
       "단지총세대수                     600\n",
       "총동수                         32\n",
       "총주차대수                     1732\n",
       "용적율                        120\n",
       "건폐율                         29\n",
       "local1                   서울특별시\n",
       "local2                     용산구\n",
       "local3                     한남동\n",
       "거래일        2019-01-10 00:00:00\n",
       "Name: 956122, dtype: object"
      ]
     },
     "execution_count": 64,
     "metadata": {},
     "output_type": "execute_result"
    }
   ],
   "source": [
    "df.loc[956122]"
   ]
  },
  {
   "cell_type": "code",
   "execution_count": 66,
   "metadata": {},
   "outputs": [],
   "source": [
    "import warnings\n",
    "warnings.filterwarnings(\"ignore\")"
   ]
  },
  {
   "cell_type": "code",
   "execution_count": 68,
   "metadata": {},
   "outputs": [
    {
     "data": {
      "image/png": "[encoded data removed]",
      "text/plain": [
       "<Figure size 1440x720 with 1 Axes>"
      ]
     },
     "metadata": {
      "needs_background": "light"
     },
     "output_type": "display_data"
    }
   ],
   "source": [
    "fig, ax = plt.subplots(figsize=(20,10))\n",
    "ax.plot(df[\"거래일\"] , df[\"거래금액\"],\"o\")\n",
    "plt.axhline(y=600000,  color=\"r\",linewidth=1)\n",
    "plt.show()"
   ]
  },
  {
   "cell_type": "markdown",
   "metadata": {},
   "source": [
    "## 범주형 데이터 다루기"
   ]
  },
  {
   "cell_type": "code",
   "execution_count": 70,
   "metadata": {},
   "outputs": [],
   "source": [
    "df = df[[\"거래금액\",\"거래일\",\"건축년도\",\"아파트\",\"전용면적\",\"층\",\"단지총세대수\",\"총동수\",\"총주차대수\",\"용적율\",\"건폐율\",\"local1\",\"local2\",\"local3\",\"지번\"]]"
   ]
  },
  {
   "cell_type": "code",
   "execution_count": 71,
   "metadata": {},
   "outputs": [
    {
     "data": {
      "text/plain": [
       "거래금액          0\n",
       "거래일           0\n",
       "건축년도          0\n",
       "아파트           0\n",
       "전용면적          0\n",
       "층             0\n",
       "단지총세대수        0\n",
       "총동수           0\n",
       "총주차대수     11615\n",
       "용적율        1131\n",
       "건폐율        3163\n",
       "local1        0\n",
       "local2        0\n",
       "local3        0\n",
       "지번            0\n",
       "dtype: int64"
      ]
     },
     "execution_count": 71,
     "metadata": {},
     "output_type": "execute_result"
    }
   ],
   "source": [
    "df.isnull().sum()"
   ]
  },
  {
   "cell_type": "code",
   "execution_count": 74,
   "metadata": {},
   "outputs": [],
   "source": [
    "df.loc[df[\"총주차대수\"].isnull() , \"총주차대수\"] = df[df[\"총주차대수\"].notnull()][\"총주차대수\"].mean()"
   ]
  },
  {
   "cell_type": "code",
   "execution_count": 75,
   "metadata": {},
   "outputs": [],
   "source": [
    "df.loc[df[\"용적율\"].isnull() , \"용적율\"] = df[df[\"용적율\"].notnull()][\"용적율\"].mean()"
   ]
  },
  {
   "cell_type": "code",
   "execution_count": 76,
   "metadata": {},
   "outputs": [],
   "source": [
    "df.loc[df[\"건폐율\"].isnull() , \"건폐율\"] = df[df[\"건폐율\"].notnull()][\"건폐율\"].mean()"
   ]
  },
  {
   "cell_type": "markdown",
   "metadata": {},
   "source": [
    "- LabelEncoder을 이용한 변수변환"
   ]
  },
  {
   "cell_type": "code",
   "execution_count": 77,
   "metadata": {},
   "outputs": [],
   "source": [
    "from sklearn.preprocessing import LabelEncoder"
   ]
  },
  {
   "cell_type": "code",
   "execution_count": 80,
   "metadata": {},
   "outputs": [],
   "source": [
    "df[\"local2\"] = df[\"local1\"] + \"-\"+ df[\"local2\"]"
   ]
  },
  {
   "cell_type": "code",
   "execution_count": 81,
   "metadata": {},
   "outputs": [],
   "source": [
    "df[\"local3\"] = df[\"local2\"] + \"-\"+df[\"local3\"]"
   ]
  },
  {
   "cell_type": "code",
   "execution_count": 82,
   "metadata": {},
   "outputs": [],
   "source": [
    "df[\"지번\"] = df[\"local3\"] + \"-\" + df[\"지번\"]"
   ]
  },
  {
   "cell_type": "code",
   "execution_count": 83,
   "metadata": {},
   "outputs": [],
   "source": [
    "local3_encoder = LabelEncoder()"
   ]
  },
  {
   "cell_type": "code",
   "execution_count": 85,
   "metadata": {},
   "outputs": [],
   "source": [
    "df[\"local3_encoded\"] = local3_encoder.fit_transform(df[\"local3\"].values.reshape(-1,1))"
   ]
  },
  {
   "cell_type": "code",
   "execution_count": 86,
   "metadata": {},
   "outputs": [
    {
     "data": {
      "text/html": [
       "<div>\n",
       "<style scoped>\n",
       "    .dataframe tbody tr th:only-of-type {\n",
       "        vertical-align: middle;\n",
       "    }\n",
       "\n",
       "    .dataframe tbody tr th {\n",
       "        vertical-align: top;\n",
       "    }\n",
       "\n",
       "    .dataframe thead th {\n",
       "        text-align: right;\n",
       "    }\n",
       "</style>\n",
       "<table border=\"1\" class=\"dataframe\">\n",
       "  <thead>\n",
       "    <tr style=\"text-align: right;\">\n",
       "      <th></th>\n",
       "      <th>local3</th>\n",
       "      <th>local3_encoded</th>\n",
       "    </tr>\n",
       "  </thead>\n",
       "  <tbody>\n",
       "    <tr>\n",
       "      <th>20361</th>\n",
       "      <td>서울특별시-관악구-봉천동</td>\n",
       "      <td>1</td>\n",
       "    </tr>\n",
       "    <tr>\n",
       "      <th>20362</th>\n",
       "      <td>서울특별시-관악구-봉천동</td>\n",
       "      <td>1</td>\n",
       "    </tr>\n",
       "    <tr>\n",
       "      <th>20363</th>\n",
       "      <td>서울특별시-관악구-봉천동</td>\n",
       "      <td>1</td>\n",
       "    </tr>\n",
       "    <tr>\n",
       "      <th>20364</th>\n",
       "      <td>서울특별시-관악구-봉천동</td>\n",
       "      <td>1</td>\n",
       "    </tr>\n",
       "    <tr>\n",
       "      <th>20365</th>\n",
       "      <td>서울특별시-관악구-봉천동</td>\n",
       "      <td>1</td>\n",
       "    </tr>\n",
       "  </tbody>\n",
       "</table>\n",
       "</div>"
      ],
      "text/plain": [
       "              local3  local3_encoded\n",
       "20361  서울특별시-관악구-봉천동               1\n",
       "20362  서울특별시-관악구-봉천동               1\n",
       "20363  서울특별시-관악구-봉천동               1\n",
       "20364  서울특별시-관악구-봉천동               1\n",
       "20365  서울특별시-관악구-봉천동               1"
      ]
     },
     "execution_count": 86,
     "metadata": {},
     "output_type": "execute_result"
    }
   ],
   "source": [
    "df[[\"local3\",\"local3_encoded\"]].head(5)"
   ]
  },
  {
   "cell_type": "code",
   "execution_count": 87,
   "metadata": {},
   "outputs": [],
   "source": [
    "df[\"local3_decoded\"] = local3_encoder.inverse_transform(df[\"local3_encoded\"])"
   ]
  },
  {
   "cell_type": "code",
   "execution_count": 88,
   "metadata": {},
   "outputs": [
    {
     "data": {
      "text/html": [
       "<div>\n",
       "<style scoped>\n",
       "    .dataframe tbody tr th:only-of-type {\n",
       "        vertical-align: middle;\n",
       "    }\n",
       "\n",
       "    .dataframe tbody tr th {\n",
       "        vertical-align: top;\n",
       "    }\n",
       "\n",
       "    .dataframe thead th {\n",
       "        text-align: right;\n",
       "    }\n",
       "</style>\n",
       "<table border=\"1\" class=\"dataframe\">\n",
       "  <thead>\n",
       "    <tr style=\"text-align: right;\">\n",
       "      <th></th>\n",
       "      <th>local3</th>\n",
       "      <th>local3_encoded</th>\n",
       "      <th>local3_decoded</th>\n",
       "    </tr>\n",
       "  </thead>\n",
       "  <tbody>\n",
       "    <tr>\n",
       "      <th>20361</th>\n",
       "      <td>서울특별시-관악구-봉천동</td>\n",
       "      <td>1</td>\n",
       "      <td>서울특별시-관악구-봉천동</td>\n",
       "    </tr>\n",
       "    <tr>\n",
       "      <th>20362</th>\n",
       "      <td>서울특별시-관악구-봉천동</td>\n",
       "      <td>1</td>\n",
       "      <td>서울특별시-관악구-봉천동</td>\n",
       "    </tr>\n",
       "    <tr>\n",
       "      <th>20363</th>\n",
       "      <td>서울특별시-관악구-봉천동</td>\n",
       "      <td>1</td>\n",
       "      <td>서울특별시-관악구-봉천동</td>\n",
       "    </tr>\n",
       "    <tr>\n",
       "      <th>20364</th>\n",
       "      <td>서울특별시-관악구-봉천동</td>\n",
       "      <td>1</td>\n",
       "      <td>서울특별시-관악구-봉천동</td>\n",
       "    </tr>\n",
       "    <tr>\n",
       "      <th>20365</th>\n",
       "      <td>서울특별시-관악구-봉천동</td>\n",
       "      <td>1</td>\n",
       "      <td>서울특별시-관악구-봉천동</td>\n",
       "    </tr>\n",
       "  </tbody>\n",
       "</table>\n",
       "</div>"
      ],
      "text/plain": [
       "              local3  local3_encoded local3_decoded\n",
       "20361  서울특별시-관악구-봉천동               1  서울특별시-관악구-봉천동\n",
       "20362  서울특별시-관악구-봉천동               1  서울특별시-관악구-봉천동\n",
       "20363  서울특별시-관악구-봉천동               1  서울특별시-관악구-봉천동\n",
       "20364  서울특별시-관악구-봉천동               1  서울특별시-관악구-봉천동\n",
       "20365  서울특별시-관악구-봉천동               1  서울특별시-관악구-봉천동"
      ]
     },
     "execution_count": 88,
     "metadata": {},
     "output_type": "execute_result"
    }
   ],
   "source": [
    "df[[\"local3\",\"local3_encoded\",\"local3_decoded\"]].head(5)"
   ]
  },
  {
   "cell_type": "code",
   "execution_count": 89,
   "metadata": {},
   "outputs": [],
   "source": [
    "del df[\"local3_decoded\"]"
   ]
  },
  {
   "cell_type": "code",
   "execution_count": 90,
   "metadata": {},
   "outputs": [],
   "source": [
    "local1_encoder = LabelEncoder()\n",
    "df[\"local1_encoded\"] = local1_encoder.fit_transform(df[\"local1\"])\n",
    "\n",
    "local2_encoder = LabelEncoder()\n",
    "df[\"local2_encoded\"] = local2_encoder.fit_transform(df[\"local2\"])\n",
    "\n",
    "jibun_encoder = LabelEncoder()\n",
    "df[\"jibun_encoded\"] = jibun_encoder.fit_transform(df[\"지번\"])\n",
    "\n",
    "apt_encoder = LabelEncoder()\n",
    "df[\"apt_encoded\"] = apt_encoder.fit_transform(df[\"아파트\"])"
   ]
  },
  {
   "cell_type": "code",
   "execution_count": 91,
   "metadata": {},
   "outputs": [],
   "source": [
    "df.drop(columns=[\"local1\",\"local2\",\"local3\",\"지번\",\"아파트\"],inplace=True)"
   ]
  },
  {
   "cell_type": "markdown",
   "metadata": {},
   "source": [
    "- OneHotEncoder을 이용한 변수변환"
   ]
  },
  {
   "cell_type": "code",
   "execution_count": 93,
   "metadata": {},
   "outputs": [],
   "source": [
    "from sklearn.preprocessing import OneHotEncoder"
   ]
  },
  {
   "cell_type": "code",
   "execution_count": 97,
   "metadata": {},
   "outputs": [
    {
     "data": {
      "text/plain": [
       "OneHotEncoder()"
      ]
     },
     "execution_count": 97,
     "metadata": {},
     "output_type": "execute_result"
    }
   ],
   "source": [
    "one_hot_encoder = OneHotEncoder()\n",
    "one_hot_encoder.fit(df[\"local2_encoded\"].values.reshape(-1,1))"
   ]
  },
  {
   "cell_type": "code",
   "execution_count": 102,
   "metadata": {},
   "outputs": [
    {
     "data": {
      "text/plain": [
       "(215746,)"
      ]
     },
     "execution_count": 102,
     "metadata": {},
     "output_type": "execute_result"
    }
   ],
   "source": [
    "df[\"local2_encoded\"].shape"
   ]
  },
  {
   "cell_type": "code",
   "execution_count": 101,
   "metadata": {},
   "outputs": [
    {
     "data": {
      "text/plain": [
       "(215746, 1)"
      ]
     },
     "execution_count": 101,
     "metadata": {},
     "output_type": "execute_result"
    }
   ],
   "source": [
    "df[\"local2_encoded\"].values.reshape(-1,1).shape"
   ]
  },
  {
   "cell_type": "code",
   "execution_count": 103,
   "metadata": {},
   "outputs": [
    {
     "data": {
      "text/html": [
       "<div>\n",
       "<style scoped>\n",
       "    .dataframe tbody tr th:only-of-type {\n",
       "        vertical-align: middle;\n",
       "    }\n",
       "\n",
       "    .dataframe tbody tr th {\n",
       "        vertical-align: top;\n",
       "    }\n",
       "\n",
       "    .dataframe thead th {\n",
       "        text-align: right;\n",
       "    }\n",
       "</style>\n",
       "<table border=\"1\" class=\"dataframe\">\n",
       "  <thead>\n",
       "    <tr style=\"text-align: right;\">\n",
       "      <th></th>\n",
       "      <th>거래금액</th>\n",
       "      <th>거래일</th>\n",
       "      <th>건축년도</th>\n",
       "      <th>전용면적</th>\n",
       "      <th>층</th>\n",
       "      <th>단지총세대수</th>\n",
       "      <th>총동수</th>\n",
       "      <th>총주차대수</th>\n",
       "      <th>용적율</th>\n",
       "      <th>건폐율</th>\n",
       "      <th>local3_encoded</th>\n",
       "      <th>local1_encoded</th>\n",
       "      <th>local2_encoded</th>\n",
       "      <th>jibun_encoded</th>\n",
       "      <th>apt_encoded</th>\n",
       "    </tr>\n",
       "  </thead>\n",
       "  <tbody>\n",
       "    <tr>\n",
       "      <th>20361</th>\n",
       "      <td>28200</td>\n",
       "      <td>2006-12-01</td>\n",
       "      <td>2003.0</td>\n",
       "      <td>60.0</td>\n",
       "      <td>14</td>\n",
       "      <td>3544.0</td>\n",
       "      <td>44.0</td>\n",
       "      <td>5402.0</td>\n",
       "      <td>267.0</td>\n",
       "      <td>16.0</td>\n",
       "      <td>1</td>\n",
       "      <td>0</td>\n",
       "      <td>0</td>\n",
       "      <td>40</td>\n",
       "      <td>39</td>\n",
       "    </tr>\n",
       "  </tbody>\n",
       "</table>\n",
       "</div>"
      ],
      "text/plain": [
       "        거래금액        거래일    건축년도  전용면적   층  단지총세대수   총동수   총주차대수    용적율   건폐율  \\\n",
       "20361  28200 2006-12-01  2003.0  60.0  14  3544.0  44.0  5402.0  267.0  16.0   \n",
       "\n",
       "       local3_encoded  local1_encoded  local2_encoded  jibun_encoded  \\\n",
       "20361               1               0               0             40   \n",
       "\n",
       "       apt_encoded  \n",
       "20361           39  "
      ]
     },
     "execution_count": 103,
     "metadata": {},
     "output_type": "execute_result"
    }
   ],
   "source": [
    "df.head(1)"
   ]
  },
  {
   "cell_type": "code",
   "execution_count": 98,
   "metadata": {},
   "outputs": [],
   "source": [
    "ont_hot_label = one_hot_encoder.transform(df[\"local2_encoded\"].values.reshape(-1,1))"
   ]
  },
  {
   "cell_type": "code",
   "execution_count": 100,
   "metadata": {},
   "outputs": [
    {
     "name": "stdout",
     "output_type": "stream",
     "text": [
      "[[1. 0. 0. 0.]\n",
      " [1. 0. 0. 0.]\n",
      " [1. 0. 0. 0.]\n",
      " ...\n",
      " [0. 0. 0. 1.]\n",
      " [0. 0. 0. 1.]\n",
      " [0. 0. 0. 1.]]\n"
     ]
    }
   ],
   "source": [
    "print(ont_hot_label.toarray())"
   ]
  },
  {
   "cell_type": "markdown",
   "metadata": {},
   "source": [
    "- Pandas 기본 메서드를 이용한 변수변환"
   ]
  },
  {
   "cell_type": "code",
   "execution_count": 104,
   "metadata": {},
   "outputs": [
    {
     "data": {
      "text/html": [
       "<div>\n",
       "<style scoped>\n",
       "    .dataframe tbody tr th:only-of-type {\n",
       "        vertical-align: middle;\n",
       "    }\n",
       "\n",
       "    .dataframe tbody tr th {\n",
       "        vertical-align: top;\n",
       "    }\n",
       "\n",
       "    .dataframe thead th {\n",
       "        text-align: right;\n",
       "    }\n",
       "</style>\n",
       "<table border=\"1\" class=\"dataframe\">\n",
       "  <thead>\n",
       "    <tr style=\"text-align: right;\">\n",
       "      <th></th>\n",
       "      <th>0</th>\n",
       "      <th>1</th>\n",
       "      <th>2</th>\n",
       "      <th>3</th>\n",
       "    </tr>\n",
       "  </thead>\n",
       "  <tbody>\n",
       "    <tr>\n",
       "      <th>20361</th>\n",
       "      <td>1</td>\n",
       "      <td>0</td>\n",
       "      <td>0</td>\n",
       "      <td>0</td>\n",
       "    </tr>\n",
       "    <tr>\n",
       "      <th>20362</th>\n",
       "      <td>1</td>\n",
       "      <td>0</td>\n",
       "      <td>0</td>\n",
       "      <td>0</td>\n",
       "    </tr>\n",
       "    <tr>\n",
       "      <th>20363</th>\n",
       "      <td>1</td>\n",
       "      <td>0</td>\n",
       "      <td>0</td>\n",
       "      <td>0</td>\n",
       "    </tr>\n",
       "    <tr>\n",
       "      <th>20364</th>\n",
       "      <td>1</td>\n",
       "      <td>0</td>\n",
       "      <td>0</td>\n",
       "      <td>0</td>\n",
       "    </tr>\n",
       "    <tr>\n",
       "      <th>20365</th>\n",
       "      <td>1</td>\n",
       "      <td>0</td>\n",
       "      <td>0</td>\n",
       "      <td>0</td>\n",
       "    </tr>\n",
       "    <tr>\n",
       "      <th>...</th>\n",
       "      <td>...</td>\n",
       "      <td>...</td>\n",
       "      <td>...</td>\n",
       "      <td>...</td>\n",
       "    </tr>\n",
       "    <tr>\n",
       "      <th>1070498</th>\n",
       "      <td>0</td>\n",
       "      <td>0</td>\n",
       "      <td>0</td>\n",
       "      <td>1</td>\n",
       "    </tr>\n",
       "    <tr>\n",
       "      <th>1070499</th>\n",
       "      <td>0</td>\n",
       "      <td>0</td>\n",
       "      <td>0</td>\n",
       "      <td>1</td>\n",
       "    </tr>\n",
       "    <tr>\n",
       "      <th>1070500</th>\n",
       "      <td>0</td>\n",
       "      <td>0</td>\n",
       "      <td>0</td>\n",
       "      <td>1</td>\n",
       "    </tr>\n",
       "    <tr>\n",
       "      <th>1070501</th>\n",
       "      <td>0</td>\n",
       "      <td>0</td>\n",
       "      <td>0</td>\n",
       "      <td>1</td>\n",
       "    </tr>\n",
       "    <tr>\n",
       "      <th>1070502</th>\n",
       "      <td>0</td>\n",
       "      <td>0</td>\n",
       "      <td>0</td>\n",
       "      <td>1</td>\n",
       "    </tr>\n",
       "  </tbody>\n",
       "</table>\n",
       "<p>215746 rows × 4 columns</p>\n",
       "</div>"
      ],
      "text/plain": [
       "         0  1  2  3\n",
       "20361    1  0  0  0\n",
       "20362    1  0  0  0\n",
       "20363    1  0  0  0\n",
       "20364    1  0  0  0\n",
       "20365    1  0  0  0\n",
       "...     .. .. .. ..\n",
       "1070498  0  0  0  1\n",
       "1070499  0  0  0  1\n",
       "1070500  0  0  0  1\n",
       "1070501  0  0  0  1\n",
       "1070502  0  0  0  1\n",
       "\n",
       "[215746 rows x 4 columns]"
      ]
     },
     "execution_count": 104,
     "metadata": {},
     "output_type": "execute_result"
    }
   ],
   "source": [
    "pd.get_dummiesmies(df[\"local2_encoded\"])"
   ]
  },
  {
   "cell_type": "markdown",
   "metadata": {},
   "source": [
    "## 변수생성"
   ]
  },
  {
   "cell_type": "code",
   "execution_count": 108,
   "metadata": {},
   "outputs": [],
   "source": [
    "df[\"세대당주차대수\"] = df[\"총주차대수\"] / df[\"단지총세대수\"]"
   ]
  },
  {
   "cell_type": "code",
   "execution_count": 109,
   "metadata": {},
   "outputs": [],
   "source": [
    "df[\"거래일_year\"] = df[\"거래일\"].dt.year\n"
   ]
  },
  {
   "cell_type": "code",
   "execution_count": 110,
   "metadata": {},
   "outputs": [],
   "source": [
    "df[\"아파트_경과년수\"] = df[\"거래일_year\"] - df[\"건축년도\"]"
   ]
  },
  {
   "cell_type": "code",
   "execution_count": null,
   "metadata": {},
   "outputs": [],
   "source": [
    "# 노원구 월계동 동신아파트  전용면적 71.83  , 2020-09-07"
   ]
  },
  {
   "cell_type": "code",
   "execution_count": 112,
   "metadata": {},
   "outputs": [],
   "source": [
    "train_df = df[df[\"거래일\"]<\"2020-09-07\"]"
   ]
  },
  {
   "cell_type": "code",
   "execution_count": 114,
   "metadata": {},
   "outputs": [],
   "source": [
    "test_df = df[df[\"거래일\"]>=\"2020-09-07\"]"
   ]
  },
  {
   "cell_type": "code",
   "execution_count": 115,
   "metadata": {},
   "outputs": [
    {
     "data": {
      "text/plain": [
       "거래금액                       int64\n",
       "거래일               datetime64[ns]\n",
       "건축년도                     float64\n",
       "전용면적                     float64\n",
       "층                          int64\n",
       "단지총세대수                   float64\n",
       "총동수                      float64\n",
       "총주차대수                    float64\n",
       "용적율                      float64\n",
       "건폐율                      float64\n",
       "local3_encoded             int64\n",
       "local1_encoded             int64\n",
       "local2_encoded             int64\n",
       "jibun_encoded              int64\n",
       "apt_encoded                int64\n",
       "세대당주차대수                  float64\n",
       "거래일_year                   int64\n",
       "아파트_경과년수                 float64\n",
       "dtype: object"
      ]
     },
     "execution_count": 115,
     "metadata": {},
     "output_type": "execute_result"
    }
   ],
   "source": [
    "train_df.dtypes"
   ]
  },
  {
   "cell_type": "code",
   "execution_count": 116,
   "metadata": {},
   "outputs": [],
   "source": [
    "object_col_index = [10,11,12,13,14]"
   ]
  },
  {
   "cell_type": "code",
   "execution_count": 117,
   "metadata": {},
   "outputs": [],
   "source": [
    "train_x = train_df.drop(columns=[\"거래일\",\"거래금액\"])\n",
    "train_y = train_df[\"거래금액\"]\n",
    " \n",
    "test_x = test_df.drop(columns=[\"거래일\",\"거래금액\"])\n",
    "test_y = test_df[\"거래금액\"]"
   ]
  },
  {
   "cell_type": "code",
   "execution_count": null,
   "metadata": {},
   "outputs": [],
   "source": []
  },
  {
   "cell_type": "markdown",
   "metadata": {},
   "source": [
    "## 모델생성"
   ]
  },
  {
   "cell_type": "code",
   "execution_count": 118,
   "metadata": {},
   "outputs": [],
   "source": [
    "from catboost import CatBoostRegressorgressor"
   ]
  },
  {
   "cell_type": "code",
   "execution_count": 121,
   "metadata": {},
   "outputs": [],
   "source": [
    "model = CatBoostRegressor(iterations=1000 , learning_rate=0.003, loss_function=\"RMSE\")"
   ]
  },
  {
   "cell_type": "code",
   "execution_count": 123,
   "metadata": {},
   "outputs": [
    {
     "data": {
      "text/plain": [
       "(215735, 16)"
      ]
     },
     "execution_count": 123,
     "metadata": {},
     "output_type": "execute_result"
    }
   ],
   "source": [
    "train_x.shape"
   ]
  },
  {
   "cell_type": "code",
   "execution_count": 126,
   "metadata": {},
   "outputs": [
    {
     "data": {
      "text/plain": [
       "건축년도              float64\n",
       "전용면적              float64\n",
       "층                   int64\n",
       "단지총세대수            float64\n",
       "총동수               float64\n",
       "총주차대수             float64\n",
       "용적율               float64\n",
       "건폐율               float64\n",
       "local3_encoded      int64\n",
       "local1_encoded      int64\n",
       "local2_encoded      int64\n",
       "jibun_encoded       int64\n",
       "apt_encoded         int64\n",
       "세대당주차대수           float64\n",
       "거래일_year            int64\n",
       "아파트_경과년수          float64\n",
       "dtype: object"
      ]
     },
     "execution_count": 126,
     "metadata": {},
     "output_type": "execute_result"
    }
   ],
   "source": [
    "train_x.dtypes"
   ]
  },
  {
   "cell_type": "code",
   "execution_count": 127,
   "metadata": {},
   "outputs": [],
   "source": [
    "object_col_index=[8,9,10,11,12]"
   ]
  },
  {
   "cell_type": "code",
   "execution_count": 128,
   "metadata": {},
   "outputs": [
    {
     "name": "stdout",
     "output_type": "stream",
     "text": [
      "0:\tlearn: 34229.5879182\ttotal: 401ms\tremaining: 6m 40s\n",
      "1:\tlearn: 34148.7048637\ttotal: 858ms\tremaining: 7m 8s\n",
      "2:\tlearn: 34068.0926980\ttotal: 2.21s\tremaining: 12m 15s\n",
      "3:\tlearn: 33988.8829563\ttotal: 2.49s\tremaining: 10m 20s\n",
      "4:\tlearn: 33909.1818744\ttotal: 2.76s\tremaining: 9m 10s\n",
      "5:\tlearn: 33829.3158732\ttotal: 3.04s\tremaining: 8m 24s\n",
      "6:\tlearn: 33751.2769936\ttotal: 3.38s\tremaining: 7m 59s\n",
      "7:\tlearn: 33672.3715361\ttotal: 3.66s\tremaining: 7m 33s\n",
      "8:\tlearn: 33592.8120890\ttotal: 3.94s\tremaining: 7m 14s\n",
      "9:\tlearn: 33515.9172192\ttotal: 4.33s\tremaining: 7m 9s\n",
      "10:\tlearn: 33437.8504836\ttotal: 4.64s\tremaining: 6m 57s\n",
      "11:\tlearn: 33361.5137447\ttotal: 4.85s\tremaining: 6m 39s\n",
      "12:\tlearn: 33284.0087693\ttotal: 5.1s\tremaining: 6m 27s\n",
      "13:\tlearn: 33205.9306218\ttotal: 5.39s\tremaining: 6m 19s\n",
      "14:\tlearn: 33129.0508935\ttotal: 5.67s\tremaining: 6m 12s\n",
      "15:\tlearn: 33052.5826643\ttotal: 5.95s\tremaining: 6m 5s\n",
      "16:\tlearn: 32976.4787724\ttotal: 6.26s\tremaining: 6m 1s\n",
      "17:\tlearn: 32900.1367041\ttotal: 6.54s\tremaining: 5m 56s\n",
      "18:\tlearn: 32823.7657774\ttotal: 6.86s\tremaining: 5m 54s\n",
      "19:\tlearn: 32748.3777704\ttotal: 7.18s\tremaining: 5m 51s\n",
      "20:\tlearn: 32672.8720920\ttotal: 7.46s\tremaining: 5m 47s\n",
      "21:\tlearn: 32598.0472505\ttotal: 7.74s\tremaining: 5m 44s\n",
      "22:\tlearn: 32522.5361992\ttotal: 8.02s\tremaining: 5m 40s\n",
      "23:\tlearn: 32447.5014383\ttotal: 8.27s\tremaining: 5m 36s\n",
      "24:\tlearn: 32372.2145183\ttotal: 8.55s\tremaining: 5m 33s\n",
      "25:\tlearn: 32297.2237060\ttotal: 8.88s\tremaining: 5m 32s\n",
      "26:\tlearn: 32223.4260917\ttotal: 9.2s\tremaining: 5m 31s\n",
      "27:\tlearn: 32149.9743612\ttotal: 9.48s\tremaining: 5m 29s\n",
      "28:\tlearn: 32077.0436968\ttotal: 9.86s\tremaining: 5m 30s\n",
      "29:\tlearn: 32003.9674584\ttotal: 10.1s\tremaining: 5m 27s\n",
      "30:\tlearn: 31931.4627771\ttotal: 10.4s\tremaining: 5m 25s\n",
      "31:\tlearn: 31859.2140711\ttotal: 10.8s\tremaining: 5m 26s\n",
      "32:\tlearn: 31787.9272967\ttotal: 11s\tremaining: 5m 23s\n",
      "33:\tlearn: 31716.2196918\ttotal: 11.3s\tremaining: 5m 20s\n",
      "34:\tlearn: 31644.4281361\ttotal: 11.7s\tremaining: 5m 21s\n",
      "35:\tlearn: 31573.5413403\ttotal: 12s\tremaining: 5m 21s\n",
      "36:\tlearn: 31502.1801542\ttotal: 12.3s\tremaining: 5m 19s\n",
      "37:\tlearn: 31431.0236801\ttotal: 12.6s\tremaining: 5m 17s\n",
      "38:\tlearn: 31360.3176098\ttotal: 12.8s\tremaining: 5m 16s\n",
      "39:\tlearn: 31289.1956936\ttotal: 13.1s\tremaining: 5m 15s\n",
      "40:\tlearn: 31218.2774868\ttotal: 13.5s\tremaining: 5m 15s\n",
      "41:\tlearn: 31147.6291722\ttotal: 13.8s\tremaining: 5m 15s\n",
      "42:\tlearn: 31077.2568354\ttotal: 14.1s\tremaining: 5m 13s\n",
      "43:\tlearn: 31009.1685636\ttotal: 14.4s\tremaining: 5m 12s\n",
      "44:\tlearn: 30939.8185358\ttotal: 14.7s\tremaining: 5m 11s\n",
      "45:\tlearn: 30871.1156891\ttotal: 15s\tremaining: 5m 11s\n",
      "46:\tlearn: 30801.8545445\ttotal: 15.3s\tremaining: 5m 10s\n",
      "47:\tlearn: 30733.2421839\ttotal: 15.6s\tremaining: 5m 8s\n",
      "48:\tlearn: 30665.5574583\ttotal: 15.8s\tremaining: 5m 6s\n",
      "49:\tlearn: 30596.6270827\ttotal: 16.2s\tremaining: 5m 7s\n",
      "50:\tlearn: 30528.2097717\ttotal: 16.5s\tremaining: 5m 7s\n",
      "51:\tlearn: 30459.5310831\ttotal: 16.8s\tremaining: 5m 7s\n",
      "52:\tlearn: 30391.6203927\ttotal: 17.2s\tremaining: 5m 7s\n",
      "53:\tlearn: 30323.7723969\ttotal: 17.5s\tremaining: 5m 6s\n",
      "54:\tlearn: 30255.7456164\ttotal: 17.7s\tremaining: 5m 3s\n",
      "55:\tlearn: 30190.1024130\ttotal: 17.9s\tremaining: 5m 2s\n",
      "56:\tlearn: 30122.6638797\ttotal: 18.3s\tremaining: 5m 2s\n",
      "57:\tlearn: 30055.6393549\ttotal: 18.5s\tremaining: 5m 1s\n",
      "58:\tlearn: 29988.9923176\ttotal: 18.9s\tremaining: 5m\n",
      "59:\tlearn: 29924.1009407\ttotal: 19.1s\tremaining: 4m 59s\n",
      "60:\tlearn: 29857.6130364\ttotal: 19.4s\tremaining: 4m 58s\n",
      "61:\tlearn: 29792.6117167\ttotal: 19.7s\tremaining: 4m 58s\n",
      "62:\tlearn: 29726.6605371\ttotal: 20s\tremaining: 4m 57s\n",
      "63:\tlearn: 29660.0074382\ttotal: 20.3s\tremaining: 4m 57s\n",
      "64:\tlearn: 29594.4749271\ttotal: 20.6s\tremaining: 4m 56s\n",
      "65:\tlearn: 29529.8218218\ttotal: 20.9s\tremaining: 4m 56s\n",
      "66:\tlearn: 29465.7378884\ttotal: 21.2s\tremaining: 4m 55s\n",
      "67:\tlearn: 29400.1483035\ttotal: 21.6s\tremaining: 4m 55s\n",
      "68:\tlearn: 29336.0307640\ttotal: 21.8s\tremaining: 4m 54s\n",
      "69:\tlearn: 29272.0022403\ttotal: 22.1s\tremaining: 4m 53s\n",
      "70:\tlearn: 29208.9441984\ttotal: 22.4s\tremaining: 4m 53s\n",
      "71:\tlearn: 29144.0761909\ttotal: 22.7s\tremaining: 4m 52s\n",
      "72:\tlearn: 29080.7856714\ttotal: 23s\tremaining: 4m 51s\n",
      "73:\tlearn: 29017.8272835\ttotal: 23.2s\tremaining: 4m 50s\n",
      "74:\tlearn: 28954.3812666\ttotal: 23.6s\tremaining: 4m 50s\n",
      "75:\tlearn: 28891.1678542\ttotal: 23.9s\tremaining: 4m 50s\n",
      "76:\tlearn: 28828.6152536\ttotal: 24.2s\tremaining: 4m 50s\n",
      "77:\tlearn: 28765.9841289\ttotal: 24.4s\tremaining: 4m 48s\n",
      "78:\tlearn: 28703.6782912\ttotal: 24.8s\tremaining: 4m 48s\n",
      "79:\tlearn: 28640.6100341\ttotal: 25.2s\tremaining: 4m 49s\n",
      "80:\tlearn: 28579.4378844\ttotal: 25.4s\tremaining: 4m 48s\n",
      "81:\tlearn: 28517.2852234\ttotal: 25.7s\tremaining: 4m 47s\n",
      "82:\tlearn: 28456.4488332\ttotal: 25.9s\tremaining: 4m 45s\n",
      "83:\tlearn: 28394.3274602\ttotal: 26.2s\tremaining: 4m 46s\n",
      "84:\tlearn: 28333.2352961\ttotal: 26.5s\tremaining: 4m 44s\n",
      "85:\tlearn: 28270.8633044\ttotal: 26.9s\tremaining: 4m 45s\n",
      "86:\tlearn: 28209.3612862\ttotal: 27.2s\tremaining: 4m 45s\n",
      "87:\tlearn: 28148.4410796\ttotal: 27.5s\tremaining: 4m 44s\n",
      "88:\tlearn: 28087.4655744\ttotal: 27.8s\tremaining: 4m 44s\n",
      "89:\tlearn: 28027.5384943\ttotal: 28.1s\tremaining: 4m 43s\n",
      "90:\tlearn: 27967.6729761\ttotal: 28.4s\tremaining: 4m 43s\n",
      "91:\tlearn: 27906.2977395\ttotal: 28.7s\tremaining: 4m 43s\n",
      "92:\tlearn: 27846.5309703\ttotal: 29s\tremaining: 4m 42s\n",
      "93:\tlearn: 27786.8866504\ttotal: 29.4s\tremaining: 4m 42s\n",
      "94:\tlearn: 27727.0707771\ttotal: 29.7s\tremaining: 4m 42s\n",
      "95:\tlearn: 27667.9623774\ttotal: 29.9s\tremaining: 4m 41s\n",
      "96:\tlearn: 27608.3512080\ttotal: 30.3s\tremaining: 4m 41s\n",
      "97:\tlearn: 27550.1655281\ttotal: 30.6s\tremaining: 4m 41s\n",
      "98:\tlearn: 27491.0643117\ttotal: 30.8s\tremaining: 4m 40s\n",
      "99:\tlearn: 27432.0838514\ttotal: 31.2s\tremaining: 4m 40s\n",
      "100:\tlearn: 27372.8713432\ttotal: 31.5s\tremaining: 4m 40s\n",
      "101:\tlearn: 27313.7730215\ttotal: 31.7s\tremaining: 4m 39s\n",
      "102:\tlearn: 27254.8961215\ttotal: 32s\tremaining: 4m 38s\n",
      "103:\tlearn: 27196.7136463\ttotal: 32.3s\tremaining: 4m 38s\n",
      "104:\tlearn: 27138.6521759\ttotal: 32.6s\tremaining: 4m 37s\n",
      "105:\tlearn: 27080.9735586\ttotal: 32.8s\tremaining: 4m 36s\n",
      "106:\tlearn: 27023.6201761\ttotal: 33s\tremaining: 4m 35s\n",
      "107:\tlearn: 26965.8968104\ttotal: 33.3s\tremaining: 4m 34s\n",
      "108:\tlearn: 26908.3852927\ttotal: 33.5s\tremaining: 4m 34s\n",
      "109:\tlearn: 26852.4940974\ttotal: 33.8s\tremaining: 4m 33s\n",
      "110:\tlearn: 26795.5726364\ttotal: 34.1s\tremaining: 4m 32s\n",
      "111:\tlearn: 26739.4869541\ttotal: 34.3s\tremaining: 4m 31s\n",
      "112:\tlearn: 26683.3132856\ttotal: 34.6s\tremaining: 4m 31s\n",
      "113:\tlearn: 26626.7642167\ttotal: 34.8s\tremaining: 4m 30s\n",
      "114:\tlearn: 26571.6839790\ttotal: 35s\tremaining: 4m 29s\n",
      "115:\tlearn: 26515.5596450\ttotal: 35.3s\tremaining: 4m 29s\n",
      "116:\tlearn: 26460.1955286\ttotal: 35.7s\tremaining: 4m 29s\n",
      "117:\tlearn: 26404.9536939\ttotal: 35.9s\tremaining: 4m 28s\n",
      "118:\tlearn: 26350.7954978\ttotal: 36.2s\tremaining: 4m 27s\n",
      "119:\tlearn: 26295.5292235\ttotal: 36.5s\tremaining: 4m 27s\n",
      "120:\tlearn: 26241.1770726\ttotal: 36.7s\tremaining: 4m 26s\n",
      "121:\tlearn: 26186.6728767\ttotal: 36.9s\tremaining: 4m 25s\n",
      "122:\tlearn: 26132.4901833\ttotal: 37.2s\tremaining: 4m 25s\n",
      "123:\tlearn: 26078.0770920\ttotal: 37.5s\tremaining: 4m 24s\n",
      "124:\tlearn: 26023.1591553\ttotal: 37.7s\tremaining: 4m 23s\n",
      "125:\tlearn: 25968.9987864\ttotal: 38s\tremaining: 4m 23s\n",
      "126:\tlearn: 25915.6281076\ttotal: 38.3s\tremaining: 4m 23s\n",
      "127:\tlearn: 25861.5813968\ttotal: 38.5s\tremaining: 4m 22s\n",
      "128:\tlearn: 25808.6291496\ttotal: 38.8s\tremaining: 4m 22s\n",
      "129:\tlearn: 25755.0573220\ttotal: 39.1s\tremaining: 4m 21s\n",
      "130:\tlearn: 25701.6070180\ttotal: 39.3s\tremaining: 4m 20s\n",
      "131:\tlearn: 25648.7212579\ttotal: 39.6s\tremaining: 4m 20s\n",
      "132:\tlearn: 25597.0684390\ttotal: 39.9s\tremaining: 4m 20s\n",
      "133:\tlearn: 25544.3060159\ttotal: 40.1s\tremaining: 4m 19s\n",
      "134:\tlearn: 25491.6653677\ttotal: 40.4s\tremaining: 4m 18s\n",
      "135:\tlearn: 25440.1348746\ttotal: 40.7s\tremaining: 4m 18s\n",
      "136:\tlearn: 25386.6936537\ttotal: 41.1s\tremaining: 4m 18s\n",
      "137:\tlearn: 25334.8403049\ttotal: 41.4s\tremaining: 4m 18s\n",
      "138:\tlearn: 25282.5231712\ttotal: 41.6s\tremaining: 4m 17s\n",
      "139:\tlearn: 25230.7571788\ttotal: 41.9s\tremaining: 4m 17s\n",
      "140:\tlearn: 25178.8282229\ttotal: 42.4s\tremaining: 4m 18s\n",
      "141:\tlearn: 25128.7079596\ttotal: 42.6s\tremaining: 4m 17s\n",
      "142:\tlearn: 25076.5736472\ttotal: 42.8s\tremaining: 4m 16s\n",
      "143:\tlearn: 25025.8025112\ttotal: 43.1s\tremaining: 4m 16s\n",
      "144:\tlearn: 24974.9112755\ttotal: 43.4s\tremaining: 4m 15s\n",
      "145:\tlearn: 24923.8589055\ttotal: 43.7s\tremaining: 4m 15s\n",
      "146:\tlearn: 24873.6740366\ttotal: 44s\tremaining: 4m 15s\n",
      "147:\tlearn: 24822.9676006\ttotal: 44.3s\tremaining: 4m 15s\n",
      "148:\tlearn: 24773.4208919\ttotal: 44.6s\tremaining: 4m 14s\n",
      "149:\tlearn: 24723.2242263\ttotal: 44.9s\tremaining: 4m 14s\n",
      "150:\tlearn: 24673.9817882\ttotal: 45.2s\tremaining: 4m 14s\n",
      "151:\tlearn: 24624.6963126\ttotal: 45.5s\tremaining: 4m 13s\n",
      "152:\tlearn: 24575.2065168\ttotal: 45.7s\tremaining: 4m 12s\n",
      "153:\tlearn: 24526.0359274\ttotal: 45.9s\tremaining: 4m 12s\n",
      "154:\tlearn: 24475.9417538\ttotal: 46.3s\tremaining: 4m 12s\n",
      "155:\tlearn: 24426.9197287\ttotal: 46.6s\tremaining: 4m 12s\n",
      "156:\tlearn: 24378.0186077\ttotal: 47s\tremaining: 4m 12s\n",
      "157:\tlearn: 24329.9506437\ttotal: 47.3s\tremaining: 4m 12s\n",
      "158:\tlearn: 24280.2995018\ttotal: 47.5s\tremaining: 4m 11s\n",
      "159:\tlearn: 24233.1875322\ttotal: 47.7s\tremaining: 4m 10s\n",
      "160:\tlearn: 24185.5838148\ttotal: 48.1s\tremaining: 4m 10s\n",
      "161:\tlearn: 24137.7883768\ttotal: 48.4s\tremaining: 4m 10s\n",
      "162:\tlearn: 24089.6073712\ttotal: 48.9s\tremaining: 4m 10s\n",
      "163:\tlearn: 24040.4875253\ttotal: 49.1s\tremaining: 4m 10s\n",
      "164:\tlearn: 23992.3619342\ttotal: 49.5s\tremaining: 4m 10s\n",
      "165:\tlearn: 23945.5535833\ttotal: 50s\tremaining: 4m 11s\n",
      "166:\tlearn: 23896.6488025\ttotal: 50.4s\tremaining: 4m 11s\n",
      "167:\tlearn: 23849.8599360\ttotal: 50.7s\tremaining: 4m 11s\n",
      "168:\tlearn: 23801.8898573\ttotal: 51.2s\tremaining: 4m 11s\n",
      "169:\tlearn: 23754.9878198\ttotal: 51.5s\tremaining: 4m 11s\n",
      "170:\tlearn: 23707.3333077\ttotal: 51.9s\tremaining: 4m 11s\n",
      "171:\tlearn: 23660.6450365\ttotal: 52.2s\tremaining: 4m 11s\n",
      "172:\tlearn: 23613.5790000\ttotal: 52.5s\tremaining: 4m 10s\n",
      "173:\tlearn: 23566.4111002\ttotal: 52.7s\tremaining: 4m 10s\n",
      "174:\tlearn: 23519.8514219\ttotal: 53.1s\tremaining: 4m 10s\n",
      "175:\tlearn: 23474.0377077\ttotal: 53.5s\tremaining: 4m 10s\n",
      "176:\tlearn: 23427.5604325\ttotal: 54s\tremaining: 4m 10s\n",
      "177:\tlearn: 23381.1678360\ttotal: 54.3s\tremaining: 4m 10s\n",
      "178:\tlearn: 23336.3529716\ttotal: 54.7s\tremaining: 4m 10s\n",
      "179:\tlearn: 23290.1950981\ttotal: 55.1s\tremaining: 4m 11s\n",
      "180:\tlearn: 23244.1132245\ttotal: 55.4s\tremaining: 4m 10s\n",
      "181:\tlearn: 23198.7673580\ttotal: 55.7s\tremaining: 4m 10s\n",
      "182:\tlearn: 23152.3224586\ttotal: 56.1s\tremaining: 4m 10s\n",
      "183:\tlearn: 23106.2365730\ttotal: 56.4s\tremaining: 4m 10s\n",
      "184:\tlearn: 23060.8842554\ttotal: 56.8s\tremaining: 4m 10s\n",
      "185:\tlearn: 23016.7912020\ttotal: 57.2s\tremaining: 4m 10s\n",
      "186:\tlearn: 22971.8527182\ttotal: 57.6s\tremaining: 4m 10s\n",
      "187:\tlearn: 22926.3120320\ttotal: 58s\tremaining: 4m 10s\n",
      "188:\tlearn: 22882.5498088\ttotal: 58.3s\tremaining: 4m 10s\n",
      "189:\tlearn: 22839.0142600\ttotal: 58.6s\tremaining: 4m 9s\n",
      "190:\tlearn: 22794.1802454\ttotal: 58.8s\tremaining: 4m 9s\n",
      "191:\tlearn: 22750.1234209\ttotal: 59.2s\tremaining: 4m 9s\n",
      "192:\tlearn: 22705.2600667\ttotal: 59.5s\tremaining: 4m 8s\n",
      "193:\tlearn: 22661.5005243\ttotal: 59.8s\tremaining: 4m 8s\n",
      "194:\tlearn: 22618.5175684\ttotal: 60s\tremaining: 4m 7s\n",
      "195:\tlearn: 22574.6656568\ttotal: 1m\tremaining: 4m 6s\n",
      "196:\tlearn: 22531.0433254\ttotal: 1m\tremaining: 4m 6s\n",
      "197:\tlearn: 22487.1307001\ttotal: 1m\tremaining: 4m 5s\n"
     ]
    },
    {
     "ename": "KeyboardInterrupt",
     "evalue": "",
     "output_type": "error",
     "traceback": [
      "\u001b[0;31m---------------------------------------------------------------------------\u001b[0m",
      "\u001b[0;31mKeyboardInterrupt\u001b[0m                         Traceback (most recent call last)",
      "\u001b[0;32m<ipython-input-128-a040c6363535>\u001b[0m in \u001b[0;36m<module>\u001b[0;34m\u001b[0m\n\u001b[0;32m----> 1\u001b[0;31m \u001b[0mmodel\u001b[0m\u001b[0;34m.\u001b[0m\u001b[0mfit\u001b[0m\u001b[0;34m(\u001b[0m\u001b[0mtrain_x\u001b[0m \u001b[0;34m,\u001b[0m \u001b[0mtrain_y\u001b[0m \u001b[0;34m,\u001b[0m \u001b[0mcat_features\u001b[0m\u001b[0;34m=\u001b[0m\u001b[0mobject_col_index\u001b[0m\u001b[0;34m)\u001b[0m\u001b[0;34m\u001b[0m\u001b[0;34m\u001b[0m\u001b[0m\n\u001b[0m",
      "\u001b[0;32m~/anaconda3/lib/python3.7/site-packages/catboost/core.py\u001b[0m in \u001b[0;36mfit\u001b[0;34m(self, X, y, cat_features, sample_weight, baseline, use_best_model, eval_set, verbose, logging_level, plot, column_description, verbose_eval, metric_period, silent, early_stopping_rounds, save_snapshot, snapshot_file, snapshot_interval, init_model)\u001b[0m\n\u001b[1;32m   4838\u001b[0m                          \u001b[0muse_best_model\u001b[0m\u001b[0;34m,\u001b[0m \u001b[0meval_set\u001b[0m\u001b[0;34m,\u001b[0m \u001b[0mverbose\u001b[0m\u001b[0;34m,\u001b[0m \u001b[0mlogging_level\u001b[0m\u001b[0;34m,\u001b[0m \u001b[0mplot\u001b[0m\u001b[0;34m,\u001b[0m \u001b[0mcolumn_description\u001b[0m\u001b[0;34m,\u001b[0m\u001b[0;34m\u001b[0m\u001b[0;34m\u001b[0m\u001b[0m\n\u001b[1;32m   4839\u001b[0m                          \u001b[0mverbose_eval\u001b[0m\u001b[0;34m,\u001b[0m \u001b[0mmetric_period\u001b[0m\u001b[0;34m,\u001b[0m \u001b[0msilent\u001b[0m\u001b[0;34m,\u001b[0m \u001b[0mearly_stopping_rounds\u001b[0m\u001b[0;34m,\u001b[0m\u001b[0;34m\u001b[0m\u001b[0;34m\u001b[0m\u001b[0m\n\u001b[0;32m-> 4840\u001b[0;31m                          save_snapshot, snapshot_file, snapshot_interval, init_model)\n\u001b[0m\u001b[1;32m   4841\u001b[0m \u001b[0;34m\u001b[0m\u001b[0m\n\u001b[1;32m   4842\u001b[0m     \u001b[0;32mdef\u001b[0m \u001b[0mpredict\u001b[0m\u001b[0;34m(\u001b[0m\u001b[0mself\u001b[0m\u001b[0;34m,\u001b[0m \u001b[0mdata\u001b[0m\u001b[0;34m,\u001b[0m \u001b[0mprediction_type\u001b[0m\u001b[0;34m=\u001b[0m\u001b[0;32mNone\u001b[0m\u001b[0;34m,\u001b[0m \u001b[0mntree_start\u001b[0m\u001b[0;34m=\u001b[0m\u001b[0;36m0\u001b[0m\u001b[0;34m,\u001b[0m \u001b[0mntree_end\u001b[0m\u001b[0;34m=\u001b[0m\u001b[0;36m0\u001b[0m\u001b[0;34m,\u001b[0m \u001b[0mthread_count\u001b[0m\u001b[0;34m=\u001b[0m\u001b[0;34m-\u001b[0m\u001b[0;36m1\u001b[0m\u001b[0;34m,\u001b[0m \u001b[0mverbose\u001b[0m\u001b[0;34m=\u001b[0m\u001b[0;32mNone\u001b[0m\u001b[0;34m)\u001b[0m\u001b[0;34m:\u001b[0m\u001b[0;34m\u001b[0m\u001b[0;34m\u001b[0m\u001b[0m\n",
      "\u001b[0;32m~/anaconda3/lib/python3.7/site-packages/catboost/core.py\u001b[0m in \u001b[0;36m_fit\u001b[0;34m(self, X, y, cat_features, text_features, embedding_features, pairs, sample_weight, group_id, group_weight, subgroup_id, pairs_weight, baseline, use_best_model, eval_set, verbose, logging_level, plot, column_description, verbose_eval, metric_period, silent, early_stopping_rounds, save_snapshot, snapshot_file, snapshot_interval, init_model)\u001b[0m\n\u001b[1;32m   1803\u001b[0m                 \u001b[0mparams\u001b[0m\u001b[0;34m,\u001b[0m\u001b[0;34m\u001b[0m\u001b[0;34m\u001b[0m\u001b[0m\n\u001b[1;32m   1804\u001b[0m                 \u001b[0mallow_clear_pool\u001b[0m\u001b[0;34m,\u001b[0m\u001b[0;34m\u001b[0m\u001b[0;34m\u001b[0m\u001b[0m\n\u001b[0;32m-> 1805\u001b[0;31m                 \u001b[0mtrain_params\u001b[0m\u001b[0;34m[\u001b[0m\u001b[0;34m\"init_model\"\u001b[0m\u001b[0;34m]\u001b[0m\u001b[0;34m\u001b[0m\u001b[0;34m\u001b[0m\u001b[0m\n\u001b[0m\u001b[1;32m   1806\u001b[0m             )\n\u001b[1;32m   1807\u001b[0m \u001b[0;34m\u001b[0m\u001b[0m\n",
      "\u001b[0;32m~/anaconda3/lib/python3.7/site-packages/catboost/core.py\u001b[0m in \u001b[0;36m_train\u001b[0;34m(self, train_pool, test_pool, params, allow_clear_pool, init_model)\u001b[0m\n\u001b[1;32m   1256\u001b[0m \u001b[0;34m\u001b[0m\u001b[0m\n\u001b[1;32m   1257\u001b[0m     \u001b[0;32mdef\u001b[0m \u001b[0m_train\u001b[0m\u001b[0;34m(\u001b[0m\u001b[0mself\u001b[0m\u001b[0;34m,\u001b[0m \u001b[0mtrain_pool\u001b[0m\u001b[0;34m,\u001b[0m \u001b[0mtest_pool\u001b[0m\u001b[0;34m,\u001b[0m \u001b[0mparams\u001b[0m\u001b[0;34m,\u001b[0m \u001b[0mallow_clear_pool\u001b[0m\u001b[0;34m,\u001b[0m \u001b[0minit_model\u001b[0m\u001b[0;34m)\u001b[0m\u001b[0;34m:\u001b[0m\u001b[0;34m\u001b[0m\u001b[0;34m\u001b[0m\u001b[0m\n\u001b[0;32m-> 1258\u001b[0;31m         \u001b[0mself\u001b[0m\u001b[0;34m.\u001b[0m\u001b[0m_object\u001b[0m\u001b[0;34m.\u001b[0m\u001b[0m_train\u001b[0m\u001b[0;34m(\u001b[0m\u001b[0mtrain_pool\u001b[0m\u001b[0;34m,\u001b[0m \u001b[0mtest_pool\u001b[0m\u001b[0;34m,\u001b[0m \u001b[0mparams\u001b[0m\u001b[0;34m,\u001b[0m \u001b[0mallow_clear_pool\u001b[0m\u001b[0;34m,\u001b[0m \u001b[0minit_model\u001b[0m\u001b[0;34m.\u001b[0m\u001b[0m_object\u001b[0m \u001b[0;32mif\u001b[0m \u001b[0minit_model\u001b[0m \u001b[0;32melse\u001b[0m \u001b[0;32mNone\u001b[0m\u001b[0;34m)\u001b[0m\u001b[0;34m\u001b[0m\u001b[0;34m\u001b[0m\u001b[0m\n\u001b[0m\u001b[1;32m   1259\u001b[0m         \u001b[0mself\u001b[0m\u001b[0;34m.\u001b[0m\u001b[0m_set_trained_model_attributes\u001b[0m\u001b[0;34m(\u001b[0m\u001b[0;34m)\u001b[0m\u001b[0;34m\u001b[0m\u001b[0;34m\u001b[0m\u001b[0m\n\u001b[1;32m   1260\u001b[0m \u001b[0;34m\u001b[0m\u001b[0m\n",
      "\u001b[0;32m_catboost.pyx\u001b[0m in \u001b[0;36m_catboost._CatBoost._train\u001b[0;34m()\u001b[0m\n",
      "\u001b[0;32m_catboost.pyx\u001b[0m in \u001b[0;36m_catboost._CatBoost._train\u001b[0;34m()\u001b[0m\n",
      "\u001b[0;31mKeyboardInterrupt\u001b[0m: "
     ]
    }
   ],
   "source": [
    "model.fit(train_x , train_y , cat_features=object_col_index)"
   ]
  },
  {
   "cell_type": "code",
   "execution_count": null,
   "metadata": {},
   "outputs": [],
   "source": [
    "model.pred(test_x)"
   ]
  },
  {
   "cell_type": "code",
   "execution_count": null,
   "metadata": {},
   "outputs": [],
   "source": [
    "test_y"
   ]
  },
  {
   "cell_type": "markdown",
   "metadata": {},
   "source": [
    "## 단일 시계열 추정"
   ]
  },
  {
   "cell_type": "code",
   "execution_count": null,
   "metadata": {},
   "outputs": [],
   "source": [
    "# 노원구 월계동 동신아파트  전용면적 71.83  , 2020-09-07"
   ]
  },
  {
   "cell_type": "code",
   "execution_count": 130,
   "metadata": {},
   "outputs": [],
   "source": [
    "df[\"local1\"] = local1_encoder.inverse_transform(df[\"local1_encoded\"])"
   ]
  },
  {
   "cell_type": "code",
   "execution_count": 131,
   "metadata": {},
   "outputs": [],
   "source": [
    "df[\"local2\"] = local2_encoder.inverse_transform(df[\"local2_encoded\"])\n",
    "df[\"local3\"] = local3_encoder.inverse_transform(df[\"local3_encoded\"])\n",
    "df[\"아파트\"] = apt_encoder.inverse_transform(df[\"apt_encoded\"])\n",
    "df[\"지번\"] = jibun_encoder.inverse_transform(df[\"jibun_encoded\"])"
   ]
  },
  {
   "cell_type": "code",
   "execution_count": 134,
   "metadata": {},
   "outputs": [],
   "source": [
    "series_1 = df[(df[\"local3\"]==\"서울특별시-노원구-월계동\")&(df[\"아파트\"]==\"동신\")]"
   ]
  },
  {
   "cell_type": "code",
   "execution_count": 136,
   "metadata": {},
   "outputs": [],
   "source": [
    "series_1 = series_1[series_1[\"전용면적\"]==71.83]"
   ]
  },
  {
   "cell_type": "code",
   "execution_count": 138,
   "metadata": {},
   "outputs": [],
   "source": [
    "series_1 = series_1[[\"거래일\",\"거래금액\"]]"
   ]
  },
  {
   "cell_type": "code",
   "execution_count": 140,
   "metadata": {},
   "outputs": [],
   "source": [
    "series_1.set_index(keys=[\"거래일\"],inplace=True)"
   ]
  },
  {
   "cell_type": "code",
   "execution_count": 143,
   "metadata": {},
   "outputs": [],
   "source": [
    "prophet_input_df = series_1.resample(\"W-MON\").median()"
   ]
  },
  {
   "cell_type": "code",
   "execution_count": 145,
   "metadata": {},
   "outputs": [],
   "source": [
    "prophet_input_df.reset_index(drop=False,inplace=True)"
   ]
  },
  {
   "cell_type": "code",
   "execution_count": 147,
   "metadata": {},
   "outputs": [],
   "source": [
    "prophet_input_df.columns =[\"ds\",\"y\"]"
   ]
  },
  {
   "cell_type": "code",
   "execution_count": 150,
   "metadata": {},
   "outputs": [],
   "source": [
    "save_df = prophet_input_df.copy()"
   ]
  },
  {
   "cell_type": "code",
   "execution_count": 151,
   "metadata": {},
   "outputs": [],
   "source": [
    "prophet_input_df = prophet_input_df[prophet_input_df[\"ds\"]<\"2020-09-07\"]"
   ]
  },
  {
   "cell_type": "code",
   "execution_count": 152,
   "metadata": {},
   "outputs": [
    {
     "data": {
      "text/html": [
       "<div>\n",
       "<style scoped>\n",
       "    .dataframe tbody tr th:only-of-type {\n",
       "        vertical-align: middle;\n",
       "    }\n",
       "\n",
       "    .dataframe tbody tr th {\n",
       "        vertical-align: top;\n",
       "    }\n",
       "\n",
       "    .dataframe thead th {\n",
       "        text-align: right;\n",
       "    }\n",
       "</style>\n",
       "<table border=\"1\" class=\"dataframe\">\n",
       "  <thead>\n",
       "    <tr style=\"text-align: right;\">\n",
       "      <th></th>\n",
       "      <th>ds</th>\n",
       "      <th>y</th>\n",
       "    </tr>\n",
       "  </thead>\n",
       "  <tbody>\n",
       "    <tr>\n",
       "      <th>0</th>\n",
       "      <td>2006-01-23</td>\n",
       "      <td>14100.0</td>\n",
       "    </tr>\n",
       "    <tr>\n",
       "      <th>1</th>\n",
       "      <td>2006-01-30</td>\n",
       "      <td>NaN</td>\n",
       "    </tr>\n",
       "    <tr>\n",
       "      <th>2</th>\n",
       "      <td>2006-02-06</td>\n",
       "      <td>NaN</td>\n",
       "    </tr>\n",
       "    <tr>\n",
       "      <th>3</th>\n",
       "      <td>2006-02-13</td>\n",
       "      <td>NaN</td>\n",
       "    </tr>\n",
       "    <tr>\n",
       "      <th>4</th>\n",
       "      <td>2006-02-20</td>\n",
       "      <td>NaN</td>\n",
       "    </tr>\n",
       "    <tr>\n",
       "      <th>...</th>\n",
       "      <td>...</td>\n",
       "      <td>...</td>\n",
       "    </tr>\n",
       "    <tr>\n",
       "      <th>758</th>\n",
       "      <td>2020-08-03</td>\n",
       "      <td>NaN</td>\n",
       "    </tr>\n",
       "    <tr>\n",
       "      <th>759</th>\n",
       "      <td>2020-08-10</td>\n",
       "      <td>NaN</td>\n",
       "    </tr>\n",
       "    <tr>\n",
       "      <th>760</th>\n",
       "      <td>2020-08-17</td>\n",
       "      <td>58000.0</td>\n",
       "    </tr>\n",
       "    <tr>\n",
       "      <th>761</th>\n",
       "      <td>2020-08-24</td>\n",
       "      <td>NaN</td>\n",
       "    </tr>\n",
       "    <tr>\n",
       "      <th>762</th>\n",
       "      <td>2020-08-31</td>\n",
       "      <td>NaN</td>\n",
       "    </tr>\n",
       "  </tbody>\n",
       "</table>\n",
       "<p>763 rows × 2 columns</p>\n",
       "</div>"
      ],
      "text/plain": [
       "            ds        y\n",
       "0   2006-01-23  14100.0\n",
       "1   2006-01-30      NaN\n",
       "2   2006-02-06      NaN\n",
       "3   2006-02-13      NaN\n",
       "4   2006-02-20      NaN\n",
       "..         ...      ...\n",
       "758 2020-08-03      NaN\n",
       "759 2020-08-10      NaN\n",
       "760 2020-08-17  58000.0\n",
       "761 2020-08-24      NaN\n",
       "762 2020-08-31      NaN\n",
       "\n",
       "[763 rows x 2 columns]"
      ]
     },
     "execution_count": 152,
     "metadata": {},
     "output_type": "execute_result"
    }
   ],
   "source": [
    "prophet_input_df"
   ]
  },
  {
   "cell_type": "code",
   "execution_count": 148,
   "metadata": {},
   "outputs": [],
   "source": [
    "from fbprophet import Prophet"
   ]
  },
  {
   "cell_type": "code",
   "execution_count": 149,
   "metadata": {},
   "outputs": [],
   "source": [
    "m = Prophet()"
   ]
  },
  {
   "cell_type": "code",
   "execution_count": 153,
   "metadata": {},
   "outputs": [
    {
     "name": "stderr",
     "output_type": "stream",
     "text": [
      "INFO:fbprophet:Disabling weekly seasonality. Run prophet with weekly_seasonality=True to override this.\n",
      "INFO:fbprophet:Disabling daily seasonality. Run prophet with daily_seasonality=True to override this.\n"
     ]
    },
    {
     "data": {
      "text/plain": [
       "<fbprophet.forecaster.Prophet at 0x7f5d77b55d68>"
      ]
     },
     "execution_count": 153,
     "metadata": {},
     "output_type": "execute_result"
    }
   ],
   "source": [
    "m.fit(prophet_input_df)"
   ]
  },
  {
   "cell_type": "code",
   "execution_count": 154,
   "metadata": {},
   "outputs": [],
   "source": [
    "future = m.make_future_dataframe(periods=1 , freq=\"W-MON\")"
   ]
  },
  {
   "cell_type": "code",
   "execution_count": 155,
   "metadata": {},
   "outputs": [],
   "source": [
    "forecast = m.predict(future)"
   ]
  },
  {
   "cell_type": "code",
   "execution_count": 156,
   "metadata": {},
   "outputs": [
    {
     "data": {
      "text/html": [
       "<div>\n",
       "<style scoped>\n",
       "    .dataframe tbody tr th:only-of-type {\n",
       "        vertical-align: middle;\n",
       "    }\n",
       "\n",
       "    .dataframe tbody tr th {\n",
       "        vertical-align: top;\n",
       "    }\n",
       "\n",
       "    .dataframe thead th {\n",
       "        text-align: right;\n",
       "    }\n",
       "</style>\n",
       "<table border=\"1\" class=\"dataframe\">\n",
       "  <thead>\n",
       "    <tr style=\"text-align: right;\">\n",
       "      <th></th>\n",
       "      <th>ds</th>\n",
       "      <th>yhat</th>\n",
       "    </tr>\n",
       "  </thead>\n",
       "  <tbody>\n",
       "    <tr>\n",
       "      <th>763</th>\n",
       "      <td>2020-09-07</td>\n",
       "      <td>50868.218884</td>\n",
       "    </tr>\n",
       "  </tbody>\n",
       "</table>\n",
       "</div>"
      ],
      "text/plain": [
       "            ds          yhat\n",
       "763 2020-09-07  50868.218884"
      ]
     },
     "execution_count": 156,
     "metadata": {},
     "output_type": "execute_result"
    }
   ],
   "source": [
    "forecast.tail(1)[[\"ds\",\"yhat\"]]"
   ]
  },
  {
   "cell_type": "code",
   "execution_count": 157,
   "metadata": {},
   "outputs": [
    {
     "data": {
      "text/html": [
       "<div>\n",
       "<style scoped>\n",
       "    .dataframe tbody tr th:only-of-type {\n",
       "        vertical-align: middle;\n",
       "    }\n",
       "\n",
       "    .dataframe tbody tr th {\n",
       "        vertical-align: top;\n",
       "    }\n",
       "\n",
       "    .dataframe thead th {\n",
       "        text-align: right;\n",
       "    }\n",
       "</style>\n",
       "<table border=\"1\" class=\"dataframe\">\n",
       "  <thead>\n",
       "    <tr style=\"text-align: right;\">\n",
       "      <th></th>\n",
       "      <th>ds</th>\n",
       "      <th>y</th>\n",
       "    </tr>\n",
       "  </thead>\n",
       "  <tbody>\n",
       "    <tr>\n",
       "      <th>763</th>\n",
       "      <td>2020-09-07</td>\n",
       "      <td>59400.0</td>\n",
       "    </tr>\n",
       "  </tbody>\n",
       "</table>\n",
       "</div>"
      ],
      "text/plain": [
       "            ds        y\n",
       "763 2020-09-07  59400.0"
      ]
     },
     "execution_count": 157,
     "metadata": {},
     "output_type": "execute_result"
    }
   ],
   "source": [
    "save_df.tail(1)"
   ]
  },
  {
   "cell_type": "markdown",
   "metadata": {},
   "source": [
    "- 유사한 시계열"
   ]
  }
 ],
 "metadata": {
  "kernelspec": {
   "display_name": "Python 3",
   "language": "python",
   "name": "python3"
  },
  "language_info": {
   "codemirror_mode": {
    "name": "ipython",
    "version": 3
   },
   "file_extension": ".py",
   "mimetype": "text/x-python",
   "name": "python",
   "nbconvert_exporter": "python",
   "pygments_lexer": "ipython3",
   "version": "3.6.11"
  }
 },
 "nbformat": 4,
 "nbformat_minor": 4
}
