{
 "cells": [
  {
   "cell_type": "markdown",
   "metadata": {},
   "source": [
    "# 패키지 셋팅 및 데이터 호출"
   ]
  },
  {
   "cell_type": "markdown",
   "metadata": {},
   "source": [
    "@@@ 데이터 분석 순서 @@@\n",
    "1. 목표를 설정한다.\n",
    "2. 데이터를 구한다.\n",
    "3. 데이터를 파악하기 위해 탐색 및 시각화한다다.\n",
    "4. 어떠한 방법으로 문제를 해결할지 선택한다.\n",
    "5. 선택한 방법으로 데이터를 학습시킨다.\n",
    "6. 모델을 상세하게 조정한다.\n",
    "7. 유의미한 결과가 나오면 해당 방법을 통해 솔루션을 제시한다.\n",
    "8. 적용한 뒤 잘 작동하는지 모니터링한다."
   ]
  },
  {
   "cell_type": "markdown",
   "metadata": {},
   "source": [
    "* https://kaggle.com/datasets/\n",
    "* https://archive.ics.uci.edu/ml/\n",
    "* https://aws.amazon.com/ko/datasets\n",
    "* https://dacon.io/"
   ]
  },
  {
   "cell_type": "markdown",
   "metadata": {},
   "source": [
    "- 패키지 호출"
   ]
  },
  {
   "cell_type": "code",
   "execution_count": 3,
   "metadata": {},
   "outputs": [
    {
     "name": "stderr",
     "output_type": "stream",
     "text": [
      "<ipython-input-3-2774ff132ea4>:38: FutureWarning: Passing a negative integer is deprecated in version 1.0 and will not be supported in future version. Instead, use None to not limit the column width.\n",
      "  pd.set_option('display.max_colwidth', -1)\n"
     ]
    }
   ],
   "source": [
    "import os\n",
    "\n",
    "\n",
    "import pandas as pd\n",
    "import numpy as np\n",
    "\n",
    "from datetime import datetime , timedelta\n",
    "import warnings\n",
    "import itertools\n",
    "from itertools import product\n",
    "from tqdm import tqdm_notebook\n",
    "from math import sqrt\n",
    "\n",
    "from sklearn.metrics import r2_score, median_absolute_error, mean_absolute_error\n",
    "from sklearn.metrics import median_absolute_error, mean_squared_error, mean_squared_log_error\n",
    "from sklearn.model_selection import train_test_split\n",
    "\n",
    "from catboost import CatBoostRegressor\n",
    "\n",
    "import statsmodels.tsa.api as smt\n",
    "from statsmodels.tsa.arima_model import ARIMA \n",
    "\n",
    "import statsmodels.api as sm\n",
    "from statsmodels.graphics.tsaplots import plot_acf, plot_pacf\n",
    "\n",
    "import seaborn as sns\n",
    "import matplotlib\n",
    "import matplotlib.pyplot as plt\n",
    "from pylab import rcParams\n",
    "\n",
    "\n",
    "matplotlib.rcParams['axes.labelsize'] = 14\n",
    "matplotlib.rcParams['xtick.labelsize'] = 12\n",
    "matplotlib.rcParams['ytick.labelsize'] = 12\n",
    "matplotlib.rcParams['text.color'] = 'k'\n",
    "rcParams['figure.figsize'] = 20, 10\n",
    "\n",
    "pd.set_option('display.max_colwidth', -1)\n",
    "pd.set_option('display.max_rows', 500)\n",
    "pd.set_option('display.max_columns', 500)\n",
    "pd.set_option('display.width', 1000)\n",
    "\n",
    "warnings.filterwarnings(\"ignore\")\n",
    "plt.style.use('fivethirtyeight')\n",
    "\n",
    "%matplotlib inline"
   ]
  },
  {
   "cell_type": "code",
   "execution_count": 4,
   "metadata": {},
   "outputs": [],
   "source": [
    "import warnings\n",
    "warnings.filterwarnings(\"ignore\")"
   ]
  },
  {
   "cell_type": "markdown",
   "metadata": {},
   "source": [
    "- 현재 디렉토리 확인 및 폴더디렉토리 내 파일 리스트 확인"
   ]
  },
  {
   "cell_type": "code",
   "execution_count": 5,
   "metadata": {},
   "outputs": [
    {
     "data": {
      "text/plain": [
       "'D:\\\\남정재\\\\문서\\\\2020 Open Up 공개SW전문교육 빅데이터(심화)'"
      ]
     },
     "execution_count": 5,
     "metadata": {},
     "output_type": "execute_result"
    }
   ],
   "source": [
    "import os\n",
    "os.getcwd()"
   ]
  },
  {
   "cell_type": "markdown",
   "metadata": {},
   "source": [
    "- 데이터 호출"
   ]
  },
  {
   "cell_type": "code",
   "execution_count": 6,
   "metadata": {},
   "outputs": [],
   "source": [
    "df_order = pd.read_excel(\"./data/Superstore.xls\",sheet_name = \"Orders\", dtype=\"unicode\")"
   ]
  },
  {
   "cell_type": "code",
   "execution_count": 7,
   "metadata": {},
   "outputs": [
    {
     "data": {
      "text/html": [
       "<div>\n",
       "<style scoped>\n",
       "    .dataframe tbody tr th:only-of-type {\n",
       "        vertical-align: middle;\n",
       "    }\n",
       "\n",
       "    .dataframe tbody tr th {\n",
       "        vertical-align: top;\n",
       "    }\n",
       "\n",
       "    .dataframe thead th {\n",
       "        text-align: right;\n",
       "    }\n",
       "</style>\n",
       "<table border=\"1\" class=\"dataframe\">\n",
       "  <thead>\n",
       "    <tr style=\"text-align: right;\">\n",
       "      <th></th>\n",
       "      <th>Row ID</th>\n",
       "      <th>Order ID</th>\n",
       "      <th>Order Date</th>\n",
       "      <th>Ship Date</th>\n",
       "      <th>Ship Mode</th>\n",
       "      <th>Customer ID</th>\n",
       "      <th>Customer Name</th>\n",
       "      <th>Segment</th>\n",
       "      <th>Country</th>\n",
       "      <th>City</th>\n",
       "      <th>State</th>\n",
       "      <th>Postal Code</th>\n",
       "      <th>Region</th>\n",
       "      <th>Product ID</th>\n",
       "      <th>Category</th>\n",
       "      <th>Sub-Category</th>\n",
       "      <th>Product Name</th>\n",
       "      <th>Sales</th>\n",
       "      <th>Quantity</th>\n",
       "      <th>Discount</th>\n",
       "      <th>Profit</th>\n",
       "    </tr>\n",
       "  </thead>\n",
       "  <tbody>\n",
       "    <tr>\n",
       "      <th>0</th>\n",
       "      <td>1</td>\n",
       "      <td>CA-2016-152156</td>\n",
       "      <td>2016-11-08 00:00:00</td>\n",
       "      <td>2016-11-11 00:00:00</td>\n",
       "      <td>Second Class</td>\n",
       "      <td>CG-12520</td>\n",
       "      <td>Claire Gute</td>\n",
       "      <td>Consumer</td>\n",
       "      <td>United States</td>\n",
       "      <td>Henderson</td>\n",
       "      <td>Kentucky</td>\n",
       "      <td>42420</td>\n",
       "      <td>South</td>\n",
       "      <td>FUR-BO-10001798</td>\n",
       "      <td>Furniture</td>\n",
       "      <td>Bookcases</td>\n",
       "      <td>Bush Somerset Collection Bookcase</td>\n",
       "      <td>261.96</td>\n",
       "      <td>2</td>\n",
       "      <td>0</td>\n",
       "      <td>41.9136</td>\n",
       "    </tr>\n",
       "    <tr>\n",
       "      <th>1</th>\n",
       "      <td>2</td>\n",
       "      <td>CA-2016-152156</td>\n",
       "      <td>2016-11-08 00:00:00</td>\n",
       "      <td>2016-11-11 00:00:00</td>\n",
       "      <td>Second Class</td>\n",
       "      <td>CG-12520</td>\n",
       "      <td>Claire Gute</td>\n",
       "      <td>Consumer</td>\n",
       "      <td>United States</td>\n",
       "      <td>Henderson</td>\n",
       "      <td>Kentucky</td>\n",
       "      <td>42420</td>\n",
       "      <td>South</td>\n",
       "      <td>FUR-CH-10000454</td>\n",
       "      <td>Furniture</td>\n",
       "      <td>Chairs</td>\n",
       "      <td>Hon Deluxe Fabric Upholstered Stacking Chairs, Rounded Back</td>\n",
       "      <td>731.9399999999999</td>\n",
       "      <td>3</td>\n",
       "      <td>0</td>\n",
       "      <td>219.58199999999997</td>\n",
       "    </tr>\n",
       "    <tr>\n",
       "      <th>2</th>\n",
       "      <td>3</td>\n",
       "      <td>CA-2016-138688</td>\n",
       "      <td>2016-06-12 00:00:00</td>\n",
       "      <td>2016-06-16 00:00:00</td>\n",
       "      <td>Second Class</td>\n",
       "      <td>DV-13045</td>\n",
       "      <td>Darrin Van Huff</td>\n",
       "      <td>Corporate</td>\n",
       "      <td>United States</td>\n",
       "      <td>Los Angeles</td>\n",
       "      <td>California</td>\n",
       "      <td>90036</td>\n",
       "      <td>West</td>\n",
       "      <td>OFF-LA-10000240</td>\n",
       "      <td>Office Supplies</td>\n",
       "      <td>Labels</td>\n",
       "      <td>Self-Adhesive Address Labels for Typewriters by Universal</td>\n",
       "      <td>14.62</td>\n",
       "      <td>2</td>\n",
       "      <td>0</td>\n",
       "      <td>6.8713999999999995</td>\n",
       "    </tr>\n",
       "    <tr>\n",
       "      <th>3</th>\n",
       "      <td>4</td>\n",
       "      <td>US-2015-108966</td>\n",
       "      <td>2015-10-11 00:00:00</td>\n",
       "      <td>2015-10-18 00:00:00</td>\n",
       "      <td>Standard Class</td>\n",
       "      <td>SO-20335</td>\n",
       "      <td>Sean O'Donnell</td>\n",
       "      <td>Consumer</td>\n",
       "      <td>United States</td>\n",
       "      <td>Fort Lauderdale</td>\n",
       "      <td>Florida</td>\n",
       "      <td>33311</td>\n",
       "      <td>South</td>\n",
       "      <td>FUR-TA-10000577</td>\n",
       "      <td>Furniture</td>\n",
       "      <td>Tables</td>\n",
       "      <td>Bretford CR4500 Series Slim Rectangular Table</td>\n",
       "      <td>957.5775</td>\n",
       "      <td>5</td>\n",
       "      <td>0.45</td>\n",
       "      <td>-383.03100000000006</td>\n",
       "    </tr>\n",
       "    <tr>\n",
       "      <th>4</th>\n",
       "      <td>5</td>\n",
       "      <td>US-2015-108966</td>\n",
       "      <td>2015-10-11 00:00:00</td>\n",
       "      <td>2015-10-18 00:00:00</td>\n",
       "      <td>Standard Class</td>\n",
       "      <td>SO-20335</td>\n",
       "      <td>Sean O'Donnell</td>\n",
       "      <td>Consumer</td>\n",
       "      <td>United States</td>\n",
       "      <td>Fort Lauderdale</td>\n",
       "      <td>Florida</td>\n",
       "      <td>33311</td>\n",
       "      <td>South</td>\n",
       "      <td>OFF-ST-10000760</td>\n",
       "      <td>Office Supplies</td>\n",
       "      <td>Storage</td>\n",
       "      <td>Eldon Fold 'N Roll Cart System</td>\n",
       "      <td>22.368000000000002</td>\n",
       "      <td>2</td>\n",
       "      <td>0.2</td>\n",
       "      <td>2.516399999999999</td>\n",
       "    </tr>\n",
       "    <tr>\n",
       "      <th>...</th>\n",
       "      <td>...</td>\n",
       "      <td>...</td>\n",
       "      <td>...</td>\n",
       "      <td>...</td>\n",
       "      <td>...</td>\n",
       "      <td>...</td>\n",
       "      <td>...</td>\n",
       "      <td>...</td>\n",
       "      <td>...</td>\n",
       "      <td>...</td>\n",
       "      <td>...</td>\n",
       "      <td>...</td>\n",
       "      <td>...</td>\n",
       "      <td>...</td>\n",
       "      <td>...</td>\n",
       "      <td>...</td>\n",
       "      <td>...</td>\n",
       "      <td>...</td>\n",
       "      <td>...</td>\n",
       "      <td>...</td>\n",
       "      <td>...</td>\n",
       "    </tr>\n",
       "    <tr>\n",
       "      <th>9989</th>\n",
       "      <td>9990</td>\n",
       "      <td>CA-2014-110422</td>\n",
       "      <td>2014-01-21 00:00:00</td>\n",
       "      <td>2014-01-23 00:00:00</td>\n",
       "      <td>Second Class</td>\n",
       "      <td>TB-21400</td>\n",
       "      <td>Tom Boeckenhauer</td>\n",
       "      <td>Consumer</td>\n",
       "      <td>United States</td>\n",
       "      <td>Miami</td>\n",
       "      <td>Florida</td>\n",
       "      <td>33180</td>\n",
       "      <td>South</td>\n",
       "      <td>FUR-FU-10001889</td>\n",
       "      <td>Furniture</td>\n",
       "      <td>Furnishings</td>\n",
       "      <td>Ultra Door Pull Handle</td>\n",
       "      <td>25.248</td>\n",
       "      <td>3</td>\n",
       "      <td>0.2</td>\n",
       "      <td>4.102799999999999</td>\n",
       "    </tr>\n",
       "    <tr>\n",
       "      <th>9990</th>\n",
       "      <td>9991</td>\n",
       "      <td>CA-2017-121258</td>\n",
       "      <td>2017-02-26 00:00:00</td>\n",
       "      <td>2017-03-03 00:00:00</td>\n",
       "      <td>Standard Class</td>\n",
       "      <td>DB-13060</td>\n",
       "      <td>Dave Brooks</td>\n",
       "      <td>Consumer</td>\n",
       "      <td>United States</td>\n",
       "      <td>Costa Mesa</td>\n",
       "      <td>California</td>\n",
       "      <td>92627</td>\n",
       "      <td>West</td>\n",
       "      <td>FUR-FU-10000747</td>\n",
       "      <td>Furniture</td>\n",
       "      <td>Furnishings</td>\n",
       "      <td>Tenex B1-RE Series Chair Mats for Low Pile Carpets</td>\n",
       "      <td>91.96</td>\n",
       "      <td>2</td>\n",
       "      <td>0</td>\n",
       "      <td>15.633199999999988</td>\n",
       "    </tr>\n",
       "    <tr>\n",
       "      <th>9991</th>\n",
       "      <td>9992</td>\n",
       "      <td>CA-2017-121258</td>\n",
       "      <td>2017-02-26 00:00:00</td>\n",
       "      <td>2017-03-03 00:00:00</td>\n",
       "      <td>Standard Class</td>\n",
       "      <td>DB-13060</td>\n",
       "      <td>Dave Brooks</td>\n",
       "      <td>Consumer</td>\n",
       "      <td>United States</td>\n",
       "      <td>Costa Mesa</td>\n",
       "      <td>California</td>\n",
       "      <td>92627</td>\n",
       "      <td>West</td>\n",
       "      <td>TEC-PH-10003645</td>\n",
       "      <td>Technology</td>\n",
       "      <td>Phones</td>\n",
       "      <td>Aastra 57i VoIP phone</td>\n",
       "      <td>258.576</td>\n",
       "      <td>2</td>\n",
       "      <td>0.2</td>\n",
       "      <td>19.393200000000007</td>\n",
       "    </tr>\n",
       "    <tr>\n",
       "      <th>9992</th>\n",
       "      <td>9993</td>\n",
       "      <td>CA-2017-121258</td>\n",
       "      <td>2017-02-26 00:00:00</td>\n",
       "      <td>2017-03-03 00:00:00</td>\n",
       "      <td>Standard Class</td>\n",
       "      <td>DB-13060</td>\n",
       "      <td>Dave Brooks</td>\n",
       "      <td>Consumer</td>\n",
       "      <td>United States</td>\n",
       "      <td>Costa Mesa</td>\n",
       "      <td>California</td>\n",
       "      <td>92627</td>\n",
       "      <td>West</td>\n",
       "      <td>OFF-PA-10004041</td>\n",
       "      <td>Office Supplies</td>\n",
       "      <td>Paper</td>\n",
       "      <td>It's Hot Message Books with Stickers, 2 3/4\" x 5\"</td>\n",
       "      <td>29.6</td>\n",
       "      <td>4</td>\n",
       "      <td>0</td>\n",
       "      <td>13.32</td>\n",
       "    </tr>\n",
       "    <tr>\n",
       "      <th>9993</th>\n",
       "      <td>9994</td>\n",
       "      <td>CA-2017-119914</td>\n",
       "      <td>2017-05-04 00:00:00</td>\n",
       "      <td>2017-05-09 00:00:00</td>\n",
       "      <td>Second Class</td>\n",
       "      <td>CC-12220</td>\n",
       "      <td>Chris Cortes</td>\n",
       "      <td>Consumer</td>\n",
       "      <td>United States</td>\n",
       "      <td>Westminster</td>\n",
       "      <td>California</td>\n",
       "      <td>92683</td>\n",
       "      <td>West</td>\n",
       "      <td>OFF-AP-10002684</td>\n",
       "      <td>Office Supplies</td>\n",
       "      <td>Appliances</td>\n",
       "      <td>Acco 7-Outlet Masterpiece Power Center, Wihtout Fax/Phone Line Protection</td>\n",
       "      <td>243.16</td>\n",
       "      <td>2</td>\n",
       "      <td>0</td>\n",
       "      <td>72.94799999999998</td>\n",
       "    </tr>\n",
       "  </tbody>\n",
       "</table>\n",
       "<p>9994 rows × 21 columns</p>\n",
       "</div>"
      ],
      "text/plain": [
       "     Row ID        Order ID           Order Date            Ship Date       Ship Mode Customer ID     Customer Name    Segment        Country             City       State Postal Code Region       Product ID         Category Sub-Category                                                               Product Name               Sales Quantity Discount               Profit\n",
       "0     1      CA-2016-152156  2016-11-08 00:00:00  2016-11-11 00:00:00  Second Class    CG-12520    Claire Gute       Consumer   United States  Henderson        Kentucky    42420       South  FUR-BO-10001798  Furniture        Bookcases    Bush Somerset Collection Bookcase                                          261.96              2        0        41.9136            \n",
       "1     2      CA-2016-152156  2016-11-08 00:00:00  2016-11-11 00:00:00  Second Class    CG-12520    Claire Gute       Consumer   United States  Henderson        Kentucky    42420       South  FUR-CH-10000454  Furniture        Chairs       Hon Deluxe Fabric Upholstered Stacking Chairs, Rounded Back                731.9399999999999   3        0        219.58199999999997 \n",
       "2     3      CA-2016-138688  2016-06-12 00:00:00  2016-06-16 00:00:00  Second Class    DV-13045    Darrin Van Huff   Corporate  United States  Los Angeles      California  90036       West   OFF-LA-10000240  Office Supplies  Labels       Self-Adhesive Address Labels for Typewriters by Universal                  14.62               2        0        6.8713999999999995 \n",
       "3     4      US-2015-108966  2015-10-11 00:00:00  2015-10-18 00:00:00  Standard Class  SO-20335    Sean O'Donnell    Consumer   United States  Fort Lauderdale  Florida     33311       South  FUR-TA-10000577  Furniture        Tables       Bretford CR4500 Series Slim Rectangular Table                              957.5775            5        0.45     -383.03100000000006\n",
       "4     5      US-2015-108966  2015-10-11 00:00:00  2015-10-18 00:00:00  Standard Class  SO-20335    Sean O'Donnell    Consumer   United States  Fort Lauderdale  Florida     33311       South  OFF-ST-10000760  Office Supplies  Storage      Eldon Fold 'N Roll Cart System                                             22.368000000000002  2        0.2      2.516399999999999  \n",
       "...  ..                 ...                  ...                  ...             ...       ...               ...         ...             ...              ...      ...       ...         ...              ...              ...      ...                                 ...                                                            ... ..        ...                    ...  \n",
       "9989  9990   CA-2014-110422  2014-01-21 00:00:00  2014-01-23 00:00:00  Second Class    TB-21400    Tom Boeckenhauer  Consumer   United States  Miami            Florida     33180       South  FUR-FU-10001889  Furniture        Furnishings  Ultra Door Pull Handle                                                     25.248              3        0.2      4.102799999999999  \n",
       "9990  9991   CA-2017-121258  2017-02-26 00:00:00  2017-03-03 00:00:00  Standard Class  DB-13060    Dave Brooks       Consumer   United States  Costa Mesa       California  92627       West   FUR-FU-10000747  Furniture        Furnishings  Tenex B1-RE Series Chair Mats for Low Pile Carpets                         91.96               2        0        15.633199999999988 \n",
       "9991  9992   CA-2017-121258  2017-02-26 00:00:00  2017-03-03 00:00:00  Standard Class  DB-13060    Dave Brooks       Consumer   United States  Costa Mesa       California  92627       West   TEC-PH-10003645  Technology       Phones       Aastra 57i VoIP phone                                                      258.576             2        0.2      19.393200000000007 \n",
       "9992  9993   CA-2017-121258  2017-02-26 00:00:00  2017-03-03 00:00:00  Standard Class  DB-13060    Dave Brooks       Consumer   United States  Costa Mesa       California  92627       West   OFF-PA-10004041  Office Supplies  Paper        It's Hot Message Books with Stickers, 2 3/4\" x 5\"                          29.6                4        0        13.32              \n",
       "9993  9994   CA-2017-119914  2017-05-04 00:00:00  2017-05-09 00:00:00  Second Class    CC-12220    Chris Cortes      Consumer   United States  Westminster      California  92683       West   OFF-AP-10002684  Office Supplies  Appliances   Acco 7-Outlet Masterpiece Power Center, Wihtout Fax/Phone Line Protection  243.16              2        0        72.94799999999998  \n",
       "\n",
       "[9994 rows x 21 columns]"
      ]
     },
     "execution_count": 7,
     "metadata": {},
     "output_type": "execute_result"
    }
   ],
   "source": [
    "df_order"
   ]
  },
  {
   "cell_type": "markdown",
   "metadata": {},
   "source": [
    "# 데이터 탐색"
   ]
  },
  {
   "cell_type": "markdown",
   "metadata": {},
   "source": [
    "- 데이터 rows 확인"
   ]
  },
  {
   "cell_type": "code",
   "execution_count": 8,
   "metadata": {},
   "outputs": [
    {
     "data": {
      "text/plain": [
       "(9994, 21)"
      ]
     },
     "execution_count": 8,
     "metadata": {},
     "output_type": "execute_result"
    }
   ],
   "source": [
    "df_order.shape"
   ]
  },
  {
   "cell_type": "markdown",
   "metadata": {},
   "source": [
    "- 결측치 확인"
   ]
  },
  {
   "cell_type": "code",
   "execution_count": 9,
   "metadata": {},
   "outputs": [
    {
     "data": {
      "text/plain": [
       "Row ID           0\n",
       "Order ID         0\n",
       "Order Date       0\n",
       "Ship Date        0\n",
       "Ship Mode        0\n",
       "Customer ID      0\n",
       "Customer Name    0\n",
       "Segment          0\n",
       "Country          0\n",
       "City             0\n",
       "State            0\n",
       "Postal Code      0\n",
       "Region           0\n",
       "Product ID       0\n",
       "Category         0\n",
       "Sub-Category     0\n",
       "Product Name     0\n",
       "Sales            0\n",
       "Quantity         0\n",
       "Discount         0\n",
       "Profit           0\n",
       "dtype: int64"
      ]
     },
     "execution_count": 9,
     "metadata": {},
     "output_type": "execute_result"
    }
   ],
   "source": [
    "df_order.isnull().sum()"
   ]
  },
  {
   "cell_type": "markdown",
   "metadata": {},
   "source": [
    "- 각 컬럼 데이터타입 확인"
   ]
  },
  {
   "cell_type": "code",
   "execution_count": 10,
   "metadata": {},
   "outputs": [
    {
     "data": {
      "text/plain": [
       "Row ID           object\n",
       "Order ID         object\n",
       "Order Date       object\n",
       "Ship Date        object\n",
       "Ship Mode        object\n",
       "Customer ID      object\n",
       "Customer Name    object\n",
       "Segment          object\n",
       "Country          object\n",
       "City             object\n",
       "State            object\n",
       "Postal Code      object\n",
       "Region           object\n",
       "Product ID       object\n",
       "Category         object\n",
       "Sub-Category     object\n",
       "Product Name     object\n",
       "Sales            object\n",
       "Quantity         object\n",
       "Discount         object\n",
       "Profit           object\n",
       "dtype: object"
      ]
     },
     "execution_count": 10,
     "metadata": {},
     "output_type": "execute_result"
    }
   ],
   "source": [
    "df_order.dtypes"
   ]
  },
  {
   "cell_type": "markdown",
   "metadata": {},
   "source": [
    "- 데이터 타입 변경"
   ]
  },
  {
   "cell_type": "code",
   "execution_count": 11,
   "metadata": {},
   "outputs": [
    {
     "data": {
      "text/html": [
       "<div>\n",
       "<style scoped>\n",
       "    .dataframe tbody tr th:only-of-type {\n",
       "        vertical-align: middle;\n",
       "    }\n",
       "\n",
       "    .dataframe tbody tr th {\n",
       "        vertical-align: top;\n",
       "    }\n",
       "\n",
       "    .dataframe thead th {\n",
       "        text-align: right;\n",
       "    }\n",
       "</style>\n",
       "<table border=\"1\" class=\"dataframe\">\n",
       "  <thead>\n",
       "    <tr style=\"text-align: right;\">\n",
       "      <th></th>\n",
       "      <th>Row ID</th>\n",
       "      <th>Order ID</th>\n",
       "      <th>Order Date</th>\n",
       "      <th>Ship Date</th>\n",
       "      <th>Ship Mode</th>\n",
       "      <th>Customer ID</th>\n",
       "      <th>Customer Name</th>\n",
       "      <th>Segment</th>\n",
       "      <th>Country</th>\n",
       "      <th>City</th>\n",
       "      <th>State</th>\n",
       "      <th>Postal Code</th>\n",
       "      <th>Region</th>\n",
       "      <th>Product ID</th>\n",
       "      <th>Category</th>\n",
       "      <th>Sub-Category</th>\n",
       "      <th>Product Name</th>\n",
       "      <th>Sales</th>\n",
       "      <th>Quantity</th>\n",
       "      <th>Discount</th>\n",
       "      <th>Profit</th>\n",
       "    </tr>\n",
       "  </thead>\n",
       "  <tbody>\n",
       "    <tr>\n",
       "      <th>0</th>\n",
       "      <td>1</td>\n",
       "      <td>CA-2016-152156</td>\n",
       "      <td>2016-11-08 00:00:00</td>\n",
       "      <td>2016-11-11 00:00:00</td>\n",
       "      <td>Second Class</td>\n",
       "      <td>CG-12520</td>\n",
       "      <td>Claire Gute</td>\n",
       "      <td>Consumer</td>\n",
       "      <td>United States</td>\n",
       "      <td>Henderson</td>\n",
       "      <td>Kentucky</td>\n",
       "      <td>42420</td>\n",
       "      <td>South</td>\n",
       "      <td>FUR-BO-10001798</td>\n",
       "      <td>Furniture</td>\n",
       "      <td>Bookcases</td>\n",
       "      <td>Bush Somerset Collection Bookcase</td>\n",
       "      <td>261.96</td>\n",
       "      <td>2</td>\n",
       "      <td>0</td>\n",
       "      <td>41.9136</td>\n",
       "    </tr>\n",
       "  </tbody>\n",
       "</table>\n",
       "</div>"
      ],
      "text/plain": [
       "  Row ID        Order ID           Order Date            Ship Date     Ship Mode Customer ID Customer Name   Segment        Country       City     State Postal Code Region       Product ID   Category Sub-Category                       Product Name   Sales Quantity Discount   Profit\n",
       "0  1      CA-2016-152156  2016-11-08 00:00:00  2016-11-11 00:00:00  Second Class  CG-12520    Claire Gute   Consumer  United States  Henderson  Kentucky  42420       South  FUR-BO-10001798  Furniture  Bookcases    Bush Somerset Collection Bookcase  261.96  2        0        41.9136"
      ]
     },
     "execution_count": 11,
     "metadata": {},
     "output_type": "execute_result"
    }
   ],
   "source": [
    "df_order.head(1)"
   ]
  },
  {
   "cell_type": "code",
   "execution_count": 12,
   "metadata": {},
   "outputs": [],
   "source": [
    "df_order[\"Order Date\"] = pd.to_datetime(df_order[\"Order Date\"])\n",
    "df_order[\"Ship Date\"] = pd.to_datetime(df_order[\"Ship Date\"])\n",
    "df_order[\"Discount\"] = df_order[\"Discount\"].astype(np.float)\n",
    "df_order[\"Sales\"] = df_order[\"Sales\"].astype(np.float)\n",
    "df_order[\"Quantity\"] = df_order[\"Quantity\"].astype(np.float)\n",
    "df_order[\"Profit\"] = df_order[\"Profit\"].astype(np.float)"
   ]
  },
  {
   "cell_type": "code",
   "execution_count": 13,
   "metadata": {},
   "outputs": [
    {
     "data": {
      "text/html": [
       "<div>\n",
       "<style scoped>\n",
       "    .dataframe tbody tr th:only-of-type {\n",
       "        vertical-align: middle;\n",
       "    }\n",
       "\n",
       "    .dataframe tbody tr th {\n",
       "        vertical-align: top;\n",
       "    }\n",
       "\n",
       "    .dataframe thead th {\n",
       "        text-align: right;\n",
       "    }\n",
       "</style>\n",
       "<table border=\"1\" class=\"dataframe\">\n",
       "  <thead>\n",
       "    <tr style=\"text-align: right;\">\n",
       "      <th></th>\n",
       "      <th>Row ID</th>\n",
       "      <th>Order ID</th>\n",
       "      <th>Order Date</th>\n",
       "      <th>Ship Date</th>\n",
       "      <th>Ship Mode</th>\n",
       "      <th>Customer ID</th>\n",
       "      <th>Customer Name</th>\n",
       "      <th>Segment</th>\n",
       "      <th>Country</th>\n",
       "      <th>City</th>\n",
       "      <th>State</th>\n",
       "      <th>Postal Code</th>\n",
       "      <th>Region</th>\n",
       "      <th>Product ID</th>\n",
       "      <th>Category</th>\n",
       "      <th>Sub-Category</th>\n",
       "      <th>Product Name</th>\n",
       "      <th>Sales</th>\n",
       "      <th>Quantity</th>\n",
       "      <th>Discount</th>\n",
       "      <th>Profit</th>\n",
       "    </tr>\n",
       "  </thead>\n",
       "  <tbody>\n",
       "    <tr>\n",
       "      <th>0</th>\n",
       "      <td>1</td>\n",
       "      <td>CA-2016-152156</td>\n",
       "      <td>2016-11-08</td>\n",
       "      <td>2016-11-11</td>\n",
       "      <td>Second Class</td>\n",
       "      <td>CG-12520</td>\n",
       "      <td>Claire Gute</td>\n",
       "      <td>Consumer</td>\n",
       "      <td>United States</td>\n",
       "      <td>Henderson</td>\n",
       "      <td>Kentucky</td>\n",
       "      <td>42420</td>\n",
       "      <td>South</td>\n",
       "      <td>FUR-BO-10001798</td>\n",
       "      <td>Furniture</td>\n",
       "      <td>Bookcases</td>\n",
       "      <td>Bush Somerset Collection Bookcase</td>\n",
       "      <td>261.96</td>\n",
       "      <td>2.0</td>\n",
       "      <td>0.0</td>\n",
       "      <td>41.9136</td>\n",
       "    </tr>\n",
       "  </tbody>\n",
       "</table>\n",
       "</div>"
      ],
      "text/plain": [
       "  Row ID        Order ID Order Date  Ship Date     Ship Mode Customer ID Customer Name   Segment        Country       City     State Postal Code Region       Product ID   Category Sub-Category                       Product Name   Sales  Quantity  Discount   Profit\n",
       "0  1      CA-2016-152156 2016-11-08 2016-11-11  Second Class  CG-12520    Claire Gute   Consumer  United States  Henderson  Kentucky  42420       South  FUR-BO-10001798  Furniture  Bookcases    Bush Somerset Collection Bookcase  261.96  2.0       0.0       41.9136"
      ]
     },
     "execution_count": 13,
     "metadata": {},
     "output_type": "execute_result"
    }
   ],
   "source": [
    "df_order.head(1)"
   ]
  },
  {
   "cell_type": "markdown",
   "metadata": {},
   "source": [
    "- 이상치 확인"
   ]
  },
  {
   "cell_type": "code",
   "execution_count": 14,
   "metadata": {},
   "outputs": [
    {
     "data": {
      "text/plain": [
       "<AxesSubplot:xlabel='Sales'>"
      ]
     },
     "execution_count": 14,
     "metadata": {},
     "output_type": "execute_result"
    },
    {
     "data": {
      "image/png": "[encoded data removed]",
      "text/plain": [
       "<Figure size 432x288 with 1 Axes>"
      ]
     },
     "metadata": {
      "needs_background": "light"
     },
     "output_type": "display_data"
    }
   ],
   "source": [
    "sns.boxplot(x=df_order[\"Sales\"])"
   ]
  },
  {
   "cell_type": "markdown",
   "metadata": {},
   "source": [
    "- 총 주문량"
   ]
  },
  {
   "cell_type": "code",
   "execution_count": 15,
   "metadata": {},
   "outputs": [
    {
     "data": {
      "text/plain": [
       "(9994, 21)"
      ]
     },
     "execution_count": 15,
     "metadata": {},
     "output_type": "execute_result"
    }
   ],
   "source": [
    "df_order.shape"
   ]
  },
  {
   "cell_type": "code",
   "execution_count": 16,
   "metadata": {},
   "outputs": [
    {
     "data": {
      "text/plain": [
       "5009"
      ]
     },
     "execution_count": 16,
     "metadata": {},
     "output_type": "execute_result"
    }
   ],
   "source": [
    "df_order[\"Order ID\"].nunique()"
   ]
  },
  {
   "cell_type": "code",
   "execution_count": 17,
   "metadata": {},
   "outputs": [],
   "source": [
    "#df_order[\"Order ID\"].unique().tolist()"
   ]
  },
  {
   "cell_type": "markdown",
   "metadata": {},
   "source": [
    "- 한 주문당 여러 상품이 포함되어있는경우 1개의 중복으로 계산되기 때문에 Order ID기준으로 중복제거"
   ]
  },
  {
   "cell_type": "code",
   "execution_count": null,
   "metadata": {},
   "outputs": [],
   "source": []
  },
  {
   "cell_type": "markdown",
   "metadata": {},
   "source": [
    "- 가장 많은 상품을 구매한 주문번호 확인"
   ]
  },
  {
   "cell_type": "code",
   "execution_count": 18,
   "metadata": {},
   "outputs": [
    {
     "data": {
      "text/plain": [
       "CA-2017-100111    14\n",
       "CA-2017-157987    12\n",
       "CA-2016-165330    11\n",
       "US-2016-108504    11\n",
       "CA-2015-131338    10\n",
       "                  ..\n",
       "CA-2017-108329    1 \n",
       "US-2017-131583    1 \n",
       "CA-2017-164329    1 \n",
       "CA-2017-160983    1 \n",
       "CA-2014-103373    1 \n",
       "Name: Order ID, Length: 5009, dtype: int64"
      ]
     },
     "execution_count": 18,
     "metadata": {},
     "output_type": "execute_result"
    }
   ],
   "source": [
    "df_order[\"Order ID\"].value_counts()"
   ]
  },
  {
   "cell_type": "markdown",
   "metadata": {},
   "source": [
    "- 가장 많은 상품을 구매한 주문번호의 내역 확인"
   ]
  },
  {
   "cell_type": "code",
   "execution_count": 19,
   "metadata": {},
   "outputs": [
    {
     "data": {
      "text/plain": [
       "CA-2017-100111    14\n",
       "CA-2017-157987    12\n",
       "CA-2016-165330    11\n",
       "US-2016-108504    11\n",
       "CA-2015-131338    10\n",
       "                  ..\n",
       "CA-2017-108329    1 \n",
       "US-2017-131583    1 \n",
       "CA-2017-164329    1 \n",
       "CA-2017-160983    1 \n",
       "CA-2014-103373    1 \n",
       "Name: Order ID, Length: 5009, dtype: int64"
      ]
     },
     "execution_count": 19,
     "metadata": {},
     "output_type": "execute_result"
    }
   ],
   "source": [
    "df_order[\"Order ID\"].value_counts()"
   ]
  },
  {
   "cell_type": "code",
   "execution_count": 20,
   "metadata": {},
   "outputs": [
    {
     "data": {
      "text/html": [
       "<div>\n",
       "<style scoped>\n",
       "    .dataframe tbody tr th:only-of-type {\n",
       "        vertical-align: middle;\n",
       "    }\n",
       "\n",
       "    .dataframe tbody tr th {\n",
       "        vertical-align: top;\n",
       "    }\n",
       "\n",
       "    .dataframe thead th {\n",
       "        text-align: right;\n",
       "    }\n",
       "</style>\n",
       "<table border=\"1\" class=\"dataframe\">\n",
       "  <thead>\n",
       "    <tr style=\"text-align: right;\">\n",
       "      <th></th>\n",
       "      <th>Row ID</th>\n",
       "      <th>Order ID</th>\n",
       "      <th>Order Date</th>\n",
       "      <th>Ship Date</th>\n",
       "      <th>Ship Mode</th>\n",
       "      <th>Customer ID</th>\n",
       "      <th>Customer Name</th>\n",
       "      <th>Segment</th>\n",
       "      <th>Country</th>\n",
       "      <th>City</th>\n",
       "      <th>State</th>\n",
       "      <th>Postal Code</th>\n",
       "      <th>Region</th>\n",
       "      <th>Product ID</th>\n",
       "      <th>Category</th>\n",
       "      <th>Sub-Category</th>\n",
       "      <th>Product Name</th>\n",
       "      <th>Sales</th>\n",
       "      <th>Quantity</th>\n",
       "      <th>Discount</th>\n",
       "      <th>Profit</th>\n",
       "    </tr>\n",
       "  </thead>\n",
       "  <tbody>\n",
       "    <tr>\n",
       "      <th>6090</th>\n",
       "      <td>6091</td>\n",
       "      <td>CA-2017-100111</td>\n",
       "      <td>2017-09-20</td>\n",
       "      <td>2017-09-26</td>\n",
       "      <td>Standard Class</td>\n",
       "      <td>SV-20365</td>\n",
       "      <td>Seth Vernon</td>\n",
       "      <td>Consumer</td>\n",
       "      <td>United States</td>\n",
       "      <td>New York City</td>\n",
       "      <td>New York</td>\n",
       "      <td>10035</td>\n",
       "      <td>East</td>\n",
       "      <td>FUR-CH-10003846</td>\n",
       "      <td>Furniture</td>\n",
       "      <td>Chairs</td>\n",
       "      <td>Hon Valutask Swivel Chairs</td>\n",
       "      <td>272.646</td>\n",
       "      <td>3.0</td>\n",
       "      <td>0.1</td>\n",
       "      <td>18.1764</td>\n",
       "    </tr>\n",
       "    <tr>\n",
       "      <th>6091</th>\n",
       "      <td>6092</td>\n",
       "      <td>CA-2017-100111</td>\n",
       "      <td>2017-09-20</td>\n",
       "      <td>2017-09-26</td>\n",
       "      <td>Standard Class</td>\n",
       "      <td>SV-20365</td>\n",
       "      <td>Seth Vernon</td>\n",
       "      <td>Consumer</td>\n",
       "      <td>United States</td>\n",
       "      <td>New York City</td>\n",
       "      <td>New York</td>\n",
       "      <td>10035</td>\n",
       "      <td>East</td>\n",
       "      <td>TEC-AC-10002647</td>\n",
       "      <td>Technology</td>\n",
       "      <td>Accessories</td>\n",
       "      <td>Logitech Wireless Boombox Speaker - portable - wireless, wired</td>\n",
       "      <td>212.800</td>\n",
       "      <td>2.0</td>\n",
       "      <td>0.0</td>\n",
       "      <td>95.7600</td>\n",
       "    </tr>\n",
       "    <tr>\n",
       "      <th>6092</th>\n",
       "      <td>6093</td>\n",
       "      <td>CA-2017-100111</td>\n",
       "      <td>2017-09-20</td>\n",
       "      <td>2017-09-26</td>\n",
       "      <td>Standard Class</td>\n",
       "      <td>SV-20365</td>\n",
       "      <td>Seth Vernon</td>\n",
       "      <td>Consumer</td>\n",
       "      <td>United States</td>\n",
       "      <td>New York City</td>\n",
       "      <td>New York</td>\n",
       "      <td>10035</td>\n",
       "      <td>East</td>\n",
       "      <td>OFF-PA-10000807</td>\n",
       "      <td>Office Supplies</td>\n",
       "      <td>Paper</td>\n",
       "      <td>TOPS \"Important Message\" Pads, Canary, 4-1/4 x 5-1/2, 50 Sheets per Pad</td>\n",
       "      <td>38.520</td>\n",
       "      <td>9.0</td>\n",
       "      <td>0.0</td>\n",
       "      <td>18.1044</td>\n",
       "    </tr>\n",
       "    <tr>\n",
       "      <th>6093</th>\n",
       "      <td>6094</td>\n",
       "      <td>CA-2017-100111</td>\n",
       "      <td>2017-09-20</td>\n",
       "      <td>2017-09-26</td>\n",
       "      <td>Standard Class</td>\n",
       "      <td>SV-20365</td>\n",
       "      <td>Seth Vernon</td>\n",
       "      <td>Consumer</td>\n",
       "      <td>United States</td>\n",
       "      <td>New York City</td>\n",
       "      <td>New York</td>\n",
       "      <td>10035</td>\n",
       "      <td>East</td>\n",
       "      <td>TEC-AC-10001465</td>\n",
       "      <td>Technology</td>\n",
       "      <td>Accessories</td>\n",
       "      <td>SanDisk Cruzer 64 GB USB Flash Drive</td>\n",
       "      <td>72.640</td>\n",
       "      <td>2.0</td>\n",
       "      <td>0.0</td>\n",
       "      <td>21.7920</td>\n",
       "    </tr>\n",
       "    <tr>\n",
       "      <th>6094</th>\n",
       "      <td>6095</td>\n",
       "      <td>CA-2017-100111</td>\n",
       "      <td>2017-09-20</td>\n",
       "      <td>2017-09-26</td>\n",
       "      <td>Standard Class</td>\n",
       "      <td>SV-20365</td>\n",
       "      <td>Seth Vernon</td>\n",
       "      <td>Consumer</td>\n",
       "      <td>United States</td>\n",
       "      <td>New York City</td>\n",
       "      <td>New York</td>\n",
       "      <td>10035</td>\n",
       "      <td>East</td>\n",
       "      <td>OFF-ST-10000615</td>\n",
       "      <td>Office Supplies</td>\n",
       "      <td>Storage</td>\n",
       "      <td>SimpliFile Personal File, Black Granite, 15w x 6-15/16d x 11-1/4h</td>\n",
       "      <td>45.400</td>\n",
       "      <td>4.0</td>\n",
       "      <td>0.0</td>\n",
       "      <td>12.7120</td>\n",
       "    </tr>\n",
       "    <tr>\n",
       "      <th>6095</th>\n",
       "      <td>6096</td>\n",
       "      <td>CA-2017-100111</td>\n",
       "      <td>2017-09-20</td>\n",
       "      <td>2017-09-26</td>\n",
       "      <td>Standard Class</td>\n",
       "      <td>SV-20365</td>\n",
       "      <td>Seth Vernon</td>\n",
       "      <td>Consumer</td>\n",
       "      <td>United States</td>\n",
       "      <td>New York City</td>\n",
       "      <td>New York</td>\n",
       "      <td>10035</td>\n",
       "      <td>East</td>\n",
       "      <td>OFF-PA-10002713</td>\n",
       "      <td>Office Supplies</td>\n",
       "      <td>Paper</td>\n",
       "      <td>Adams Phone Message Book, 200 Message Capacity, 8 1/16” x 11”</td>\n",
       "      <td>13.760</td>\n",
       "      <td>2.0</td>\n",
       "      <td>0.0</td>\n",
       "      <td>6.3296</td>\n",
       "    </tr>\n",
       "    <tr>\n",
       "      <th>6096</th>\n",
       "      <td>6097</td>\n",
       "      <td>CA-2017-100111</td>\n",
       "      <td>2017-09-20</td>\n",
       "      <td>2017-09-26</td>\n",
       "      <td>Standard Class</td>\n",
       "      <td>SV-20365</td>\n",
       "      <td>Seth Vernon</td>\n",
       "      <td>Consumer</td>\n",
       "      <td>United States</td>\n",
       "      <td>New York City</td>\n",
       "      <td>New York</td>\n",
       "      <td>10035</td>\n",
       "      <td>East</td>\n",
       "      <td>FUR-CH-10003061</td>\n",
       "      <td>Furniture</td>\n",
       "      <td>Chairs</td>\n",
       "      <td>Global Leather Task Chair, Black</td>\n",
       "      <td>80.991</td>\n",
       "      <td>1.0</td>\n",
       "      <td>0.1</td>\n",
       "      <td>8.0991</td>\n",
       "    </tr>\n",
       "    <tr>\n",
       "      <th>6097</th>\n",
       "      <td>6098</td>\n",
       "      <td>CA-2017-100111</td>\n",
       "      <td>2017-09-20</td>\n",
       "      <td>2017-09-26</td>\n",
       "      <td>Standard Class</td>\n",
       "      <td>SV-20365</td>\n",
       "      <td>Seth Vernon</td>\n",
       "      <td>Consumer</td>\n",
       "      <td>United States</td>\n",
       "      <td>New York City</td>\n",
       "      <td>New York</td>\n",
       "      <td>10035</td>\n",
       "      <td>East</td>\n",
       "      <td>OFF-BI-10000343</td>\n",
       "      <td>Office Supplies</td>\n",
       "      <td>Binders</td>\n",
       "      <td>Pressboard Covers with Storage Hooks, 9 1/2\" x 11\", Light Blue</td>\n",
       "      <td>11.784</td>\n",
       "      <td>3.0</td>\n",
       "      <td>0.2</td>\n",
       "      <td>3.9771</td>\n",
       "    </tr>\n",
       "    <tr>\n",
       "      <th>6098</th>\n",
       "      <td>6099</td>\n",
       "      <td>CA-2017-100111</td>\n",
       "      <td>2017-09-20</td>\n",
       "      <td>2017-09-26</td>\n",
       "      <td>Standard Class</td>\n",
       "      <td>SV-20365</td>\n",
       "      <td>Seth Vernon</td>\n",
       "      <td>Consumer</td>\n",
       "      <td>United States</td>\n",
       "      <td>New York City</td>\n",
       "      <td>New York</td>\n",
       "      <td>10035</td>\n",
       "      <td>East</td>\n",
       "      <td>OFF-FA-10000304</td>\n",
       "      <td>Office Supplies</td>\n",
       "      <td>Fasteners</td>\n",
       "      <td>Advantus Push Pins</td>\n",
       "      <td>4.360</td>\n",
       "      <td>2.0</td>\n",
       "      <td>0.0</td>\n",
       "      <td>1.7876</td>\n",
       "    </tr>\n",
       "    <tr>\n",
       "      <th>6099</th>\n",
       "      <td>6100</td>\n",
       "      <td>CA-2017-100111</td>\n",
       "      <td>2017-09-20</td>\n",
       "      <td>2017-09-26</td>\n",
       "      <td>Standard Class</td>\n",
       "      <td>SV-20365</td>\n",
       "      <td>Seth Vernon</td>\n",
       "      <td>Consumer</td>\n",
       "      <td>United States</td>\n",
       "      <td>New York City</td>\n",
       "      <td>New York</td>\n",
       "      <td>10035</td>\n",
       "      <td>East</td>\n",
       "      <td>FUR-CH-10004086</td>\n",
       "      <td>Furniture</td>\n",
       "      <td>Chairs</td>\n",
       "      <td>Hon 4070 Series Pagoda Armless Upholstered Stacking Chairs</td>\n",
       "      <td>2888.127</td>\n",
       "      <td>11.0</td>\n",
       "      <td>0.1</td>\n",
       "      <td>609.7157</td>\n",
       "    </tr>\n",
       "    <tr>\n",
       "      <th>6100</th>\n",
       "      <td>6101</td>\n",
       "      <td>CA-2017-100111</td>\n",
       "      <td>2017-09-20</td>\n",
       "      <td>2017-09-26</td>\n",
       "      <td>Standard Class</td>\n",
       "      <td>SV-20365</td>\n",
       "      <td>Seth Vernon</td>\n",
       "      <td>Consumer</td>\n",
       "      <td>United States</td>\n",
       "      <td>New York City</td>\n",
       "      <td>New York</td>\n",
       "      <td>10035</td>\n",
       "      <td>East</td>\n",
       "      <td>TEC-PH-10002885</td>\n",
       "      <td>Technology</td>\n",
       "      <td>Phones</td>\n",
       "      <td>Apple iPhone 5</td>\n",
       "      <td>1299.660</td>\n",
       "      <td>2.0</td>\n",
       "      <td>0.0</td>\n",
       "      <td>350.9082</td>\n",
       "    </tr>\n",
       "    <tr>\n",
       "      <th>6101</th>\n",
       "      <td>6102</td>\n",
       "      <td>CA-2017-100111</td>\n",
       "      <td>2017-09-20</td>\n",
       "      <td>2017-09-26</td>\n",
       "      <td>Standard Class</td>\n",
       "      <td>SV-20365</td>\n",
       "      <td>Seth Vernon</td>\n",
       "      <td>Consumer</td>\n",
       "      <td>United States</td>\n",
       "      <td>New York City</td>\n",
       "      <td>New York</td>\n",
       "      <td>10035</td>\n",
       "      <td>East</td>\n",
       "      <td>FUR-CH-10001215</td>\n",
       "      <td>Furniture</td>\n",
       "      <td>Chairs</td>\n",
       "      <td>Global Troy Executive Leather Low-Back Tilter</td>\n",
       "      <td>2254.410</td>\n",
       "      <td>5.0</td>\n",
       "      <td>0.1</td>\n",
       "      <td>375.7350</td>\n",
       "    </tr>\n",
       "    <tr>\n",
       "      <th>6102</th>\n",
       "      <td>6103</td>\n",
       "      <td>CA-2017-100111</td>\n",
       "      <td>2017-09-20</td>\n",
       "      <td>2017-09-26</td>\n",
       "      <td>Standard Class</td>\n",
       "      <td>SV-20365</td>\n",
       "      <td>Seth Vernon</td>\n",
       "      <td>Consumer</td>\n",
       "      <td>United States</td>\n",
       "      <td>New York City</td>\n",
       "      <td>New York</td>\n",
       "      <td>10035</td>\n",
       "      <td>East</td>\n",
       "      <td>TEC-PH-10000215</td>\n",
       "      <td>Technology</td>\n",
       "      <td>Phones</td>\n",
       "      <td>Plantronics Cordless Phone Headset with In-line Volume - M214C</td>\n",
       "      <td>104.850</td>\n",
       "      <td>3.0</td>\n",
       "      <td>0.0</td>\n",
       "      <td>28.3095</td>\n",
       "    </tr>\n",
       "    <tr>\n",
       "      <th>6103</th>\n",
       "      <td>6104</td>\n",
       "      <td>CA-2017-100111</td>\n",
       "      <td>2017-09-20</td>\n",
       "      <td>2017-09-26</td>\n",
       "      <td>Standard Class</td>\n",
       "      <td>SV-20365</td>\n",
       "      <td>Seth Vernon</td>\n",
       "      <td>Consumer</td>\n",
       "      <td>United States</td>\n",
       "      <td>New York City</td>\n",
       "      <td>New York</td>\n",
       "      <td>10035</td>\n",
       "      <td>East</td>\n",
       "      <td>TEC-AC-10001998</td>\n",
       "      <td>Technology</td>\n",
       "      <td>Accessories</td>\n",
       "      <td>Logitech LS21 Speaker System - PC Multimedia - 2.1-CH - Wired</td>\n",
       "      <td>59.970</td>\n",
       "      <td>3.0</td>\n",
       "      <td>0.0</td>\n",
       "      <td>20.3898</td>\n",
       "    </tr>\n",
       "  </tbody>\n",
       "</table>\n",
       "</div>"
      ],
      "text/plain": [
       "     Row ID        Order ID Order Date  Ship Date       Ship Mode Customer ID Customer Name   Segment        Country           City     State Postal Code Region       Product ID         Category Sub-Category                                                             Product Name     Sales  Quantity  Discount    Profit\n",
       "6090  6091   CA-2017-100111 2017-09-20 2017-09-26  Standard Class  SV-20365    Seth Vernon   Consumer  United States  New York City  New York  10035       East   FUR-CH-10003846  Furniture        Chairs       Hon Valutask Swivel Chairs                                               272.646   3.0       0.1       18.1764 \n",
       "6091  6092   CA-2017-100111 2017-09-20 2017-09-26  Standard Class  SV-20365    Seth Vernon   Consumer  United States  New York City  New York  10035       East   TEC-AC-10002647  Technology       Accessories  Logitech Wireless Boombox Speaker - portable - wireless, wired           212.800   2.0       0.0       95.7600 \n",
       "6092  6093   CA-2017-100111 2017-09-20 2017-09-26  Standard Class  SV-20365    Seth Vernon   Consumer  United States  New York City  New York  10035       East   OFF-PA-10000807  Office Supplies  Paper        TOPS \"Important Message\" Pads, Canary, 4-1/4 x 5-1/2, 50 Sheets per Pad  38.520    9.0       0.0       18.1044 \n",
       "6093  6094   CA-2017-100111 2017-09-20 2017-09-26  Standard Class  SV-20365    Seth Vernon   Consumer  United States  New York City  New York  10035       East   TEC-AC-10001465  Technology       Accessories  SanDisk Cruzer 64 GB USB Flash Drive                                     72.640    2.0       0.0       21.7920 \n",
       "6094  6095   CA-2017-100111 2017-09-20 2017-09-26  Standard Class  SV-20365    Seth Vernon   Consumer  United States  New York City  New York  10035       East   OFF-ST-10000615  Office Supplies  Storage      SimpliFile Personal File, Black Granite, 15w x 6-15/16d x 11-1/4h        45.400    4.0       0.0       12.7120 \n",
       "6095  6096   CA-2017-100111 2017-09-20 2017-09-26  Standard Class  SV-20365    Seth Vernon   Consumer  United States  New York City  New York  10035       East   OFF-PA-10002713  Office Supplies  Paper        Adams Phone Message Book, 200 Message Capacity, 8 1/16” x 11”            13.760    2.0       0.0       6.3296  \n",
       "6096  6097   CA-2017-100111 2017-09-20 2017-09-26  Standard Class  SV-20365    Seth Vernon   Consumer  United States  New York City  New York  10035       East   FUR-CH-10003061  Furniture        Chairs       Global Leather Task Chair, Black                                         80.991    1.0       0.1       8.0991  \n",
       "6097  6098   CA-2017-100111 2017-09-20 2017-09-26  Standard Class  SV-20365    Seth Vernon   Consumer  United States  New York City  New York  10035       East   OFF-BI-10000343  Office Supplies  Binders      Pressboard Covers with Storage Hooks, 9 1/2\" x 11\", Light Blue           11.784    3.0       0.2       3.9771  \n",
       "6098  6099   CA-2017-100111 2017-09-20 2017-09-26  Standard Class  SV-20365    Seth Vernon   Consumer  United States  New York City  New York  10035       East   OFF-FA-10000304  Office Supplies  Fasteners    Advantus Push Pins                                                       4.360     2.0       0.0       1.7876  \n",
       "6099  6100   CA-2017-100111 2017-09-20 2017-09-26  Standard Class  SV-20365    Seth Vernon   Consumer  United States  New York City  New York  10035       East   FUR-CH-10004086  Furniture        Chairs       Hon 4070 Series Pagoda Armless Upholstered Stacking Chairs               2888.127  11.0      0.1       609.7157\n",
       "6100  6101   CA-2017-100111 2017-09-20 2017-09-26  Standard Class  SV-20365    Seth Vernon   Consumer  United States  New York City  New York  10035       East   TEC-PH-10002885  Technology       Phones       Apple iPhone 5                                                           1299.660  2.0       0.0       350.9082\n",
       "6101  6102   CA-2017-100111 2017-09-20 2017-09-26  Standard Class  SV-20365    Seth Vernon   Consumer  United States  New York City  New York  10035       East   FUR-CH-10001215  Furniture        Chairs       Global Troy Executive Leather Low-Back Tilter                            2254.410  5.0       0.1       375.7350\n",
       "6102  6103   CA-2017-100111 2017-09-20 2017-09-26  Standard Class  SV-20365    Seth Vernon   Consumer  United States  New York City  New York  10035       East   TEC-PH-10000215  Technology       Phones       Plantronics Cordless Phone Headset with In-line Volume - M214C           104.850   3.0       0.0       28.3095 \n",
       "6103  6104   CA-2017-100111 2017-09-20 2017-09-26  Standard Class  SV-20365    Seth Vernon   Consumer  United States  New York City  New York  10035       East   TEC-AC-10001998  Technology       Accessories  Logitech LS21 Speaker System - PC Multimedia - 2.1-CH - Wired            59.970    3.0       0.0       20.3898 "
      ]
     },
     "execution_count": 20,
     "metadata": {},
     "output_type": "execute_result"
    }
   ],
   "source": [
    "df_order[df_order[\"Order ID\"]==\"CA-2017-100111\"]"
   ]
  },
  {
   "cell_type": "markdown",
   "metadata": {},
   "source": [
    "- 카테고리변수 확인"
   ]
  },
  {
   "cell_type": "code",
   "execution_count": 21,
   "metadata": {},
   "outputs": [
    {
     "data": {
      "text/plain": [
       "Standard Class    5968\n",
       "Second Class      1945\n",
       "First Class       1538\n",
       "Same Day          543 \n",
       "Name: Ship Mode, dtype: int64"
      ]
     },
     "execution_count": 21,
     "metadata": {},
     "output_type": "execute_result"
    }
   ],
   "source": [
    "df_order[\"Ship Mode\"].value_counts()"
   ]
  },
  {
   "cell_type": "code",
   "execution_count": 22,
   "metadata": {},
   "outputs": [
    {
     "data": {
      "text/plain": [
       "<AxesSubplot:xlabel='count', ylabel='Ship Mode'>"
      ]
     },
     "execution_count": 22,
     "metadata": {},
     "output_type": "execute_result"
    },
    {
     "data": {
      "image/png": "[encoded data removed]",
      "text/plain": [
       "<Figure size 432x288 with 1 Axes>"
      ]
     },
     "metadata": {
      "needs_background": "light"
     },
     "output_type": "display_data"
    }
   ],
   "source": [
    "sns.countplot(y=\"Ship Mode\", data=df_order)"
   ]
  },
  {
   "cell_type": "markdown",
   "metadata": {},
   "source": [
    "- 주문을 많이 한 고객"
   ]
  },
  {
   "cell_type": "code",
   "execution_count": 23,
   "metadata": {},
   "outputs": [
    {
     "data": {
      "text/plain": [
       "EP-13915    17\n",
       "NS-18640    13\n",
       "EA-14035    13\n",
       "PG-18820    13\n",
       "SH-19975    13\n",
       "            ..\n",
       "PH-18790    1 \n",
       "MG-18205    1 \n",
       "CJ-11875    1 \n",
       "JR-15700    1 \n",
       "SM-20905    1 \n",
       "Name: Customer ID, Length: 793, dtype: int64"
      ]
     },
     "execution_count": 23,
     "metadata": {},
     "output_type": "execute_result"
    }
   ],
   "source": [
    "df_order.drop_duplicates(subset=[\"Order ID\"])[\"Customer ID\"].value_counts()"
   ]
  },
  {
   "cell_type": "markdown",
   "metadata": {},
   "source": [
    "- 고객 집단 확인"
   ]
  },
  {
   "cell_type": "code",
   "execution_count": 24,
   "metadata": {},
   "outputs": [
    {
     "data": {
      "text/plain": [
       "Consumer       5191\n",
       "Corporate      3020\n",
       "Home Office    1783\n",
       "Name: Segment, dtype: int64"
      ]
     },
     "execution_count": 24,
     "metadata": {},
     "output_type": "execute_result"
    }
   ],
   "source": [
    "df_order[\"Segment\"].value_counts()"
   ]
  },
  {
   "cell_type": "markdown",
   "metadata": {},
   "source": [
    "- 배송국 빈도 확인"
   ]
  },
  {
   "cell_type": "code",
   "execution_count": 25,
   "metadata": {},
   "outputs": [
    {
     "data": {
      "text/plain": [
       "United States    9994\n",
       "Name: Country, dtype: int64"
      ]
     },
     "execution_count": 25,
     "metadata": {},
     "output_type": "execute_result"
    }
   ],
   "source": [
    "df_order[\"Country\"].value_counts()"
   ]
  },
  {
   "cell_type": "markdown",
   "metadata": {},
   "source": [
    "- 배송지 주(State) 확인"
   ]
  },
  {
   "cell_type": "code",
   "execution_count": 26,
   "metadata": {},
   "outputs": [
    {
     "data": {
      "text/plain": [
       "California              2001\n",
       "New York                1128\n",
       "Texas                   985 \n",
       "Pennsylvania            587 \n",
       "Washington              506 \n",
       "Illinois                492 \n",
       "Ohio                    469 \n",
       "Florida                 383 \n",
       "Michigan                255 \n",
       "North Carolina          249 \n",
       "Arizona                 224 \n",
       "Virginia                224 \n",
       "Georgia                 184 \n",
       "Tennessee               183 \n",
       "Colorado                182 \n",
       "Indiana                 149 \n",
       "Kentucky                139 \n",
       "Massachusetts           135 \n",
       "New Jersey              130 \n",
       "Oregon                  124 \n",
       "Wisconsin               110 \n",
       "Maryland                105 \n",
       "Delaware                96  \n",
       "Minnesota               89  \n",
       "Connecticut             82  \n",
       "Missouri                66  \n",
       "Oklahoma                66  \n",
       "Alabama                 61  \n",
       "Arkansas                60  \n",
       "Rhode Island            56  \n",
       "Mississippi             53  \n",
       "Utah                    53  \n",
       "South Carolina          42  \n",
       "Louisiana               42  \n",
       "Nevada                  39  \n",
       "Nebraska                38  \n",
       "New Mexico              37  \n",
       "Iowa                    30  \n",
       "New Hampshire           27  \n",
       "Kansas                  24  \n",
       "Idaho                   21  \n",
       "Montana                 15  \n",
       "South Dakota            12  \n",
       "Vermont                 11  \n",
       "District of Columbia    10  \n",
       "Maine                   8   \n",
       "North Dakota            7   \n",
       "West Virginia           4   \n",
       "Wyoming                 1   \n",
       "Name: State, dtype: int64"
      ]
     },
     "execution_count": 26,
     "metadata": {},
     "output_type": "execute_result"
    }
   ],
   "source": [
    "df_order[\"State\"].value_counts()"
   ]
  },
  {
   "cell_type": "markdown",
   "metadata": {},
   "source": [
    "- 배송지 중 California내의 도시 빈도 확인"
   ]
  },
  {
   "cell_type": "code",
   "execution_count": 27,
   "metadata": {},
   "outputs": [
    {
     "data": {
      "text/plain": [
       "Los Angeles         747\n",
       "San Francisco       510\n",
       "San Diego           170\n",
       "San Jose            42 \n",
       "Long Beach          27 \n",
       "Anaheim             27 \n",
       "Fresno              26 \n",
       "Oakland             26 \n",
       "Pasadena            25 \n",
       "Westminster         17 \n",
       "Bakersfield         16 \n",
       "Brentwood           16 \n",
       "Redlands            16 \n",
       "Inglewood           16 \n",
       "Riverside           14 \n",
       "Santa Ana           14 \n",
       "Roseville           14 \n",
       "Sacramento          13 \n",
       "Costa Mesa          11 \n",
       "Chico               11 \n",
       "Moreno Valley       10 \n",
       "San Bernardino      9  \n",
       "Fairfield           9  \n",
       "Oxnard              9  \n",
       "Santa Barbara       8  \n",
       "Salinas             8  \n",
       "Concord             8  \n",
       "Oceanside           8  \n",
       "Redondo Beach       8  \n",
       "Lakewood            8  \n",
       "Pomona              7  \n",
       "Apple Valley        7  \n",
       "Sunnyvale           6  \n",
       "Vallejo             6  \n",
       "Stockton            6  \n",
       "Lake Forest         6  \n",
       "Santa Clara         6  \n",
       "Danville            6  \n",
       "Huntington Beach    6  \n",
       "Mission Viejo       5  \n",
       "Encinitas           5  \n",
       "Lancaster           5  \n",
       "Camarillo           5  \n",
       "Thousand Oaks       5  \n",
       "Temecula            4  \n",
       "Hesperia            4  \n",
       "Torrance            4  \n",
       "Visalia             4  \n",
       "Morgan Hill         4  \n",
       "Rancho Cucamonga    4  \n",
       "Laguna Niguel       4  \n",
       "Escondido           3  \n",
       "Manteca             3  \n",
       "Modesto             3  \n",
       "Burbank             3  \n",
       "Chula Vista         3  \n",
       "Woodland            3  \n",
       "San Gabriel         3  \n",
       "San Clemente        2  \n",
       "La Mesa             2  \n",
       "Lodi                2  \n",
       "Coachella           2  \n",
       "El Cajon            2  \n",
       "Redwood City        1  \n",
       "Ontario             1  \n",
       "Vacaville           1  \n",
       "Yucaipa             1  \n",
       "Murrieta            1  \n",
       "San Luis Obispo     1  \n",
       "Redding             1  \n",
       "La Quinta           1  \n",
       "Whittier            1  \n",
       "Davis               1  \n",
       "Dublin              1  \n",
       "Montebello          1  \n",
       "San Mateo           1  \n",
       "Antioch             1  \n",
       "Citrus Heights      1  \n",
       "Lake Elsinore       1  \n",
       "Santa Maria         1  \n",
       "Pico Rivera         1  \n",
       "Name: City, dtype: int64"
      ]
     },
     "execution_count": 27,
     "metadata": {},
     "output_type": "execute_result"
    }
   ],
   "source": [
    "df_order[df_order[\"State\"]==\"California\"][\"City\"].value_counts()"
   ]
  },
  {
   "cell_type": "markdown",
   "metadata": {},
   "source": [
    "- 배송지 중 중복을 제거한 도시의 개수"
   ]
  },
  {
   "cell_type": "code",
   "execution_count": 28,
   "metadata": {},
   "outputs": [
    {
     "data": {
      "text/plain": [
       "531"
      ]
     },
     "execution_count": 28,
     "metadata": {},
     "output_type": "execute_result"
    }
   ],
   "source": [
    "df_order[\"City\"].nunique() # nunique : NaN값 무시"
   ]
  },
  {
   "cell_type": "code",
   "execution_count": 29,
   "metadata": {},
   "outputs": [
    {
     "data": {
      "text/plain": [
       "(604, 21)"
      ]
     },
     "execution_count": 29,
     "metadata": {},
     "output_type": "execute_result"
    }
   ],
   "source": [
    "df_order.drop_duplicates(subset=[\"State\",\"City\"]).shape"
   ]
  },
  {
   "cell_type": "code",
   "execution_count": 30,
   "metadata": {},
   "outputs": [
    {
     "data": {
      "text/plain": [
       "Columbia           4\n",
       "Springfield        4\n",
       "Burlington         3\n",
       "Franklin           3\n",
       "Lakewood           3\n",
       "                  ..\n",
       "Charlottesville    1\n",
       "Conroe             1\n",
       "Santa Barbara      1\n",
       "Missoula           1\n",
       "Palatine           1\n",
       "Name: City, Length: 531, dtype: int64"
      ]
     },
     "execution_count": 30,
     "metadata": {},
     "output_type": "execute_result"
    }
   ],
   "source": [
    "df_order.drop_duplicates(subset=[\"State\",\"City\"])[\"City\"].value_counts()"
   ]
  },
  {
   "cell_type": "code",
   "execution_count": 31,
   "metadata": {},
   "outputs": [
    {
     "data": {
      "text/plain": [
       "South Carolina    30\n",
       "Maryland          23\n",
       "Tennessee         18\n",
       "Missouri          10\n",
       "Name: State, dtype: int64"
      ]
     },
     "execution_count": 31,
     "metadata": {},
     "output_type": "execute_result"
    }
   ],
   "source": [
    "df_order[df_order[\"City\"]==\"Columbia\"][\"State\"].value_counts()"
   ]
  },
  {
   "cell_type": "markdown",
   "metadata": {},
   "source": [
    "- 가장 판매량이 많은 제품 확인"
   ]
  },
  {
   "cell_type": "code",
   "execution_count": 32,
   "metadata": {},
   "outputs": [
    {
     "data": {
      "text/plain": [
       "Staple envelope                                                                        48\n",
       "Easy-staple paper                                                                      46\n",
       "Staples                                                                                46\n",
       "Avery Non-Stick Binders                                                                20\n",
       "Staples in misc. colors                                                                19\n",
       "                                                                                       ..\n",
       "Global Enterprise Series Seating Low-Back Swivel/Tilt Chairs                           1 \n",
       "Xerox 20                                                                               1 \n",
       "Bush Saratoga Collection 5-Shelf Bookcase, Hanover Cherry, *Special Order              1 \n",
       "Hewlett-Packard Deskjet F4180 All-in-One Color Ink-jet - Printer / copier / scanner    1 \n",
       "Konica Minolta magicolor 1690MF Multifunction Printer                                  1 \n",
       "Name: Product Name, Length: 1850, dtype: int64"
      ]
     },
     "execution_count": 32,
     "metadata": {},
     "output_type": "execute_result"
    }
   ],
   "source": [
    "df_order[\"Product Name\"].value_counts()"
   ]
  },
  {
   "cell_type": "markdown",
   "metadata": {},
   "source": [
    "# 변수변환"
   ]
  },
  {
   "cell_type": "markdown",
   "metadata": {},
   "source": [
    "- 품목당 판매가격"
   ]
  },
  {
   "cell_type": "code",
   "execution_count": 33,
   "metadata": {},
   "outputs": [],
   "source": [
    "df_order[\"Profit_div_Quantity\"] = df_order[\"Profit\"] / df_order[\"Quantity\"]"
   ]
  },
  {
   "cell_type": "code",
   "execution_count": 34,
   "metadata": {},
   "outputs": [
    {
     "data": {
      "text/html": [
       "<div>\n",
       "<style scoped>\n",
       "    .dataframe tbody tr th:only-of-type {\n",
       "        vertical-align: middle;\n",
       "    }\n",
       "\n",
       "    .dataframe tbody tr th {\n",
       "        vertical-align: top;\n",
       "    }\n",
       "\n",
       "    .dataframe thead th {\n",
       "        text-align: right;\n",
       "    }\n",
       "</style>\n",
       "<table border=\"1\" class=\"dataframe\">\n",
       "  <thead>\n",
       "    <tr style=\"text-align: right;\">\n",
       "      <th></th>\n",
       "      <th>Profit</th>\n",
       "      <th>Quantity</th>\n",
       "      <th>Profit_div_Quantity</th>\n",
       "    </tr>\n",
       "  </thead>\n",
       "  <tbody>\n",
       "    <tr>\n",
       "      <th>0</th>\n",
       "      <td>41.9136</td>\n",
       "      <td>2.0</td>\n",
       "      <td>20.9568</td>\n",
       "    </tr>\n",
       "    <tr>\n",
       "      <th>1</th>\n",
       "      <td>219.5820</td>\n",
       "      <td>3.0</td>\n",
       "      <td>73.1940</td>\n",
       "    </tr>\n",
       "    <tr>\n",
       "      <th>2</th>\n",
       "      <td>6.8714</td>\n",
       "      <td>2.0</td>\n",
       "      <td>3.4357</td>\n",
       "    </tr>\n",
       "    <tr>\n",
       "      <th>3</th>\n",
       "      <td>-383.0310</td>\n",
       "      <td>5.0</td>\n",
       "      <td>-76.6062</td>\n",
       "    </tr>\n",
       "    <tr>\n",
       "      <th>4</th>\n",
       "      <td>2.5164</td>\n",
       "      <td>2.0</td>\n",
       "      <td>1.2582</td>\n",
       "    </tr>\n",
       "    <tr>\n",
       "      <th>...</th>\n",
       "      <td>...</td>\n",
       "      <td>...</td>\n",
       "      <td>...</td>\n",
       "    </tr>\n",
       "    <tr>\n",
       "      <th>9989</th>\n",
       "      <td>4.1028</td>\n",
       "      <td>3.0</td>\n",
       "      <td>1.3676</td>\n",
       "    </tr>\n",
       "    <tr>\n",
       "      <th>9990</th>\n",
       "      <td>15.6332</td>\n",
       "      <td>2.0</td>\n",
       "      <td>7.8166</td>\n",
       "    </tr>\n",
       "    <tr>\n",
       "      <th>9991</th>\n",
       "      <td>19.3932</td>\n",
       "      <td>2.0</td>\n",
       "      <td>9.6966</td>\n",
       "    </tr>\n",
       "    <tr>\n",
       "      <th>9992</th>\n",
       "      <td>13.3200</td>\n",
       "      <td>4.0</td>\n",
       "      <td>3.3300</td>\n",
       "    </tr>\n",
       "    <tr>\n",
       "      <th>9993</th>\n",
       "      <td>72.9480</td>\n",
       "      <td>2.0</td>\n",
       "      <td>36.4740</td>\n",
       "    </tr>\n",
       "  </tbody>\n",
       "</table>\n",
       "<p>9994 rows × 3 columns</p>\n",
       "</div>"
      ],
      "text/plain": [
       "        Profit  Quantity  Profit_div_Quantity\n",
       "0     41.9136   2.0       20.9568            \n",
       "1     219.5820  3.0       73.1940            \n",
       "2     6.8714    2.0       3.4357             \n",
       "3    -383.0310  5.0      -76.6062            \n",
       "4     2.5164    2.0       1.2582             \n",
       "...      ...    ...          ...             \n",
       "9989  4.1028    3.0       1.3676             \n",
       "9990  15.6332   2.0       7.8166             \n",
       "9991  19.3932   2.0       9.6966             \n",
       "9992  13.3200   4.0       3.3300             \n",
       "9993  72.9480   2.0       36.4740            \n",
       "\n",
       "[9994 rows x 3 columns]"
      ]
     },
     "execution_count": 34,
     "metadata": {},
     "output_type": "execute_result"
    }
   ],
   "source": [
    "df_order[[\"Profit\",\"Quantity\",\"Profit_div_Quantity\"]]"
   ]
  },
  {
   "cell_type": "markdown",
   "metadata": {},
   "source": [
    "- 할인율이 젹옹된 판매가"
   ]
  },
  {
   "cell_type": "code",
   "execution_count": 35,
   "metadata": {},
   "outputs": [],
   "source": [
    "df_order[\"Discount_apply_Sales\"] = df_order[\"Sales\"] - (df_order[\"Discount\"] *df_order[\"Sales\"])"
   ]
  },
  {
   "cell_type": "code",
   "execution_count": 36,
   "metadata": {},
   "outputs": [
    {
     "data": {
      "text/html": [
       "<div>\n",
       "<style scoped>\n",
       "    .dataframe tbody tr th:only-of-type {\n",
       "        vertical-align: middle;\n",
       "    }\n",
       "\n",
       "    .dataframe tbody tr th {\n",
       "        vertical-align: top;\n",
       "    }\n",
       "\n",
       "    .dataframe thead th {\n",
       "        text-align: right;\n",
       "    }\n",
       "</style>\n",
       "<table border=\"1\" class=\"dataframe\">\n",
       "  <thead>\n",
       "    <tr style=\"text-align: right;\">\n",
       "      <th></th>\n",
       "      <th>Row ID</th>\n",
       "      <th>Order ID</th>\n",
       "      <th>Order Date</th>\n",
       "      <th>Ship Date</th>\n",
       "      <th>Ship Mode</th>\n",
       "      <th>Customer ID</th>\n",
       "      <th>Customer Name</th>\n",
       "      <th>Segment</th>\n",
       "      <th>Country</th>\n",
       "      <th>City</th>\n",
       "      <th>State</th>\n",
       "      <th>Postal Code</th>\n",
       "      <th>Region</th>\n",
       "      <th>Product ID</th>\n",
       "      <th>Category</th>\n",
       "      <th>Sub-Category</th>\n",
       "      <th>Product Name</th>\n",
       "      <th>Sales</th>\n",
       "      <th>Quantity</th>\n",
       "      <th>Discount</th>\n",
       "      <th>Profit</th>\n",
       "      <th>Profit_div_Quantity</th>\n",
       "      <th>Discount_apply_Sales</th>\n",
       "    </tr>\n",
       "  </thead>\n",
       "  <tbody>\n",
       "    <tr>\n",
       "      <th>0</th>\n",
       "      <td>1</td>\n",
       "      <td>CA-2016-152156</td>\n",
       "      <td>2016-11-08</td>\n",
       "      <td>2016-11-11</td>\n",
       "      <td>Second Class</td>\n",
       "      <td>CG-12520</td>\n",
       "      <td>Claire Gute</td>\n",
       "      <td>Consumer</td>\n",
       "      <td>United States</td>\n",
       "      <td>Henderson</td>\n",
       "      <td>Kentucky</td>\n",
       "      <td>42420</td>\n",
       "      <td>South</td>\n",
       "      <td>FUR-BO-10001798</td>\n",
       "      <td>Furniture</td>\n",
       "      <td>Bookcases</td>\n",
       "      <td>Bush Somerset Collection Bookcase</td>\n",
       "      <td>261.96</td>\n",
       "      <td>2.0</td>\n",
       "      <td>0.0</td>\n",
       "      <td>41.9136</td>\n",
       "      <td>20.9568</td>\n",
       "      <td>261.96</td>\n",
       "    </tr>\n",
       "  </tbody>\n",
       "</table>\n",
       "</div>"
      ],
      "text/plain": [
       "  Row ID        Order ID Order Date  Ship Date     Ship Mode Customer ID Customer Name   Segment        Country       City     State Postal Code Region       Product ID   Category Sub-Category                       Product Name   Sales  Quantity  Discount   Profit  Profit_div_Quantity  Discount_apply_Sales\n",
       "0  1      CA-2016-152156 2016-11-08 2016-11-11  Second Class  CG-12520    Claire Gute   Consumer  United States  Henderson  Kentucky  42420       South  FUR-BO-10001798  Furniture  Bookcases    Bush Somerset Collection Bookcase  261.96  2.0       0.0       41.9136  20.9568              261.96              "
      ]
     },
     "execution_count": 36,
     "metadata": {},
     "output_type": "execute_result"
    }
   ],
   "source": [
    "df_order[:1]"
   ]
  },
  {
   "cell_type": "markdown",
   "metadata": {},
   "source": [
    "- 총 배송일 계산"
   ]
  },
  {
   "cell_type": "code",
   "execution_count": 37,
   "metadata": {},
   "outputs": [],
   "source": [
    "df_order[\"During Date\"] = df_order[[\"Ship Date\",\"Order Date\"]].apply(lambda row: (row[0]-row[1]).days, axis=1)"
   ]
  },
  {
   "cell_type": "code",
   "execution_count": 38,
   "metadata": {},
   "outputs": [
    {
     "data": {
      "text/html": [
       "<div>\n",
       "<style scoped>\n",
       "    .dataframe tbody tr th:only-of-type {\n",
       "        vertical-align: middle;\n",
       "    }\n",
       "\n",
       "    .dataframe tbody tr th {\n",
       "        vertical-align: top;\n",
       "    }\n",
       "\n",
       "    .dataframe thead th {\n",
       "        text-align: right;\n",
       "    }\n",
       "</style>\n",
       "<table border=\"1\" class=\"dataframe\">\n",
       "  <thead>\n",
       "    <tr style=\"text-align: right;\">\n",
       "      <th></th>\n",
       "      <th>Ship Date</th>\n",
       "      <th>Order Date</th>\n",
       "      <th>During Date</th>\n",
       "    </tr>\n",
       "  </thead>\n",
       "  <tbody>\n",
       "    <tr>\n",
       "      <th>0</th>\n",
       "      <td>2016-11-11</td>\n",
       "      <td>2016-11-08</td>\n",
       "      <td>3</td>\n",
       "    </tr>\n",
       "    <tr>\n",
       "      <th>1</th>\n",
       "      <td>2016-11-11</td>\n",
       "      <td>2016-11-08</td>\n",
       "      <td>3</td>\n",
       "    </tr>\n",
       "    <tr>\n",
       "      <th>2</th>\n",
       "      <td>2016-06-16</td>\n",
       "      <td>2016-06-12</td>\n",
       "      <td>4</td>\n",
       "    </tr>\n",
       "    <tr>\n",
       "      <th>3</th>\n",
       "      <td>2015-10-18</td>\n",
       "      <td>2015-10-11</td>\n",
       "      <td>7</td>\n",
       "    </tr>\n",
       "    <tr>\n",
       "      <th>4</th>\n",
       "      <td>2015-10-18</td>\n",
       "      <td>2015-10-11</td>\n",
       "      <td>7</td>\n",
       "    </tr>\n",
       "    <tr>\n",
       "      <th>...</th>\n",
       "      <td>...</td>\n",
       "      <td>...</td>\n",
       "      <td>...</td>\n",
       "    </tr>\n",
       "    <tr>\n",
       "      <th>9989</th>\n",
       "      <td>2014-01-23</td>\n",
       "      <td>2014-01-21</td>\n",
       "      <td>2</td>\n",
       "    </tr>\n",
       "    <tr>\n",
       "      <th>9990</th>\n",
       "      <td>2017-03-03</td>\n",
       "      <td>2017-02-26</td>\n",
       "      <td>5</td>\n",
       "    </tr>\n",
       "    <tr>\n",
       "      <th>9991</th>\n",
       "      <td>2017-03-03</td>\n",
       "      <td>2017-02-26</td>\n",
       "      <td>5</td>\n",
       "    </tr>\n",
       "    <tr>\n",
       "      <th>9992</th>\n",
       "      <td>2017-03-03</td>\n",
       "      <td>2017-02-26</td>\n",
       "      <td>5</td>\n",
       "    </tr>\n",
       "    <tr>\n",
       "      <th>9993</th>\n",
       "      <td>2017-05-09</td>\n",
       "      <td>2017-05-04</td>\n",
       "      <td>5</td>\n",
       "    </tr>\n",
       "  </tbody>\n",
       "</table>\n",
       "<p>9994 rows × 3 columns</p>\n",
       "</div>"
      ],
      "text/plain": [
       "      Ship Date Order Date  During Date\n",
       "0    2016-11-11 2016-11-08  3          \n",
       "1    2016-11-11 2016-11-08  3          \n",
       "2    2016-06-16 2016-06-12  4          \n",
       "3    2015-10-18 2015-10-11  7          \n",
       "4    2015-10-18 2015-10-11  7          \n",
       "...         ...        ... ..          \n",
       "9989 2014-01-23 2014-01-21  2          \n",
       "9990 2017-03-03 2017-02-26  5          \n",
       "9991 2017-03-03 2017-02-26  5          \n",
       "9992 2017-03-03 2017-02-26  5          \n",
       "9993 2017-05-09 2017-05-04  5          \n",
       "\n",
       "[9994 rows x 3 columns]"
      ]
     },
     "execution_count": 38,
     "metadata": {},
     "output_type": "execute_result"
    }
   ],
   "source": [
    "df_order[[\"Ship Date\",\"Order Date\",\"During Date\"]]"
   ]
  },
  {
   "cell_type": "markdown",
   "metadata": {},
   "source": [
    "- 택배의 메타데이터 , 품목데이터 분리"
   ]
  },
  {
   "cell_type": "code",
   "execution_count": 39,
   "metadata": {},
   "outputs": [],
   "source": [
    "ship_df = df_order[[\"Order ID\",\"Order Date\",\"Ship Mode\",\"Segment\",\"City\",\"State\",\"Postal Code\",\"Country\",\"Region\",\"During Date\"]]\n",
    "product_df = df_order[[\"Order ID\",\"Product ID\",\"Category\",\"Sub-Category\",\"Product Name\",\"Sales\",\"Quantity\",\"Discount\",\"Profit\",\"Discount_apply_Sales\"]]"
   ]
  },
  {
   "cell_type": "markdown",
   "metadata": {},
   "source": [
    "- 배송물품 메타데이터 중복 제거"
   ]
  },
  {
   "cell_type": "code",
   "execution_count": 40,
   "metadata": {},
   "outputs": [],
   "source": [
    "unique_ship_df = ship_df.drop_duplicates()"
   ]
  },
  {
   "cell_type": "code",
   "execution_count": 41,
   "metadata": {},
   "outputs": [
    {
     "data": {
      "text/plain": [
       "(5009, 10)"
      ]
     },
     "execution_count": 41,
     "metadata": {},
     "output_type": "execute_result"
    }
   ],
   "source": [
    "unique_ship_df.shape"
   ]
  },
  {
   "cell_type": "markdown",
   "metadata": {},
   "source": [
    "- 물품 배송지 위경도 호출"
   ]
  },
  {
   "cell_type": "code",
   "execution_count": 42,
   "metadata": {},
   "outputs": [
    {
     "data": {
      "text/plain": [
       "'33311,Florida,Fort Lauderdale,United States'"
      ]
     },
     "execution_count": 42,
     "metadata": {},
     "output_type": "execute_result"
    }
   ],
   "source": [
    "\"33311,Florida,Fort Lauderdale,United States\""
   ]
  },
  {
   "cell_type": "code",
   "execution_count": 43,
   "metadata": {},
   "outputs": [],
   "source": [
    "input_data = \"{},{},{},{}\".format(\"33311\" ,\"Florida\" ,\"Fort Lauderdale\",\"United States\")"
   ]
  },
  {
   "cell_type": "code",
   "execution_count": 44,
   "metadata": {},
   "outputs": [
    {
     "data": {
      "text/plain": [
       "'33311,Florida,Fort Lauderdale,United States'"
      ]
     },
     "execution_count": 44,
     "metadata": {},
     "output_type": "execute_result"
    }
   ],
   "source": [
    "input_data"
   ]
  },
  {
   "cell_type": "code",
   "execution_count": 45,
   "metadata": {},
   "outputs": [],
   "source": [
    "from geopy.geocoders import Nominatim\n",
    "import time"
   ]
  },
  {
   "cell_type": "code",
   "execution_count": 46,
   "metadata": {},
   "outputs": [],
   "source": [
    "def get_lat_lon(row):\n",
    "    try:\n",
    "        postal_code = row[\"Postal Code\"]\n",
    "        state = row[\"State\"]\n",
    "        city = row[\"City\"]\n",
    "        country = row[\"Country\"]\n",
    "        time.sleep(0.1)\n",
    "        input_data = \"{} , {} , {},{}\".format(postal_code,city , state,country)\n",
    "        geolocator = Nominatim(user_agent=\"test\")\n",
    "        location = geolocator.geocode(input_data)\n",
    "        print(location.latitude, location.longitude)\n",
    "    except AttributeError as e:\n",
    "        postal_code = row[\"Postal Code\"]\n",
    "        state = row[\"State\"]\n",
    "        city = row[\"City\"]\n",
    "        country = row[\"Country\"]\n",
    "        time.sleep(0.1)\n",
    "        input_data = \"{} , {} , {}\".format(postal_code,city , state)\n",
    "        geolocator = Nominatim(user_agent=\"test\")\n",
    "        location = geolocator.geocode(input_data)\n",
    "        print(location.latitude, location.longitude)\n",
    "        return pd.Series([location.latitude, location.longitude])"
   ]
  },
  {
   "cell_type": "markdown",
   "metadata": {},
   "source": [
    "- 유니크한 배송지 위경도 산출"
   ]
  },
  {
   "cell_type": "code",
   "execution_count": 47,
   "metadata": {},
   "outputs": [],
   "source": [
    "# unique_address_df = unique_ship_df.drop_duplicates(subset=[\"Postal Code\",\"State\",\"City\",\"Country\"])[[\"Postal Code\",\"State\",\"City\",\"Country\"]]\n",
    "# unique_address_df[[\"Ship latitude\",\"Ship longitude\"]] = unique_address_df[[\"Postal Code\",\"State\",\"City\",\"Country\"]].apply(lambda row :get_lat_lon(row),axis=1)"
   ]
  },
  {
   "cell_type": "markdown",
   "metadata": {},
   "source": [
    "- 배송위치 지도 위 표시"
   ]
  },
  {
   "cell_type": "code",
   "execution_count": 48,
   "metadata": {},
   "outputs": [],
   "source": [
    "unique_address_df = pd.read_csv(\"./data/add_lat_lon.csv\")"
   ]
  },
  {
   "cell_type": "code",
   "execution_count": 49,
   "metadata": {},
   "outputs": [
    {
     "data": {
      "text/plain": [
       "Row ID                  int64  \n",
       "Order ID                object \n",
       "Order Date              object \n",
       "Ship Date               object \n",
       "Ship Mode               object \n",
       "Customer ID             object \n",
       "Customer Name           object \n",
       "Segment                 object \n",
       "Country                 object \n",
       "City                    object \n",
       "State                   object \n",
       "Postal Code             int64  \n",
       "Region                  object \n",
       "Product ID              object \n",
       "Category                object \n",
       "Sub-Category            object \n",
       "Product Name            object \n",
       "Sales                   float64\n",
       "Quantity                int64  \n",
       "Discount                float64\n",
       "Profit                  float64\n",
       "Profit_div_Quantity     float64\n",
       "Discount_apply_Sales    float64\n",
       "During Date             int64  \n",
       "Ship latitude           float64\n",
       "Ship longitude          float64\n",
       "dtype: object"
      ]
     },
     "execution_count": 49,
     "metadata": {},
     "output_type": "execute_result"
    }
   ],
   "source": [
    "unique_address_df.dtypes"
   ]
  },
  {
   "cell_type": "code",
   "execution_count": 50,
   "metadata": {},
   "outputs": [],
   "source": [
    "unique_ship_df[\"Postal Code\"] = unique_ship_df[\"Postal Code\"].astype(np.int)"
   ]
  },
  {
   "cell_type": "code",
   "execution_count": null,
   "metadata": {},
   "outputs": [],
   "source": []
  },
  {
   "cell_type": "code",
   "execution_count": null,
   "metadata": {},
   "outputs": [],
   "source": []
  },
  {
   "cell_type": "code",
   "execution_count": null,
   "metadata": {},
   "outputs": [],
   "source": []
  },
  {
   "cell_type": "code",
   "execution_count": null,
   "metadata": {},
   "outputs": [],
   "source": []
  },
  {
   "cell_type": "code",
   "execution_count": null,
   "metadata": {},
   "outputs": [],
   "source": []
  },
  {
   "cell_type": "code",
   "execution_count": null,
   "metadata": {},
   "outputs": [],
   "source": []
  },
  {
   "cell_type": "markdown",
   "metadata": {},
   "source": [
    "- 배송 내 품복데이터 가공"
   ]
  },
  {
   "cell_type": "markdown",
   "metadata": {},
   "source": [
    "- Category컬럼 더미변수 생성"
   ]
  },
  {
   "cell_type": "code",
   "execution_count": null,
   "metadata": {},
   "outputs": [],
   "source": []
  },
  {
   "cell_type": "markdown",
   "metadata": {},
   "source": [
    "- Sub-Category컬럼 더미변수 생성"
   ]
  },
  {
   "cell_type": "code",
   "execution_count": null,
   "metadata": {},
   "outputs": [],
   "source": []
  },
  {
   "cell_type": "markdown",
   "metadata": {},
   "source": [
    "- 수치형변수 데이터타입 변경"
   ]
  },
  {
   "cell_type": "code",
   "execution_count": null,
   "metadata": {},
   "outputs": [],
   "source": []
  },
  {
   "cell_type": "markdown",
   "metadata": {},
   "source": [
    "- 수치형변수 집약함수 사용"
   ]
  },
  {
   "cell_type": "code",
   "execution_count": null,
   "metadata": {},
   "outputs": [],
   "source": []
  },
  {
   "cell_type": "markdown",
   "metadata": {},
   "source": [
    "- 배송 메타정보 & 물품정보 결합"
   ]
  },
  {
   "cell_type": "code",
   "execution_count": null,
   "metadata": {},
   "outputs": [],
   "source": []
  },
  {
   "cell_type": "markdown",
   "metadata": {},
   "source": [
    "- 배송일 기준 Month , Day변수 추가"
   ]
  },
  {
   "cell_type": "code",
   "execution_count": null,
   "metadata": {},
   "outputs": [],
   "source": []
  },
  {
   "cell_type": "markdown",
   "metadata": {},
   "source": [
    "# 모델링"
   ]
  },
  {
   "cell_type": "markdown",
   "metadata": {},
   "source": [
    "- Train & Test셋 분할"
   ]
  },
  {
   "cell_type": "code",
   "execution_count": null,
   "metadata": {},
   "outputs": [],
   "source": []
  },
  {
   "cell_type": "markdown",
   "metadata": {},
   "source": [
    "- Object 타입변수 위치 설정"
   ]
  },
  {
   "cell_type": "code",
   "execution_count": null,
   "metadata": {},
   "outputs": [],
   "source": []
  },
  {
   "cell_type": "markdown",
   "metadata": {},
   "source": [
    "- 모델 생성"
   ]
  },
  {
   "cell_type": "code",
   "execution_count": null,
   "metadata": {},
   "outputs": [],
   "source": []
  },
  {
   "cell_type": "markdown",
   "metadata": {},
   "source": [
    "- 모델 훈련"
   ]
  },
  {
   "cell_type": "code",
   "execution_count": null,
   "metadata": {},
   "outputs": [],
   "source": []
  },
  {
   "cell_type": "markdown",
   "metadata": {},
   "source": [
    "- 목표값 예측"
   ]
  },
  {
   "cell_type": "code",
   "execution_count": null,
   "metadata": {},
   "outputs": [],
   "source": []
  },
  {
   "cell_type": "markdown",
   "metadata": {},
   "source": [
    "- 모델 평가"
   ]
  },
  {
   "cell_type": "code",
   "execution_count": null,
   "metadata": {},
   "outputs": [],
   "source": []
  },
  {
   "cell_type": "markdown",
   "metadata": {},
   "source": [
    "- 변수 중요도 산출"
   ]
  },
  {
   "cell_type": "code",
   "execution_count": null,
   "metadata": {},
   "outputs": [],
   "source": []
  },
  {
   "cell_type": "markdown",
   "metadata": {},
   "source": [
    "- 중요도 산출방법[추가]\n",
    "\n",
    "[Lime_1](https://towardsdatascience.com/decrypting-your-machine-learning-model-using-lime-5adc035109b5)\n",
    "[Lime_2](https://github.com/marcotcr/lime)\n",
    "\n",
    "[Shap_1](https://data-newbie.tistory.com/254)\n",
    "[Shap_2](https://towardsdatascience.com/explain-your-model-with-the-shap-values-bc36aac4de3d)\n"
   ]
  },
  {
   "cell_type": "markdown",
   "metadata": {},
   "source": [
    "# 시계열 데이터 복습"
   ]
  },
  {
   "cell_type": "markdown",
   "metadata": {},
   "source": [
    "## 시계열 데이터 탐색"
   ]
  },
  {
   "cell_type": "code",
   "execution_count": null,
   "metadata": {},
   "outputs": [],
   "source": []
  },
  {
   "cell_type": "markdown",
   "metadata": {},
   "source": [
    "- 주문데이터 기간 확인"
   ]
  },
  {
   "cell_type": "code",
   "execution_count": null,
   "metadata": {},
   "outputs": [],
   "source": []
  },
  {
   "cell_type": "markdown",
   "metadata": {},
   "source": [
    "- 사용 컬럼을 제외한 나머지 컬럼 삭제"
   ]
  },
  {
   "cell_type": "code",
   "execution_count": null,
   "metadata": {},
   "outputs": [],
   "source": []
  },
  {
   "cell_type": "markdown",
   "metadata": {},
   "source": [
    "- Order Date 기준으로 Sorting"
   ]
  },
  {
   "cell_type": "code",
   "execution_count": null,
   "metadata": {},
   "outputs": [],
   "source": []
  },
  {
   "cell_type": "markdown",
   "metadata": {},
   "source": [
    "- 데이터 타입 변환"
   ]
  },
  {
   "cell_type": "code",
   "execution_count": null,
   "metadata": {},
   "outputs": [],
   "source": []
  },
  {
   "cell_type": "markdown",
   "metadata": {},
   "source": [
    "- 날짜 기준으로 당일 판매 총액 데이터 생성"
   ]
  },
  {
   "cell_type": "code",
   "execution_count": null,
   "metadata": {},
   "outputs": [],
   "source": []
  },
  {
   "cell_type": "markdown",
   "metadata": {},
   "source": [
    "- 시계열 데이터로 다루기 위해 날짜 데이터 인덱스 설정"
   ]
  },
  {
   "cell_type": "code",
   "execution_count": null,
   "metadata": {},
   "outputs": [],
   "source": []
  },
  {
   "cell_type": "markdown",
   "metadata": {},
   "source": [
    "- resample함수를 이용해 시간단위를 변경"
   ]
  },
  {
   "cell_type": "code",
   "execution_count": null,
   "metadata": {},
   "outputs": [],
   "source": []
  },
  {
   "cell_type": "markdown",
   "metadata": {},
   "source": [
    "### Cycle(주기)\n",
    "\n",
    "- 주기를 자기상관(autocorrelation)으로 정의하기도 한다. 자기상관은\n",
    "각 시점간의 상관 관계를 의미하며 일정 기간 증가하거나 감소하는 경우 양의 자기상관이 존재한다고 하고 시점마다 증감이 반복되는 경우 이를 음의\n",
    "자기상관이라 한다. "
   ]
  },
  {
   "cell_type": "code",
   "execution_count": 47,
   "metadata": {},
   "outputs": [
    {
     "ename": "NameError",
     "evalue": "name 'y' is not defined",
     "output_type": "error",
     "traceback": [
      "\u001b[1;31m---------------------------------------------------------------------------\u001b[0m",
      "\u001b[1;31mNameError\u001b[0m                                 Traceback (most recent call last)",
      "\u001b[1;32m<ipython-input-47-a14767594ca6>\u001b[0m in \u001b[0;36m<module>\u001b[1;34m\u001b[0m\n\u001b[0;32m      3\u001b[0m \u001b[0mlayout\u001b[0m \u001b[1;33m=\u001b[0m \u001b[1;33m(\u001b[0m\u001b[1;36m1\u001b[0m\u001b[1;33m,\u001b[0m\u001b[1;36m2\u001b[0m\u001b[1;33m)\u001b[0m\u001b[1;33m\u001b[0m\u001b[1;33m\u001b[0m\u001b[0m\n\u001b[0;32m      4\u001b[0m \u001b[0macf_ax\u001b[0m \u001b[1;33m=\u001b[0m \u001b[0mplt\u001b[0m\u001b[1;33m.\u001b[0m\u001b[0msubplot2grid\u001b[0m\u001b[1;33m(\u001b[0m\u001b[0mlayout\u001b[0m\u001b[1;33m,\u001b[0m \u001b[1;33m(\u001b[0m\u001b[1;36m0\u001b[0m\u001b[1;33m,\u001b[0m\u001b[1;36m0\u001b[0m\u001b[1;33m)\u001b[0m\u001b[1;33m,\u001b[0m\u001b[0mcolspan\u001b[0m\u001b[1;33m=\u001b[0m\u001b[1;36m2\u001b[0m\u001b[1;33m)\u001b[0m\u001b[1;33m\u001b[0m\u001b[1;33m\u001b[0m\u001b[0m\n\u001b[1;32m----> 5\u001b[1;33m \u001b[0msmt\u001b[0m\u001b[1;33m.\u001b[0m\u001b[0mgraphics\u001b[0m\u001b[1;33m.\u001b[0m\u001b[0mplot_acf\u001b[0m\u001b[1;33m(\u001b[0m\u001b[0my\u001b[0m\u001b[1;33m,\u001b[0m \u001b[0mlags\u001b[0m\u001b[1;33m=\u001b[0m\u001b[0mlags\u001b[0m\u001b[1;33m,\u001b[0m \u001b[0max\u001b[0m\u001b[1;33m=\u001b[0m\u001b[0macf_ax\u001b[0m\u001b[1;33m)\u001b[0m\u001b[1;33m\u001b[0m\u001b[1;33m\u001b[0m\u001b[0m\n\u001b[0m\u001b[0;32m      6\u001b[0m \u001b[0mplt\u001b[0m\u001b[1;33m.\u001b[0m\u001b[0mtight_layout\u001b[0m\u001b[1;33m(\u001b[0m\u001b[1;33m)\u001b[0m\u001b[1;33m\u001b[0m\u001b[1;33m\u001b[0m\u001b[0m\n",
      "\u001b[1;31mNameError\u001b[0m: name 'y' is not defined"
     ]
    },
    {
     "data": {
      "image/png": "[encoded data removed]",
      "text/plain": [
       "<Figure size 1080x720 with 1 Axes>"
      ]
     },
     "metadata": {
      "needs_background": "light"
     },
     "output_type": "display_data"
    }
   ],
   "source": [
    "lags=30\n",
    "fig = plt.figure(figsize=(15,10))\n",
    "layout = (1,2)\n",
    "acf_ax = plt.subplot2grid(layout, (0,0),colspan=2)\n",
    "smt.graphics.plot_acf(y, lags=lags, ax=acf_ax)\n",
    "plt.tight_layout()"
   ]
  },
  {
   "cell_type": "markdown",
   "metadata": {},
   "source": [
    "### Seasonality(계절성) \n",
    "- 계절성은 주기적 변동을 나타냅니다. \n",
    "- 일년중 2월과 8월에 원룸 대학가 주변의 원룸계약건수가 높거나 , 대형마트의 물건판매량이 7~9시에 높아진것을 예로들수 있습니다."
   ]
  },
  {
   "cell_type": "markdown",
   "metadata": {},
   "source": [
    "### Stationarity\n",
    "- Stationarity성은 시계열의 중요한 특성입니다. 시계열데이터가 Stationarity하다는 것은 시간이 변해도 평균과 분산은 일정합니다.\n",
    "- 고전 시계열 모델은 Stationarity조건을 가정하는 경우가 많습니다."
   ]
  },
  {
   "cell_type": "markdown",
   "metadata": {},
   "source": [
    "#### Augmented Dickey-Fuller test\n",
    "- 귀무 가설 (H0) : 시간 t의 변화에 따라 분산이 무한대로 발산\n",
    "- 대립 가설 (H1) : 시간 t의 변화에 따라 평균 , 분산이 변하지 않음.\n",
    "- p-value> 0.05 : 귀무 가설 (H0)을 기각 할 수 없습니다. Stationarity하지 않습니다.\n",
    "- p-value <= 0.05 : 귀무 가설 (H0)을 기각합니다. Stationarity상태입니다."
   ]
  },
  {
   "cell_type": "code",
   "execution_count": null,
   "metadata": {},
   "outputs": [],
   "source": [
    "print(\"adf 검정통계량 : {0:.5f}\".format(sm.tsa.stattools.adfuller(y)[0]))\n",
    "print(\"p-value : {0:.5f}\".format(sm.tsa.stattools.adfuller(y)[1]))"
   ]
  },
  {
   "cell_type": "code",
   "execution_count": null,
   "metadata": {},
   "outputs": [],
   "source": [
    "# 시계열 덧셈 분해 후 Trend /  Seasonal / Residual 로 구분\n",
    "from pylab import rcParams\n",
    "rcParams['figure.figsize'] = 20, 10\n",
    "decomposition = sm.tsa.seasonal_decompose(y, model='additive')\n",
    "fig = decomposition.plot()\n",
    "plt.show()"
   ]
  },
  {
   "cell_type": "markdown",
   "metadata": {},
   "source": [
    "### 시계열 전처리\n",
    "\n",
    "- [결측치 처리](https://towardsdatascience.com/how-to-interpolate-time-series-data-in-apache-spark-and-python-pandas-part-1-pandas-cff54d76a2ea)\n",
    "- [이상치 탐지](#https://github.com/susanli2016/Machine-Learning-with-Python/blob/master/Time%20Series%20of%20Price%20Anomaly%20Detection%20Expedia.ipynb)\n"
   ]
  },
  {
   "cell_type": "markdown",
   "metadata": {},
   "source": [
    "## 시계열 모델링\n",
    "\n",
    "- Moving average(이동평균)"
   ]
  },
  {
   "cell_type": "markdown",
   "metadata": {},
   "source": [
    "### 이동평균(Moving Average)"
   ]
  },
  {
   "cell_type": "code",
   "execution_count": null,
   "metadata": {},
   "outputs": [],
   "source": [
    "def plot_moving_average(series, window, plot_intervals=False, scale=1.96):\n",
    "\n",
    "    rolling_mean = series.rolling(window=window).mean()\n",
    "    \n",
    "    plt.figure(figsize=(17,8))\n",
    "    plt.title('Moving average\\n window size = {}'.format(window))\n",
    "    plt.plot(rolling_mean, 'g', label='Rolling mean trend')\n",
    "    \n",
    "    #Plot confidence intervals for smoothed values\n",
    "    if plot_intervals:\n",
    "        mae = mean_absolute_error(series[window:], rolling_mean[window:])\n",
    "        deviation = np.std(series[window:] - rolling_mean[window:])\n",
    "        lower_bound = rolling_mean - (mae + scale * deviation)\n",
    "        upper_bound = rolling_mean + (mae + scale * deviation)\n",
    "        plt.plot(upper_bound, 'r--', label='Upper bound / Lower bound')\n",
    "        plt.plot(lower_bound, 'r--')\n",
    "            \n",
    "    plt.plot(series[window:], label='Actual values')\n",
    "    plt.legend(loc='best')\n",
    "    plt.grid(True)"
   ]
  },
  {
   "cell_type": "code",
   "execution_count": null,
   "metadata": {},
   "outputs": [],
   "source": [
    "plot_moving_average(y, 5)"
   ]
  },
  {
   "cell_type": "code",
   "execution_count": null,
   "metadata": {},
   "outputs": [],
   "source": [
    "plot_moving_average(y, 12)"
   ]
  },
  {
   "cell_type": "markdown",
   "metadata": {},
   "source": [
    "### Prophet 패키지를 이용한 예측"
   ]
  },
  {
   "cell_type": "code",
   "execution_count": null,
   "metadata": {},
   "outputs": [],
   "source": [
    "m = Prophet()\n",
    "m.fit(prophet_input_df)\n",
    "future = m.make_future_dataframe(periods=12,freq=\"MS\")\n",
    "future.tail()\n",
    "\n",
    "forecast = m.predict(future)\n",
    "forecast.tail()"
   ]
  }
 ],
 "metadata": {
  "kernelspec": {
   "display_name": "Python 3",
   "language": "python",
   "name": "python3"
  },
  "language_info": {
   "codemirror_mode": {
    "name": "ipython",
    "version": 3
   },
   "file_extension": ".py",
   "mimetype": "text/x-python",
   "name": "python",
   "nbconvert_exporter": "python",
   "pygments_lexer": "ipython3",
   "version": "3.8.5"
  }
 },
 "nbformat": 4,
 "nbformat_minor": 4
}
